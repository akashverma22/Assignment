{
 "cells": [
  {
   "cell_type": "code",
   "execution_count": 1,
   "id": "d20fa5aa",
   "metadata": {},
   "outputs": [],
   "source": [
    "import pandas as pd\n",
    "import pickle\n",
    "import streamlit as st\n",
    "import warnings\n",
    "warnings.filterwarnings('ignore')\n",
    "from sklearn.preprocessing import OrdinalEncoder\n",
    "ord_enc=OrdinalEncoder()"
   ]
  },
  {
   "cell_type": "code",
   "execution_count": 2,
   "id": "cf5ad83a",
   "metadata": {},
   "outputs": [],
   "source": [
    "model=pickle.load(open('log_1.pkl','rb'))"
   ]
  },
  {
   "cell_type": "code",
   "execution_count": 3,
   "id": "3c369500",
   "metadata": {},
   "outputs": [
    {
     "data": {
      "text/html": [
       "<style>#sk-container-id-1 {color: black;}#sk-container-id-1 pre{padding: 0;}#sk-container-id-1 div.sk-toggleable {background-color: white;}#sk-container-id-1 label.sk-toggleable__label {cursor: pointer;display: block;width: 100%;margin-bottom: 0;padding: 0.3em;box-sizing: border-box;text-align: center;}#sk-container-id-1 label.sk-toggleable__label-arrow:before {content: \"▸\";float: left;margin-right: 0.25em;color: #696969;}#sk-container-id-1 label.sk-toggleable__label-arrow:hover:before {color: black;}#sk-container-id-1 div.sk-estimator:hover label.sk-toggleable__label-arrow:before {color: black;}#sk-container-id-1 div.sk-toggleable__content {max-height: 0;max-width: 0;overflow: hidden;text-align: left;background-color: #f0f8ff;}#sk-container-id-1 div.sk-toggleable__content pre {margin: 0.2em;color: black;border-radius: 0.25em;background-color: #f0f8ff;}#sk-container-id-1 input.sk-toggleable__control:checked~div.sk-toggleable__content {max-height: 200px;max-width: 100%;overflow: auto;}#sk-container-id-1 input.sk-toggleable__control:checked~label.sk-toggleable__label-arrow:before {content: \"▾\";}#sk-container-id-1 div.sk-estimator input.sk-toggleable__control:checked~label.sk-toggleable__label {background-color: #d4ebff;}#sk-container-id-1 div.sk-label input.sk-toggleable__control:checked~label.sk-toggleable__label {background-color: #d4ebff;}#sk-container-id-1 input.sk-hidden--visually {border: 0;clip: rect(1px 1px 1px 1px);clip: rect(1px, 1px, 1px, 1px);height: 1px;margin: -1px;overflow: hidden;padding: 0;position: absolute;width: 1px;}#sk-container-id-1 div.sk-estimator {font-family: monospace;background-color: #f0f8ff;border: 1px dotted black;border-radius: 0.25em;box-sizing: border-box;margin-bottom: 0.5em;}#sk-container-id-1 div.sk-estimator:hover {background-color: #d4ebff;}#sk-container-id-1 div.sk-parallel-item::after {content: \"\";width: 100%;border-bottom: 1px solid gray;flex-grow: 1;}#sk-container-id-1 div.sk-label:hover label.sk-toggleable__label {background-color: #d4ebff;}#sk-container-id-1 div.sk-serial::before {content: \"\";position: absolute;border-left: 1px solid gray;box-sizing: border-box;top: 0;bottom: 0;left: 50%;z-index: 0;}#sk-container-id-1 div.sk-serial {display: flex;flex-direction: column;align-items: center;background-color: white;padding-right: 0.2em;padding-left: 0.2em;position: relative;}#sk-container-id-1 div.sk-item {position: relative;z-index: 1;}#sk-container-id-1 div.sk-parallel {display: flex;align-items: stretch;justify-content: center;background-color: white;position: relative;}#sk-container-id-1 div.sk-item::before, #sk-container-id-1 div.sk-parallel-item::before {content: \"\";position: absolute;border-left: 1px solid gray;box-sizing: border-box;top: 0;bottom: 0;left: 50%;z-index: -1;}#sk-container-id-1 div.sk-parallel-item {display: flex;flex-direction: column;z-index: 1;position: relative;background-color: white;}#sk-container-id-1 div.sk-parallel-item:first-child::after {align-self: flex-end;width: 50%;}#sk-container-id-1 div.sk-parallel-item:last-child::after {align-self: flex-start;width: 50%;}#sk-container-id-1 div.sk-parallel-item:only-child::after {width: 0;}#sk-container-id-1 div.sk-dashed-wrapped {border: 1px dashed gray;margin: 0 0.4em 0.5em 0.4em;box-sizing: border-box;padding-bottom: 0.4em;background-color: white;}#sk-container-id-1 div.sk-label label {font-family: monospace;font-weight: bold;display: inline-block;line-height: 1.2em;}#sk-container-id-1 div.sk-label-container {text-align: center;}#sk-container-id-1 div.sk-container {/* jupyter's `normalize.less` sets `[hidden] { display: none; }` but bootstrap.min.css set `[hidden] { display: none !important; }` so we also need the `!important` here to be able to override the default hidden behavior on the sphinx rendered scikit-learn.org. See: https://github.com/scikit-learn/scikit-learn/issues/21755 */display: inline-block !important;position: relative;}#sk-container-id-1 div.sk-text-repr-fallback {display: none;}</style><div id=\"sk-container-id-1\" class=\"sk-top-container\"><div class=\"sk-text-repr-fallback\"><pre>LogisticRegression()</pre><b>In a Jupyter environment, please rerun this cell to show the HTML representation or trust the notebook. <br />On GitHub, the HTML representation is unable to render, please try loading this page with nbviewer.org.</b></div><div class=\"sk-container\" hidden><div class=\"sk-item\"><div class=\"sk-estimator sk-toggleable\"><input class=\"sk-toggleable__control sk-hidden--visually\" id=\"sk-estimator-id-1\" type=\"checkbox\" checked><label for=\"sk-estimator-id-1\" class=\"sk-toggleable__label sk-toggleable__label-arrow\">LogisticRegression</label><div class=\"sk-toggleable__content\"><pre>LogisticRegression()</pre></div></div></div></div></div>"
      ],
      "text/plain": [
       "LogisticRegression()"
      ]
     },
     "execution_count": 3,
     "metadata": {},
     "output_type": "execute_result"
    }
   ],
   "source": [
    "model"
   ]
  },
  {
   "cell_type": "code",
   "execution_count": 4,
   "id": "7f74f60a",
   "metadata": {},
   "outputs": [
    {
     "name": "stderr",
     "output_type": "stream",
     "text": [
      "2024-10-02 17:54:40.808 \n",
      "  \u001b[33m\u001b[1mWarning:\u001b[0m to view this Streamlit app on a browser, run it with the following\n",
      "  command:\n",
      "\n",
      "    streamlit run C:\\Users\\HP\\anaconda3\\Lib\\site-packages\\ipykernel_launcher.py [ARGUMENTS]\n"
     ]
    },
    {
     "data": {
      "text/plain": [
       "DeltaGenerator()"
      ]
     },
     "execution_count": 4,
     "metadata": {},
     "output_type": "execute_result"
    }
   ],
   "source": [
    "st.title('Model Deployment')"
   ]
  },
  {
   "cell_type": "code",
   "execution_count": 5,
   "id": "a773c480",
   "metadata": {},
   "outputs": [
    {
     "name": "stderr",
     "output_type": "stream",
     "text": [
      "2024-10-02 17:54:40.835 Session state does not function when running a script without `streamlit run`\n"
     ]
    }
   ],
   "source": [
    "def user_input_parameters():\n",
    "    Pclass=st.sidebar.number_input('Enter the Passenger Class')\n",
    "    Age=st.sidebar.number_input('Enter Age of Passenger')\n",
    "    SibSp=st.sidebar.number_input('Enter SibSp')\n",
    "    Parch=st.sidebar.number_input('Enter Parch')\n",
    "    Ticket=st.sidebar.text_input('Enter the Ticket number')\n",
    "    Fare=st.sidebar.number_input('Enter the Fare')\n",
    "    Cabin=st.sidebar.text_input('Enter the Cabin')\n",
    "    Embarked=st.sidebar.text_input('Enter Embarked')\n",
    "    Sex_female=st.sidebar.number_input('Enter 0 if yes')\n",
    "    Sex_male=st.sidebar.number_input('Enter 1 if yes')\n",
    "    data={'Pclass':Pclass,'Age':Age,'SibSp':SibSp,'Parch':Parch,'Ticket':Ticket,'Fare':Fare,'Cabin':Cabin,'Embarked':Embarked,'Sex_female':Sex_female,'Sex_male':Sex_male}\n",
    "    features=pd.DataFrame(data,index=[0])\n",
    "    features['Ticket']=ord_enc.fit_transform(features[['Ticket']])\n",
    "    features['Cabin']=ord_enc.fit_transform(features[['Cabin']])\n",
    "    features['Embarked']=ord_enc.fit_transform(features[['Embarked']])\n",
    "    return features\n",
    "df=user_input_parameters()\n",
    "st.subheader('User_input_Parameters')\n",
    "st.write(df)\n",
    "\n",
    "predict=model.predict(df)\n",
    "predict_proba=model.predict_proba(df)\n",
    "\n",
    "st.subheader('Survival Prediction')\n",
    "st.write('Yes' if predict_proba[0][1]>0.5 else 'No')"
   ]
  },
  {
   "cell_type": "code",
   "execution_count": 1,
   "id": "56eae80c",
   "metadata": {},
   "outputs": [],
   "source": [
    "## Please copy paste the URL in web browser to get the model prediction: http://192.168.1.7:8501"
   ]
  },
  {
   "cell_type": "markdown",
   "id": "7832320d",
   "metadata": {},
   "source": [
    "# Interview Questions"
   ]
  },
  {
   "cell_type": "markdown",
   "id": "138d19e2",
   "metadata": {},
   "source": [
    "#### What is the difference between precision and recall?"
   ]
  },
  {
   "cell_type": "code",
   "execution_count": 2,
   "id": "e4ae4a52",
   "metadata": {},
   "outputs": [],
   "source": [
    "## Precision is calculated as True Positive / Actual results means percentage of results which are relevant, whereas\n",
    "## Recall is True Positive / Predicted results means percentage of total relevant results correctly classified by algorithm."
   ]
  },
  {
   "cell_type": "markdown",
   "id": "57657c9f",
   "metadata": {},
   "source": [
    "#### What is cross-validation, and why is it important in binary classification?"
   ]
  },
  {
   "cell_type": "code",
   "execution_count": 3,
   "id": "7ccdc969",
   "metadata": {},
   "outputs": [],
   "source": [
    "## Cross validation is a technique used in machine learning to evaluate the performance of a model on testing data. This\n",
    "## involves dividing the data into multiple folds, evaluating the model on one and training on the remaining data of each\n",
    "## fold. This process is repeated for all the folds. Cross-validation is of three types, 1. Leave one out, 2. K-fold,\n",
    "## 3. Stratified K-fold\n",
    "## Leave one out - One row is for testing while remaining are for training in split 1. In split 2 a different row becomes\n",
    "## testing while remaining for training. Process continues till every row is considered as testing data.\n",
    "## K-fold - K is hyperparameter. Suppose if K is 5 and we have 100 rows in original dataset. 5 splits are created each having\n",
    "## 20 rows. In split 1, first 20 rows will be testing while remaining 80 will be for training. In split 2 next 20 will be\n",
    "## for testing while remaining for training. Process continues.\n",
    "## Stratified K-fold - Suppose we have class one as 0 and class two as 1. We have 10 rows for class 0 and 90 rows for class 1\n",
    "## in a data of 100 rows. Every split will contain both the classes.\n",
    "## Cross validation is important in binary classification as most of the time the data is highly imbalance (one of the class\n",
    "## is less and other). Because of this when we perform train test split, there is a possibility that lesser class data will\n",
    "## not at all be there for training or maybe very less data was given for training, so the model may not predict this class\n",
    "## correctly while performing testing."
   ]
  }
 ],
 "metadata": {
  "kernelspec": {
   "display_name": "Python 3 (ipykernel)",
   "language": "python",
   "name": "python3"
  },
  "language_info": {
   "codemirror_mode": {
    "name": "ipython",
    "version": 3
   },
   "file_extension": ".py",
   "mimetype": "text/x-python",
   "name": "python",
   "nbconvert_exporter": "python",
   "pygments_lexer": "ipython3",
   "version": "3.11.5"
  }
 },
 "nbformat": 4,
 "nbformat_minor": 5
}

{
 "cells": [
  {
   "cell_type": "markdown",
   "id": "9ab7fc0c",
   "metadata": {},
   "source": [
    "# HYPOTHESIS TESTING"
   ]
  },
  {
   "cell_type": "code",
   "execution_count": 1,
   "id": "95e7889c",
   "metadata": {},
   "outputs": [],
   "source": [
    "## Given data\n",
    "sample_mean=3050\n",
    "pop_mean=(1000+5*600)\n",
    "pop_std=5*25\n",
    "n=25\n",
    "## n is sample size"
   ]
  },
  {
   "cell_type": "code",
   "execution_count": 2,
   "id": "9edb8c09",
   "metadata": {},
   "outputs": [],
   "source": [
    "# State the Hypotheses statement"
   ]
  },
  {
   "cell_type": "code",
   "execution_count": 3,
   "id": "89836ae4",
   "metadata": {},
   "outputs": [],
   "source": [
    "## null_hypothesis = There is no change in weekly operating cost\n",
    "## alternate_hypothesis = Weekly operation cost has increased"
   ]
  },
  {
   "cell_type": "code",
   "execution_count": 4,
   "id": "31708ae9",
   "metadata": {},
   "outputs": [],
   "source": [
    "# Calculate the Test Statistic"
   ]
  },
  {
   "cell_type": "code",
   "execution_count": 5,
   "id": "60d5b38f",
   "metadata": {},
   "outputs": [],
   "source": [
    "## as per Central Limit Theorem sample_standard_deviation = population_standard_deviation/square root of sample size"
   ]
  },
  {
   "cell_type": "code",
   "execution_count": 6,
   "id": "44d38c02",
   "metadata": {},
   "outputs": [],
   "source": [
    "import numpy as np"
   ]
  },
  {
   "cell_type": "code",
   "execution_count": 7,
   "id": "51a23c11",
   "metadata": {},
   "outputs": [],
   "source": [
    "sample_std=pop_std/np.sqrt(n)"
   ]
  },
  {
   "cell_type": "code",
   "execution_count": 8,
   "id": "2c5a375c",
   "metadata": {},
   "outputs": [
    {
     "data": {
      "text/plain": [
       "-190.0"
      ]
     },
     "execution_count": 8,
     "metadata": {},
     "output_type": "execute_result"
    }
   ],
   "source": [
    "tstats= (sample_mean-pop_mean)/(sample_std/np.sqrt(n))\n",
    "tstats"
   ]
  },
  {
   "cell_type": "code",
   "execution_count": 9,
   "id": "aacac2ed",
   "metadata": {},
   "outputs": [],
   "source": [
    "## Test statistic value is -190"
   ]
  },
  {
   "cell_type": "code",
   "execution_count": 10,
   "id": "2a7ca44f",
   "metadata": {},
   "outputs": [],
   "source": [
    "# Determine the z-critical Value"
   ]
  },
  {
   "cell_type": "code",
   "execution_count": 12,
   "id": "f2a9e807",
   "metadata": {},
   "outputs": [],
   "source": [
    "## alpha = 0.05\n",
    "import scipy.stats as stats"
   ]
  },
  {
   "cell_type": "code",
   "execution_count": 13,
   "id": "0b199671",
   "metadata": {},
   "outputs": [
    {
     "data": {
      "text/plain": [
       "1.959963984540054"
      ]
     },
     "execution_count": 13,
     "metadata": {},
     "output_type": "execute_result"
    }
   ],
   "source": [
    "stats.norm.ppf(1-0.05/2)"
   ]
  },
  {
   "cell_type": "code",
   "execution_count": 14,
   "id": "54b83638",
   "metadata": {},
   "outputs": [],
   "source": [
    "## z-critical value at alpha level 5% is 1.96 which means confidence interval range is (-1.96,1.96)"
   ]
  },
  {
   "cell_type": "code",
   "execution_count": 15,
   "id": "cbf51597",
   "metadata": {},
   "outputs": [],
   "source": [
    "# Make a Decision"
   ]
  },
  {
   "cell_type": "code",
   "execution_count": 18,
   "id": "238c22a1",
   "metadata": {},
   "outputs": [
    {
     "data": {
      "text/plain": [
       "-38.0"
      ]
     },
     "execution_count": 18,
     "metadata": {},
     "output_type": "execute_result"
    }
   ],
   "source": [
    "## first we calculate the z-score\n",
    "z_score=(sample_mean-pop_mean)/(pop_std/np.sqrt(n))\n",
    "z_score"
   ]
  },
  {
   "cell_type": "code",
   "execution_count": 19,
   "id": "bb428433",
   "metadata": {},
   "outputs": [],
   "source": [
    "## since z_score does not lie within the confidence interval range of (-1.96,1.96) we need to reject null_hypothesis"
   ]
  },
  {
   "cell_type": "code",
   "execution_count": 20,
   "id": "90b0e62b",
   "metadata": {},
   "outputs": [],
   "source": [
    "# Conclusion"
   ]
  },
  {
   "cell_type": "code",
   "execution_count": 22,
   "id": "edf60816",
   "metadata": {},
   "outputs": [],
   "source": [
    "## We can conclude there is strong evidence to support the restaurant owners' claim that the weekly operating costs are\n",
    "## higher than the model suggests"
   ]
  },
  {
   "cell_type": "markdown",
   "id": "377530d3",
   "metadata": {},
   "source": [
    "# CHI-SQUARE TEST"
   ]
  },
  {
   "cell_type": "code",
   "execution_count": 28,
   "id": "3aca8b74",
   "metadata": {},
   "outputs": [],
   "source": [
    "# State the Hypotheses"
   ]
  },
  {
   "cell_type": "code",
   "execution_count": 29,
   "id": "527ecd83",
   "metadata": {},
   "outputs": [],
   "source": [
    "## null_hypothesis = No significant association between type of smart home device purchased and customer satisfaction level\n",
    "## alternate_hypothesis = There is significant association between type of smart home device purchased and customer satisfaction level"
   ]
  },
  {
   "cell_type": "code",
   "execution_count": 30,
   "id": "1d605005",
   "metadata": {},
   "outputs": [],
   "source": [
    "# Compute the Chi-Square Statistic"
   ]
  },
  {
   "cell_type": "code",
   "execution_count": 23,
   "id": "025264dd",
   "metadata": {},
   "outputs": [],
   "source": [
    "import pandas as pd"
   ]
  },
  {
   "cell_type": "code",
   "execution_count": 34,
   "id": "976891dd",
   "metadata": {},
   "outputs": [],
   "source": [
    "## saved the given data from word file to excel and imported using pandas\n",
    "data=pd.read_csv(r'C:\\D Drive\\Data_Science\\01 Assignments\\04 Hypothesis testing\\Chisquare_excel.csv')"
   ]
  },
  {
   "cell_type": "code",
   "execution_count": 27,
   "id": "7b837789",
   "metadata": {},
   "outputs": [
    {
     "data": {
      "text/html": [
       "<div>\n",
       "<style scoped>\n",
       "    .dataframe tbody tr th:only-of-type {\n",
       "        vertical-align: middle;\n",
       "    }\n",
       "\n",
       "    .dataframe tbody tr th {\n",
       "        vertical-align: top;\n",
       "    }\n",
       "\n",
       "    .dataframe thead th {\n",
       "        text-align: right;\n",
       "    }\n",
       "</style>\n",
       "<table border=\"1\" class=\"dataframe\">\n",
       "  <thead>\n",
       "    <tr style=\"text-align: right;\">\n",
       "      <th></th>\n",
       "      <th>Satisfaction</th>\n",
       "      <th>Smart Thermostat</th>\n",
       "      <th>Smart Light</th>\n",
       "    </tr>\n",
       "  </thead>\n",
       "  <tbody>\n",
       "    <tr>\n",
       "      <th>0</th>\n",
       "      <td>Very Satisfied</td>\n",
       "      <td>50</td>\n",
       "      <td>70</td>\n",
       "    </tr>\n",
       "    <tr>\n",
       "      <th>1</th>\n",
       "      <td>Satisfied</td>\n",
       "      <td>80</td>\n",
       "      <td>100</td>\n",
       "    </tr>\n",
       "    <tr>\n",
       "      <th>2</th>\n",
       "      <td>Neutral</td>\n",
       "      <td>60</td>\n",
       "      <td>90</td>\n",
       "    </tr>\n",
       "    <tr>\n",
       "      <th>3</th>\n",
       "      <td>Unsatisfied</td>\n",
       "      <td>30</td>\n",
       "      <td>50</td>\n",
       "    </tr>\n",
       "    <tr>\n",
       "      <th>4</th>\n",
       "      <td>Very Unsatisfied</td>\n",
       "      <td>20</td>\n",
       "      <td>50</td>\n",
       "    </tr>\n",
       "  </tbody>\n",
       "</table>\n",
       "</div>"
      ],
      "text/plain": [
       "       Satisfaction  Smart Thermostat  Smart Light\n",
       "0    Very Satisfied                50           70\n",
       "1         Satisfied                80          100\n",
       "2           Neutral                60           90\n",
       "3       Unsatisfied                30           50\n",
       "4  Very Unsatisfied                20           50"
      ]
     },
     "execution_count": 27,
     "metadata": {},
     "output_type": "execute_result"
    }
   ],
   "source": [
    "data"
   ]
  },
  {
   "cell_type": "code",
   "execution_count": 35,
   "id": "a0e7ea63",
   "metadata": {},
   "outputs": [
    {
     "data": {
      "text/html": [
       "<div>\n",
       "<style scoped>\n",
       "    .dataframe tbody tr th:only-of-type {\n",
       "        vertical-align: middle;\n",
       "    }\n",
       "\n",
       "    .dataframe tbody tr th {\n",
       "        vertical-align: top;\n",
       "    }\n",
       "\n",
       "    .dataframe thead th {\n",
       "        text-align: right;\n",
       "    }\n",
       "</style>\n",
       "<table border=\"1\" class=\"dataframe\">\n",
       "  <thead>\n",
       "    <tr style=\"text-align: right;\">\n",
       "      <th></th>\n",
       "      <th>Smart Thermostat</th>\n",
       "      <th>Smart Light</th>\n",
       "    </tr>\n",
       "    <tr>\n",
       "      <th>Satisfaction</th>\n",
       "      <th></th>\n",
       "      <th></th>\n",
       "    </tr>\n",
       "  </thead>\n",
       "  <tbody>\n",
       "    <tr>\n",
       "      <th>Very Satisfied</th>\n",
       "      <td>50</td>\n",
       "      <td>70</td>\n",
       "    </tr>\n",
       "    <tr>\n",
       "      <th>Satisfied</th>\n",
       "      <td>80</td>\n",
       "      <td>100</td>\n",
       "    </tr>\n",
       "    <tr>\n",
       "      <th>Neutral</th>\n",
       "      <td>60</td>\n",
       "      <td>90</td>\n",
       "    </tr>\n",
       "    <tr>\n",
       "      <th>Unsatisfied</th>\n",
       "      <td>30</td>\n",
       "      <td>50</td>\n",
       "    </tr>\n",
       "    <tr>\n",
       "      <th>Very Unsatisfied</th>\n",
       "      <td>20</td>\n",
       "      <td>50</td>\n",
       "    </tr>\n",
       "  </tbody>\n",
       "</table>\n",
       "</div>"
      ],
      "text/plain": [
       "                  Smart Thermostat  Smart Light\n",
       "Satisfaction                                   \n",
       "Very Satisfied                  50           70\n",
       "Satisfied                       80          100\n",
       "Neutral                         60           90\n",
       "Unsatisfied                     30           50\n",
       "Very Unsatisfied                20           50"
      ]
     },
     "execution_count": 35,
     "metadata": {},
     "output_type": "execute_result"
    }
   ],
   "source": [
    "data.set_index('Satisfaction',inplace=True)\n",
    "data"
   ]
  },
  {
   "cell_type": "code",
   "execution_count": 36,
   "id": "5ea7a89c",
   "metadata": {},
   "outputs": [],
   "source": [
    "import scipy.stats as stats"
   ]
  },
  {
   "cell_type": "code",
   "execution_count": 37,
   "id": "34a39584",
   "metadata": {},
   "outputs": [
    {
     "data": {
      "text/plain": [
       "Chi2ContingencyResult(statistic=5.638227513227513, pvalue=0.22784371130697179, dof=4, expected_freq=array([[ 48.,  72.],\n",
       "       [ 72., 108.],\n",
       "       [ 60.,  90.],\n",
       "       [ 32.,  48.],\n",
       "       [ 28.,  42.]]))"
      ]
     },
     "execution_count": 37,
     "metadata": {},
     "output_type": "execute_result"
    }
   ],
   "source": [
    "stats.chi2_contingency(data)"
   ]
  },
  {
   "cell_type": "code",
   "execution_count": 38,
   "id": "ec8e9e68",
   "metadata": {},
   "outputs": [],
   "source": [
    "## from above code Chi_square statstistic value is 5.638"
   ]
  },
  {
   "cell_type": "code",
   "execution_count": 39,
   "id": "423669e1",
   "metadata": {},
   "outputs": [],
   "source": [
    "# Determine the Critical Value"
   ]
  },
  {
   "cell_type": "code",
   "execution_count": 40,
   "id": "9976b4d3",
   "metadata": {},
   "outputs": [],
   "source": [
    "## alpha = 0.05\n",
    "## degree of freedom = (dof of row)*(dof of column) = (5-1)*(2-1) = 4"
   ]
  },
  {
   "cell_type": "code",
   "execution_count": 41,
   "id": "47b46852",
   "metadata": {},
   "outputs": [
    {
     "data": {
      "text/plain": [
       "9.487729036781154"
      ]
     },
     "execution_count": 41,
     "metadata": {},
     "output_type": "execute_result"
    }
   ],
   "source": [
    "stats.chi2.ppf(1-0.05,4)"
   ]
  },
  {
   "cell_type": "code",
   "execution_count": 42,
   "id": "465b9a70",
   "metadata": {},
   "outputs": [],
   "source": [
    "## as per above critical value confidence interval range at alpha=0.05 is (-9.488,9.488)"
   ]
  },
  {
   "cell_type": "code",
   "execution_count": 43,
   "id": "69ce24da",
   "metadata": {},
   "outputs": [],
   "source": [
    "# Make a Decision"
   ]
  },
  {
   "cell_type": "code",
   "execution_count": 44,
   "id": "94956b11",
   "metadata": {},
   "outputs": [],
   "source": [
    "## Since the Chi_square statstistic value lies with the confidence interval range we fail to reject null_hypothesis"
   ]
  },
  {
   "cell_type": "code",
   "execution_count": 45,
   "id": "e78740a0",
   "metadata": {},
   "outputs": [],
   "source": [
    "# Conclusion - There is no significant association between type of smart home device purchased and customer satisfaction level"
   ]
  }
 ],
 "metadata": {
  "kernelspec": {
   "display_name": "Python 3 (ipykernel)",
   "language": "python",
   "name": "python3"
  },
  "language_info": {
   "codemirror_mode": {
    "name": "ipython",
    "version": 3
   },
   "file_extension": ".py",
   "mimetype": "text/x-python",
   "name": "python",
   "nbconvert_exporter": "python",
   "pygments_lexer": "ipython3",
   "version": "3.11.5"
  }
 },
 "nbformat": 4,
 "nbformat_minor": 5
}

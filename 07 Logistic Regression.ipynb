{
 "cells": [
  {
   "cell_type": "markdown",
   "id": "5e693185",
   "metadata": {},
   "source": [
    "# LOGISTIC REGRESSION"
   ]
  },
  {
   "cell_type": "code",
   "execution_count": 1,
   "id": "4debbcd9",
   "metadata": {},
   "outputs": [],
   "source": [
    "## Import the initial necessary packages"
   ]
  },
  {
   "cell_type": "code",
   "execution_count": 2,
   "id": "cd82982d",
   "metadata": {},
   "outputs": [],
   "source": [
    "import pandas as pd\n",
    "import numpy as np\n",
    "import matplotlib.pyplot as plt\n",
    "import seaborn as sns"
   ]
  },
  {
   "cell_type": "code",
   "execution_count": 3,
   "id": "83493b12",
   "metadata": {},
   "outputs": [],
   "source": [
    "## Load the Titanic_train dataset"
   ]
  },
  {
   "cell_type": "code",
   "execution_count": 4,
   "id": "b368a5bf",
   "metadata": {},
   "outputs": [],
   "source": [
    "data=pd.read_csv(r'C:\\D Drive\\Data_Science\\01 Assignments\\07 Logistic Regression\\Titanic_train.csv')"
   ]
  },
  {
   "cell_type": "code",
   "execution_count": 5,
   "id": "2c532f06",
   "metadata": {},
   "outputs": [
    {
     "data": {
      "text/html": [
       "<div>\n",
       "<style scoped>\n",
       "    .dataframe tbody tr th:only-of-type {\n",
       "        vertical-align: middle;\n",
       "    }\n",
       "\n",
       "    .dataframe tbody tr th {\n",
       "        vertical-align: top;\n",
       "    }\n",
       "\n",
       "    .dataframe thead th {\n",
       "        text-align: right;\n",
       "    }\n",
       "</style>\n",
       "<table border=\"1\" class=\"dataframe\">\n",
       "  <thead>\n",
       "    <tr style=\"text-align: right;\">\n",
       "      <th></th>\n",
       "      <th>PassengerId</th>\n",
       "      <th>Survived</th>\n",
       "      <th>Pclass</th>\n",
       "      <th>Name</th>\n",
       "      <th>Sex</th>\n",
       "      <th>Age</th>\n",
       "      <th>SibSp</th>\n",
       "      <th>Parch</th>\n",
       "      <th>Ticket</th>\n",
       "      <th>Fare</th>\n",
       "      <th>Cabin</th>\n",
       "      <th>Embarked</th>\n",
       "    </tr>\n",
       "  </thead>\n",
       "  <tbody>\n",
       "    <tr>\n",
       "      <th>0</th>\n",
       "      <td>1</td>\n",
       "      <td>0</td>\n",
       "      <td>3</td>\n",
       "      <td>Braund, Mr. Owen Harris</td>\n",
       "      <td>male</td>\n",
       "      <td>22.0</td>\n",
       "      <td>1</td>\n",
       "      <td>0</td>\n",
       "      <td>A/5 21171</td>\n",
       "      <td>7.2500</td>\n",
       "      <td>NaN</td>\n",
       "      <td>S</td>\n",
       "    </tr>\n",
       "    <tr>\n",
       "      <th>1</th>\n",
       "      <td>2</td>\n",
       "      <td>1</td>\n",
       "      <td>1</td>\n",
       "      <td>Cumings, Mrs. John Bradley (Florence Briggs Th...</td>\n",
       "      <td>female</td>\n",
       "      <td>38.0</td>\n",
       "      <td>1</td>\n",
       "      <td>0</td>\n",
       "      <td>PC 17599</td>\n",
       "      <td>71.2833</td>\n",
       "      <td>C85</td>\n",
       "      <td>C</td>\n",
       "    </tr>\n",
       "    <tr>\n",
       "      <th>2</th>\n",
       "      <td>3</td>\n",
       "      <td>1</td>\n",
       "      <td>3</td>\n",
       "      <td>Heikkinen, Miss. Laina</td>\n",
       "      <td>female</td>\n",
       "      <td>26.0</td>\n",
       "      <td>0</td>\n",
       "      <td>0</td>\n",
       "      <td>STON/O2. 3101282</td>\n",
       "      <td>7.9250</td>\n",
       "      <td>NaN</td>\n",
       "      <td>S</td>\n",
       "    </tr>\n",
       "    <tr>\n",
       "      <th>3</th>\n",
       "      <td>4</td>\n",
       "      <td>1</td>\n",
       "      <td>1</td>\n",
       "      <td>Futrelle, Mrs. Jacques Heath (Lily May Peel)</td>\n",
       "      <td>female</td>\n",
       "      <td>35.0</td>\n",
       "      <td>1</td>\n",
       "      <td>0</td>\n",
       "      <td>113803</td>\n",
       "      <td>53.1000</td>\n",
       "      <td>C123</td>\n",
       "      <td>S</td>\n",
       "    </tr>\n",
       "    <tr>\n",
       "      <th>4</th>\n",
       "      <td>5</td>\n",
       "      <td>0</td>\n",
       "      <td>3</td>\n",
       "      <td>Allen, Mr. William Henry</td>\n",
       "      <td>male</td>\n",
       "      <td>35.0</td>\n",
       "      <td>0</td>\n",
       "      <td>0</td>\n",
       "      <td>373450</td>\n",
       "      <td>8.0500</td>\n",
       "      <td>NaN</td>\n",
       "      <td>S</td>\n",
       "    </tr>\n",
       "    <tr>\n",
       "      <th>...</th>\n",
       "      <td>...</td>\n",
       "      <td>...</td>\n",
       "      <td>...</td>\n",
       "      <td>...</td>\n",
       "      <td>...</td>\n",
       "      <td>...</td>\n",
       "      <td>...</td>\n",
       "      <td>...</td>\n",
       "      <td>...</td>\n",
       "      <td>...</td>\n",
       "      <td>...</td>\n",
       "      <td>...</td>\n",
       "    </tr>\n",
       "    <tr>\n",
       "      <th>886</th>\n",
       "      <td>887</td>\n",
       "      <td>0</td>\n",
       "      <td>2</td>\n",
       "      <td>Montvila, Rev. Juozas</td>\n",
       "      <td>male</td>\n",
       "      <td>27.0</td>\n",
       "      <td>0</td>\n",
       "      <td>0</td>\n",
       "      <td>211536</td>\n",
       "      <td>13.0000</td>\n",
       "      <td>NaN</td>\n",
       "      <td>S</td>\n",
       "    </tr>\n",
       "    <tr>\n",
       "      <th>887</th>\n",
       "      <td>888</td>\n",
       "      <td>1</td>\n",
       "      <td>1</td>\n",
       "      <td>Graham, Miss. Margaret Edith</td>\n",
       "      <td>female</td>\n",
       "      <td>19.0</td>\n",
       "      <td>0</td>\n",
       "      <td>0</td>\n",
       "      <td>112053</td>\n",
       "      <td>30.0000</td>\n",
       "      <td>B42</td>\n",
       "      <td>S</td>\n",
       "    </tr>\n",
       "    <tr>\n",
       "      <th>888</th>\n",
       "      <td>889</td>\n",
       "      <td>0</td>\n",
       "      <td>3</td>\n",
       "      <td>Johnston, Miss. Catherine Helen \"Carrie\"</td>\n",
       "      <td>female</td>\n",
       "      <td>NaN</td>\n",
       "      <td>1</td>\n",
       "      <td>2</td>\n",
       "      <td>W./C. 6607</td>\n",
       "      <td>23.4500</td>\n",
       "      <td>NaN</td>\n",
       "      <td>S</td>\n",
       "    </tr>\n",
       "    <tr>\n",
       "      <th>889</th>\n",
       "      <td>890</td>\n",
       "      <td>1</td>\n",
       "      <td>1</td>\n",
       "      <td>Behr, Mr. Karl Howell</td>\n",
       "      <td>male</td>\n",
       "      <td>26.0</td>\n",
       "      <td>0</td>\n",
       "      <td>0</td>\n",
       "      <td>111369</td>\n",
       "      <td>30.0000</td>\n",
       "      <td>C148</td>\n",
       "      <td>C</td>\n",
       "    </tr>\n",
       "    <tr>\n",
       "      <th>890</th>\n",
       "      <td>891</td>\n",
       "      <td>0</td>\n",
       "      <td>3</td>\n",
       "      <td>Dooley, Mr. Patrick</td>\n",
       "      <td>male</td>\n",
       "      <td>32.0</td>\n",
       "      <td>0</td>\n",
       "      <td>0</td>\n",
       "      <td>370376</td>\n",
       "      <td>7.7500</td>\n",
       "      <td>NaN</td>\n",
       "      <td>Q</td>\n",
       "    </tr>\n",
       "  </tbody>\n",
       "</table>\n",
       "<p>891 rows × 12 columns</p>\n",
       "</div>"
      ],
      "text/plain": [
       "     PassengerId  Survived  Pclass  \\\n",
       "0              1         0       3   \n",
       "1              2         1       1   \n",
       "2              3         1       3   \n",
       "3              4         1       1   \n",
       "4              5         0       3   \n",
       "..           ...       ...     ...   \n",
       "886          887         0       2   \n",
       "887          888         1       1   \n",
       "888          889         0       3   \n",
       "889          890         1       1   \n",
       "890          891         0       3   \n",
       "\n",
       "                                                  Name     Sex   Age  SibSp  \\\n",
       "0                              Braund, Mr. Owen Harris    male  22.0      1   \n",
       "1    Cumings, Mrs. John Bradley (Florence Briggs Th...  female  38.0      1   \n",
       "2                               Heikkinen, Miss. Laina  female  26.0      0   \n",
       "3         Futrelle, Mrs. Jacques Heath (Lily May Peel)  female  35.0      1   \n",
       "4                             Allen, Mr. William Henry    male  35.0      0   \n",
       "..                                                 ...     ...   ...    ...   \n",
       "886                              Montvila, Rev. Juozas    male  27.0      0   \n",
       "887                       Graham, Miss. Margaret Edith  female  19.0      0   \n",
       "888           Johnston, Miss. Catherine Helen \"Carrie\"  female   NaN      1   \n",
       "889                              Behr, Mr. Karl Howell    male  26.0      0   \n",
       "890                                Dooley, Mr. Patrick    male  32.0      0   \n",
       "\n",
       "     Parch            Ticket     Fare Cabin Embarked  \n",
       "0        0         A/5 21171   7.2500   NaN        S  \n",
       "1        0          PC 17599  71.2833   C85        C  \n",
       "2        0  STON/O2. 3101282   7.9250   NaN        S  \n",
       "3        0            113803  53.1000  C123        S  \n",
       "4        0            373450   8.0500   NaN        S  \n",
       "..     ...               ...      ...   ...      ...  \n",
       "886      0            211536  13.0000   NaN        S  \n",
       "887      0            112053  30.0000   B42        S  \n",
       "888      2        W./C. 6607  23.4500   NaN        S  \n",
       "889      0            111369  30.0000  C148        C  \n",
       "890      0            370376   7.7500   NaN        Q  \n",
       "\n",
       "[891 rows x 12 columns]"
      ]
     },
     "execution_count": 5,
     "metadata": {},
     "output_type": "execute_result"
    }
   ],
   "source": [
    "data"
   ]
  },
  {
   "cell_type": "code",
   "execution_count": 6,
   "id": "4d6ef882",
   "metadata": {},
   "outputs": [],
   "source": [
    "## Task is to build a logistic regression model\n",
    "## In the given dataset, Survived is our target column while the remaining columns are features"
   ]
  },
  {
   "cell_type": "code",
   "execution_count": 7,
   "id": "8c7123b9",
   "metadata": {},
   "outputs": [],
   "source": [
    "## We check the basic information of the dataset"
   ]
  },
  {
   "cell_type": "code",
   "execution_count": 8,
   "id": "c905e1ba",
   "metadata": {},
   "outputs": [
    {
     "data": {
      "text/plain": [
       "(891, 12)"
      ]
     },
     "execution_count": 8,
     "metadata": {},
     "output_type": "execute_result"
    }
   ],
   "source": [
    "data.shape  ## There are 1309 rows and 12 columns"
   ]
  },
  {
   "cell_type": "code",
   "execution_count": 9,
   "id": "954a4a48",
   "metadata": {},
   "outputs": [
    {
     "name": "stdout",
     "output_type": "stream",
     "text": [
      "<class 'pandas.core.frame.DataFrame'>\n",
      "RangeIndex: 891 entries, 0 to 890\n",
      "Data columns (total 12 columns):\n",
      " #   Column       Non-Null Count  Dtype  \n",
      "---  ------       --------------  -----  \n",
      " 0   PassengerId  891 non-null    int64  \n",
      " 1   Survived     891 non-null    int64  \n",
      " 2   Pclass       891 non-null    int64  \n",
      " 3   Name         891 non-null    object \n",
      " 4   Sex          891 non-null    object \n",
      " 5   Age          714 non-null    float64\n",
      " 6   SibSp        891 non-null    int64  \n",
      " 7   Parch        891 non-null    int64  \n",
      " 8   Ticket       891 non-null    object \n",
      " 9   Fare         891 non-null    float64\n",
      " 10  Cabin        204 non-null    object \n",
      " 11  Embarked     889 non-null    object \n",
      "dtypes: float64(2), int64(5), object(5)\n",
      "memory usage: 83.7+ KB\n"
     ]
    }
   ],
   "source": [
    "data.info()"
   ]
  },
  {
   "cell_type": "code",
   "execution_count": 10,
   "id": "c57ba3c2",
   "metadata": {},
   "outputs": [],
   "source": [
    "## Here we see that Name, Sex, Ticket, Cabin and Embarked are categorical columns while remaining are numerical"
   ]
  },
  {
   "cell_type": "code",
   "execution_count": 11,
   "id": "b4a3113f",
   "metadata": {},
   "outputs": [],
   "source": [
    "## Since Name and Passenger ID does not hold any relation with the target column hence we can drop these"
   ]
  },
  {
   "cell_type": "code",
   "execution_count": 12,
   "id": "d206d33b",
   "metadata": {},
   "outputs": [],
   "source": [
    "data.drop(['Name','PassengerId'],axis=1,inplace=True)"
   ]
  },
  {
   "cell_type": "code",
   "execution_count": 13,
   "id": "3b400c53",
   "metadata": {},
   "outputs": [
    {
     "data": {
      "text/html": [
       "<div>\n",
       "<style scoped>\n",
       "    .dataframe tbody tr th:only-of-type {\n",
       "        vertical-align: middle;\n",
       "    }\n",
       "\n",
       "    .dataframe tbody tr th {\n",
       "        vertical-align: top;\n",
       "    }\n",
       "\n",
       "    .dataframe thead th {\n",
       "        text-align: right;\n",
       "    }\n",
       "</style>\n",
       "<table border=\"1\" class=\"dataframe\">\n",
       "  <thead>\n",
       "    <tr style=\"text-align: right;\">\n",
       "      <th></th>\n",
       "      <th>Survived</th>\n",
       "      <th>Pclass</th>\n",
       "      <th>Sex</th>\n",
       "      <th>Age</th>\n",
       "      <th>SibSp</th>\n",
       "      <th>Parch</th>\n",
       "      <th>Ticket</th>\n",
       "      <th>Fare</th>\n",
       "      <th>Cabin</th>\n",
       "      <th>Embarked</th>\n",
       "    </tr>\n",
       "  </thead>\n",
       "  <tbody>\n",
       "    <tr>\n",
       "      <th>0</th>\n",
       "      <td>0</td>\n",
       "      <td>3</td>\n",
       "      <td>male</td>\n",
       "      <td>22.0</td>\n",
       "      <td>1</td>\n",
       "      <td>0</td>\n",
       "      <td>A/5 21171</td>\n",
       "      <td>7.2500</td>\n",
       "      <td>NaN</td>\n",
       "      <td>S</td>\n",
       "    </tr>\n",
       "    <tr>\n",
       "      <th>1</th>\n",
       "      <td>1</td>\n",
       "      <td>1</td>\n",
       "      <td>female</td>\n",
       "      <td>38.0</td>\n",
       "      <td>1</td>\n",
       "      <td>0</td>\n",
       "      <td>PC 17599</td>\n",
       "      <td>71.2833</td>\n",
       "      <td>C85</td>\n",
       "      <td>C</td>\n",
       "    </tr>\n",
       "    <tr>\n",
       "      <th>2</th>\n",
       "      <td>1</td>\n",
       "      <td>3</td>\n",
       "      <td>female</td>\n",
       "      <td>26.0</td>\n",
       "      <td>0</td>\n",
       "      <td>0</td>\n",
       "      <td>STON/O2. 3101282</td>\n",
       "      <td>7.9250</td>\n",
       "      <td>NaN</td>\n",
       "      <td>S</td>\n",
       "    </tr>\n",
       "    <tr>\n",
       "      <th>3</th>\n",
       "      <td>1</td>\n",
       "      <td>1</td>\n",
       "      <td>female</td>\n",
       "      <td>35.0</td>\n",
       "      <td>1</td>\n",
       "      <td>0</td>\n",
       "      <td>113803</td>\n",
       "      <td>53.1000</td>\n",
       "      <td>C123</td>\n",
       "      <td>S</td>\n",
       "    </tr>\n",
       "    <tr>\n",
       "      <th>4</th>\n",
       "      <td>0</td>\n",
       "      <td>3</td>\n",
       "      <td>male</td>\n",
       "      <td>35.0</td>\n",
       "      <td>0</td>\n",
       "      <td>0</td>\n",
       "      <td>373450</td>\n",
       "      <td>8.0500</td>\n",
       "      <td>NaN</td>\n",
       "      <td>S</td>\n",
       "    </tr>\n",
       "    <tr>\n",
       "      <th>...</th>\n",
       "      <td>...</td>\n",
       "      <td>...</td>\n",
       "      <td>...</td>\n",
       "      <td>...</td>\n",
       "      <td>...</td>\n",
       "      <td>...</td>\n",
       "      <td>...</td>\n",
       "      <td>...</td>\n",
       "      <td>...</td>\n",
       "      <td>...</td>\n",
       "    </tr>\n",
       "    <tr>\n",
       "      <th>886</th>\n",
       "      <td>0</td>\n",
       "      <td>2</td>\n",
       "      <td>male</td>\n",
       "      <td>27.0</td>\n",
       "      <td>0</td>\n",
       "      <td>0</td>\n",
       "      <td>211536</td>\n",
       "      <td>13.0000</td>\n",
       "      <td>NaN</td>\n",
       "      <td>S</td>\n",
       "    </tr>\n",
       "    <tr>\n",
       "      <th>887</th>\n",
       "      <td>1</td>\n",
       "      <td>1</td>\n",
       "      <td>female</td>\n",
       "      <td>19.0</td>\n",
       "      <td>0</td>\n",
       "      <td>0</td>\n",
       "      <td>112053</td>\n",
       "      <td>30.0000</td>\n",
       "      <td>B42</td>\n",
       "      <td>S</td>\n",
       "    </tr>\n",
       "    <tr>\n",
       "      <th>888</th>\n",
       "      <td>0</td>\n",
       "      <td>3</td>\n",
       "      <td>female</td>\n",
       "      <td>NaN</td>\n",
       "      <td>1</td>\n",
       "      <td>2</td>\n",
       "      <td>W./C. 6607</td>\n",
       "      <td>23.4500</td>\n",
       "      <td>NaN</td>\n",
       "      <td>S</td>\n",
       "    </tr>\n",
       "    <tr>\n",
       "      <th>889</th>\n",
       "      <td>1</td>\n",
       "      <td>1</td>\n",
       "      <td>male</td>\n",
       "      <td>26.0</td>\n",
       "      <td>0</td>\n",
       "      <td>0</td>\n",
       "      <td>111369</td>\n",
       "      <td>30.0000</td>\n",
       "      <td>C148</td>\n",
       "      <td>C</td>\n",
       "    </tr>\n",
       "    <tr>\n",
       "      <th>890</th>\n",
       "      <td>0</td>\n",
       "      <td>3</td>\n",
       "      <td>male</td>\n",
       "      <td>32.0</td>\n",
       "      <td>0</td>\n",
       "      <td>0</td>\n",
       "      <td>370376</td>\n",
       "      <td>7.7500</td>\n",
       "      <td>NaN</td>\n",
       "      <td>Q</td>\n",
       "    </tr>\n",
       "  </tbody>\n",
       "</table>\n",
       "<p>891 rows × 10 columns</p>\n",
       "</div>"
      ],
      "text/plain": [
       "     Survived  Pclass     Sex   Age  SibSp  Parch            Ticket     Fare  \\\n",
       "0           0       3    male  22.0      1      0         A/5 21171   7.2500   \n",
       "1           1       1  female  38.0      1      0          PC 17599  71.2833   \n",
       "2           1       3  female  26.0      0      0  STON/O2. 3101282   7.9250   \n",
       "3           1       1  female  35.0      1      0            113803  53.1000   \n",
       "4           0       3    male  35.0      0      0            373450   8.0500   \n",
       "..        ...     ...     ...   ...    ...    ...               ...      ...   \n",
       "886         0       2    male  27.0      0      0            211536  13.0000   \n",
       "887         1       1  female  19.0      0      0            112053  30.0000   \n",
       "888         0       3  female   NaN      1      2        W./C. 6607  23.4500   \n",
       "889         1       1    male  26.0      0      0            111369  30.0000   \n",
       "890         0       3    male  32.0      0      0            370376   7.7500   \n",
       "\n",
       "    Cabin Embarked  \n",
       "0     NaN        S  \n",
       "1     C85        C  \n",
       "2     NaN        S  \n",
       "3    C123        S  \n",
       "4     NaN        S  \n",
       "..    ...      ...  \n",
       "886   NaN        S  \n",
       "887   B42        S  \n",
       "888   NaN        S  \n",
       "889  C148        C  \n",
       "890   NaN        Q  \n",
       "\n",
       "[891 rows x 10 columns]"
      ]
     },
     "execution_count": 13,
     "metadata": {},
     "output_type": "execute_result"
    }
   ],
   "source": [
    "data"
   ]
  },
  {
   "cell_type": "code",
   "execution_count": 14,
   "id": "741fc66b",
   "metadata": {},
   "outputs": [],
   "source": [
    "## EDA Step 1 - check and treat null values"
   ]
  },
  {
   "cell_type": "code",
   "execution_count": 15,
   "id": "fff49423",
   "metadata": {},
   "outputs": [
    {
     "data": {
      "text/plain": [
       "Survived      0\n",
       "Pclass        0\n",
       "Sex           0\n",
       "Age         177\n",
       "SibSp         0\n",
       "Parch         0\n",
       "Ticket        0\n",
       "Fare          0\n",
       "Cabin       687\n",
       "Embarked      2\n",
       "dtype: int64"
      ]
     },
     "execution_count": 15,
     "metadata": {},
     "output_type": "execute_result"
    }
   ],
   "source": [
    "data.isnull().sum()"
   ]
  },
  {
   "cell_type": "code",
   "execution_count": 16,
   "id": "48302d67",
   "metadata": {},
   "outputs": [],
   "source": [
    "## We have null values in Age, Cabin and Embarked columns. Since this a comparatively small dataset we will replace\n",
    "## null values with median and mode respectively instead of dropping so as to avoid loss of data"
   ]
  },
  {
   "cell_type": "code",
   "execution_count": 17,
   "id": "fa1b623a",
   "metadata": {},
   "outputs": [
    {
     "data": {
      "text/plain": [
       "28.0"
      ]
     },
     "execution_count": 17,
     "metadata": {},
     "output_type": "execute_result"
    }
   ],
   "source": [
    "median1=data['Age'].median()\n",
    "median1"
   ]
  },
  {
   "cell_type": "code",
   "execution_count": 18,
   "id": "0f5986b7",
   "metadata": {},
   "outputs": [],
   "source": [
    "data['Age']=data['Age'].fillna(median1)"
   ]
  },
  {
   "cell_type": "code",
   "execution_count": 19,
   "id": "5fc2f74c",
   "metadata": {},
   "outputs": [
    {
     "data": {
      "text/plain": [
       "0        B96 B98\n",
       "1    C23 C25 C27\n",
       "2             G6\n",
       "Name: Cabin, dtype: object"
      ]
     },
     "execution_count": 19,
     "metadata": {},
     "output_type": "execute_result"
    }
   ],
   "source": [
    "mode=data['Cabin'].mode()\n",
    "mode"
   ]
  },
  {
   "cell_type": "code",
   "execution_count": 20,
   "id": "532d8d97",
   "metadata": {},
   "outputs": [],
   "source": [
    "data['Cabin']=data['Cabin'].fillna(mode[1])  ## we fill second mode"
   ]
  },
  {
   "cell_type": "code",
   "execution_count": 21,
   "id": "992cfc6d",
   "metadata": {},
   "outputs": [
    {
     "data": {
      "text/plain": [
       "0    S\n",
       "Name: Embarked, dtype: object"
      ]
     },
     "execution_count": 21,
     "metadata": {},
     "output_type": "execute_result"
    }
   ],
   "source": [
    "mode1=data['Embarked'].mode()\n",
    "mode1"
   ]
  },
  {
   "cell_type": "code",
   "execution_count": 22,
   "id": "b982ba13",
   "metadata": {},
   "outputs": [],
   "source": [
    "data['Embarked']=data['Embarked'].fillna(mode[0])  ## we fill mode"
   ]
  },
  {
   "cell_type": "code",
   "execution_count": 23,
   "id": "a137acde",
   "metadata": {},
   "outputs": [
    {
     "data": {
      "text/plain": [
       "Survived    0\n",
       "Pclass      0\n",
       "Sex         0\n",
       "Age         0\n",
       "SibSp       0\n",
       "Parch       0\n",
       "Ticket      0\n",
       "Fare        0\n",
       "Cabin       0\n",
       "Embarked    0\n",
       "dtype: int64"
      ]
     },
     "execution_count": 23,
     "metadata": {},
     "output_type": "execute_result"
    }
   ],
   "source": [
    "data.isnull().sum()"
   ]
  },
  {
   "cell_type": "code",
   "execution_count": 24,
   "id": "1099eab5",
   "metadata": {},
   "outputs": [],
   "source": [
    "## Now there are no null values in our dataset"
   ]
  },
  {
   "cell_type": "code",
   "execution_count": 25,
   "id": "1990d93f",
   "metadata": {},
   "outputs": [],
   "source": [
    "## EDA Step 2 - check and treat duplicate rows"
   ]
  },
  {
   "cell_type": "code",
   "execution_count": 26,
   "id": "aab03c8e",
   "metadata": {},
   "outputs": [
    {
     "data": {
      "text/plain": [
       "True"
      ]
     },
     "execution_count": 26,
     "metadata": {},
     "output_type": "execute_result"
    }
   ],
   "source": [
    "data.duplicated().any()  ## there are duplicate rows"
   ]
  },
  {
   "cell_type": "code",
   "execution_count": 27,
   "id": "88bac5f7",
   "metadata": {},
   "outputs": [
    {
     "data": {
      "text/html": [
       "<div>\n",
       "<style scoped>\n",
       "    .dataframe tbody tr th:only-of-type {\n",
       "        vertical-align: middle;\n",
       "    }\n",
       "\n",
       "    .dataframe tbody tr th {\n",
       "        vertical-align: top;\n",
       "    }\n",
       "\n",
       "    .dataframe thead th {\n",
       "        text-align: right;\n",
       "    }\n",
       "</style>\n",
       "<table border=\"1\" class=\"dataframe\">\n",
       "  <thead>\n",
       "    <tr style=\"text-align: right;\">\n",
       "      <th></th>\n",
       "      <th>Survived</th>\n",
       "      <th>Pclass</th>\n",
       "      <th>Sex</th>\n",
       "      <th>Age</th>\n",
       "      <th>SibSp</th>\n",
       "      <th>Parch</th>\n",
       "      <th>Ticket</th>\n",
       "      <th>Fare</th>\n",
       "      <th>Cabin</th>\n",
       "      <th>Embarked</th>\n",
       "    </tr>\n",
       "  </thead>\n",
       "  <tbody>\n",
       "    <tr>\n",
       "      <th>201</th>\n",
       "      <td>0</td>\n",
       "      <td>3</td>\n",
       "      <td>male</td>\n",
       "      <td>28.00</td>\n",
       "      <td>8</td>\n",
       "      <td>2</td>\n",
       "      <td>CA. 2343</td>\n",
       "      <td>69.5500</td>\n",
       "      <td>C23 C25 C27</td>\n",
       "      <td>S</td>\n",
       "    </tr>\n",
       "    <tr>\n",
       "      <th>324</th>\n",
       "      <td>0</td>\n",
       "      <td>3</td>\n",
       "      <td>male</td>\n",
       "      <td>28.00</td>\n",
       "      <td>8</td>\n",
       "      <td>2</td>\n",
       "      <td>CA. 2343</td>\n",
       "      <td>69.5500</td>\n",
       "      <td>C23 C25 C27</td>\n",
       "      <td>S</td>\n",
       "    </tr>\n",
       "    <tr>\n",
       "      <th>409</th>\n",
       "      <td>0</td>\n",
       "      <td>3</td>\n",
       "      <td>female</td>\n",
       "      <td>28.00</td>\n",
       "      <td>3</td>\n",
       "      <td>1</td>\n",
       "      <td>4133</td>\n",
       "      <td>25.4667</td>\n",
       "      <td>C23 C25 C27</td>\n",
       "      <td>S</td>\n",
       "    </tr>\n",
       "    <tr>\n",
       "      <th>413</th>\n",
       "      <td>0</td>\n",
       "      <td>2</td>\n",
       "      <td>male</td>\n",
       "      <td>28.00</td>\n",
       "      <td>0</td>\n",
       "      <td>0</td>\n",
       "      <td>239853</td>\n",
       "      <td>0.0000</td>\n",
       "      <td>C23 C25 C27</td>\n",
       "      <td>S</td>\n",
       "    </tr>\n",
       "    <tr>\n",
       "      <th>466</th>\n",
       "      <td>0</td>\n",
       "      <td>2</td>\n",
       "      <td>male</td>\n",
       "      <td>28.00</td>\n",
       "      <td>0</td>\n",
       "      <td>0</td>\n",
       "      <td>239853</td>\n",
       "      <td>0.0000</td>\n",
       "      <td>C23 C25 C27</td>\n",
       "      <td>S</td>\n",
       "    </tr>\n",
       "    <tr>\n",
       "      <th>485</th>\n",
       "      <td>0</td>\n",
       "      <td>3</td>\n",
       "      <td>female</td>\n",
       "      <td>28.00</td>\n",
       "      <td>3</td>\n",
       "      <td>1</td>\n",
       "      <td>4133</td>\n",
       "      <td>25.4667</td>\n",
       "      <td>C23 C25 C27</td>\n",
       "      <td>S</td>\n",
       "    </tr>\n",
       "    <tr>\n",
       "      <th>612</th>\n",
       "      <td>1</td>\n",
       "      <td>3</td>\n",
       "      <td>female</td>\n",
       "      <td>28.00</td>\n",
       "      <td>1</td>\n",
       "      <td>0</td>\n",
       "      <td>367230</td>\n",
       "      <td>15.5000</td>\n",
       "      <td>C23 C25 C27</td>\n",
       "      <td>Q</td>\n",
       "    </tr>\n",
       "    <tr>\n",
       "      <th>641</th>\n",
       "      <td>1</td>\n",
       "      <td>1</td>\n",
       "      <td>female</td>\n",
       "      <td>24.00</td>\n",
       "      <td>0</td>\n",
       "      <td>0</td>\n",
       "      <td>PC 17477</td>\n",
       "      <td>69.3000</td>\n",
       "      <td>B35</td>\n",
       "      <td>C</td>\n",
       "    </tr>\n",
       "    <tr>\n",
       "      <th>644</th>\n",
       "      <td>1</td>\n",
       "      <td>3</td>\n",
       "      <td>female</td>\n",
       "      <td>0.75</td>\n",
       "      <td>2</td>\n",
       "      <td>1</td>\n",
       "      <td>2666</td>\n",
       "      <td>19.2583</td>\n",
       "      <td>C23 C25 C27</td>\n",
       "      <td>C</td>\n",
       "    </tr>\n",
       "    <tr>\n",
       "      <th>692</th>\n",
       "      <td>1</td>\n",
       "      <td>3</td>\n",
       "      <td>male</td>\n",
       "      <td>28.00</td>\n",
       "      <td>0</td>\n",
       "      <td>0</td>\n",
       "      <td>1601</td>\n",
       "      <td>56.4958</td>\n",
       "      <td>C23 C25 C27</td>\n",
       "      <td>S</td>\n",
       "    </tr>\n",
       "    <tr>\n",
       "      <th>709</th>\n",
       "      <td>1</td>\n",
       "      <td>3</td>\n",
       "      <td>male</td>\n",
       "      <td>28.00</td>\n",
       "      <td>1</td>\n",
       "      <td>1</td>\n",
       "      <td>2661</td>\n",
       "      <td>15.2458</td>\n",
       "      <td>C23 C25 C27</td>\n",
       "      <td>C</td>\n",
       "    </tr>\n",
       "    <tr>\n",
       "      <th>792</th>\n",
       "      <td>0</td>\n",
       "      <td>3</td>\n",
       "      <td>female</td>\n",
       "      <td>28.00</td>\n",
       "      <td>8</td>\n",
       "      <td>2</td>\n",
       "      <td>CA. 2343</td>\n",
       "      <td>69.5500</td>\n",
       "      <td>C23 C25 C27</td>\n",
       "      <td>S</td>\n",
       "    </tr>\n",
       "    <tr>\n",
       "      <th>826</th>\n",
       "      <td>0</td>\n",
       "      <td>3</td>\n",
       "      <td>male</td>\n",
       "      <td>28.00</td>\n",
       "      <td>0</td>\n",
       "      <td>0</td>\n",
       "      <td>1601</td>\n",
       "      <td>56.4958</td>\n",
       "      <td>C23 C25 C27</td>\n",
       "      <td>S</td>\n",
       "    </tr>\n",
       "    <tr>\n",
       "      <th>838</th>\n",
       "      <td>1</td>\n",
       "      <td>3</td>\n",
       "      <td>male</td>\n",
       "      <td>32.00</td>\n",
       "      <td>0</td>\n",
       "      <td>0</td>\n",
       "      <td>1601</td>\n",
       "      <td>56.4958</td>\n",
       "      <td>C23 C25 C27</td>\n",
       "      <td>S</td>\n",
       "    </tr>\n",
       "    <tr>\n",
       "      <th>846</th>\n",
       "      <td>0</td>\n",
       "      <td>3</td>\n",
       "      <td>male</td>\n",
       "      <td>28.00</td>\n",
       "      <td>8</td>\n",
       "      <td>2</td>\n",
       "      <td>CA. 2343</td>\n",
       "      <td>69.5500</td>\n",
       "      <td>C23 C25 C27</td>\n",
       "      <td>S</td>\n",
       "    </tr>\n",
       "    <tr>\n",
       "      <th>863</th>\n",
       "      <td>0</td>\n",
       "      <td>3</td>\n",
       "      <td>female</td>\n",
       "      <td>28.00</td>\n",
       "      <td>8</td>\n",
       "      <td>2</td>\n",
       "      <td>CA. 2343</td>\n",
       "      <td>69.5500</td>\n",
       "      <td>C23 C25 C27</td>\n",
       "      <td>S</td>\n",
       "    </tr>\n",
       "  </tbody>\n",
       "</table>\n",
       "</div>"
      ],
      "text/plain": [
       "     Survived  Pclass     Sex    Age  SibSp  Parch    Ticket     Fare  \\\n",
       "201         0       3    male  28.00      8      2  CA. 2343  69.5500   \n",
       "324         0       3    male  28.00      8      2  CA. 2343  69.5500   \n",
       "409         0       3  female  28.00      3      1      4133  25.4667   \n",
       "413         0       2    male  28.00      0      0    239853   0.0000   \n",
       "466         0       2    male  28.00      0      0    239853   0.0000   \n",
       "485         0       3  female  28.00      3      1      4133  25.4667   \n",
       "612         1       3  female  28.00      1      0    367230  15.5000   \n",
       "641         1       1  female  24.00      0      0  PC 17477  69.3000   \n",
       "644         1       3  female   0.75      2      1      2666  19.2583   \n",
       "692         1       3    male  28.00      0      0      1601  56.4958   \n",
       "709         1       3    male  28.00      1      1      2661  15.2458   \n",
       "792         0       3  female  28.00      8      2  CA. 2343  69.5500   \n",
       "826         0       3    male  28.00      0      0      1601  56.4958   \n",
       "838         1       3    male  32.00      0      0      1601  56.4958   \n",
       "846         0       3    male  28.00      8      2  CA. 2343  69.5500   \n",
       "863         0       3  female  28.00      8      2  CA. 2343  69.5500   \n",
       "\n",
       "           Cabin Embarked  \n",
       "201  C23 C25 C27        S  \n",
       "324  C23 C25 C27        S  \n",
       "409  C23 C25 C27        S  \n",
       "413  C23 C25 C27        S  \n",
       "466  C23 C25 C27        S  \n",
       "485  C23 C25 C27        S  \n",
       "612  C23 C25 C27        Q  \n",
       "641          B35        C  \n",
       "644  C23 C25 C27        C  \n",
       "692  C23 C25 C27        S  \n",
       "709  C23 C25 C27        C  \n",
       "792  C23 C25 C27        S  \n",
       "826  C23 C25 C27        S  \n",
       "838  C23 C25 C27        S  \n",
       "846  C23 C25 C27        S  \n",
       "863  C23 C25 C27        S  "
      ]
     },
     "execution_count": 27,
     "metadata": {},
     "output_type": "execute_result"
    }
   ],
   "source": [
    "data[data.duplicated()]  ## to check the exact duplicate row"
   ]
  },
  {
   "cell_type": "code",
   "execution_count": 28,
   "id": "f976c532",
   "metadata": {},
   "outputs": [],
   "source": [
    "data.drop_duplicates(inplace=True)  ## this will permanently delete the duplicate rows"
   ]
  },
  {
   "cell_type": "code",
   "execution_count": 29,
   "id": "db31f1bc",
   "metadata": {},
   "outputs": [
    {
     "data": {
      "text/plain": [
       "False"
      ]
     },
     "execution_count": 29,
     "metadata": {},
     "output_type": "execute_result"
    }
   ],
   "source": [
    "data.duplicated().any()  ## to cross check if the duplicates are removed"
   ]
  },
  {
   "cell_type": "code",
   "execution_count": 30,
   "id": "3a5b02c0",
   "metadata": {},
   "outputs": [],
   "source": [
    "## EDA Step 3 - check and treat outliers"
   ]
  },
  {
   "cell_type": "code",
   "execution_count": 31,
   "id": "f3459854",
   "metadata": {},
   "outputs": [
    {
     "data": {
      "text/plain": [
       "['Survived', 'Pclass', 'Age', 'SibSp', 'Parch', 'Fare']"
      ]
     },
     "execution_count": 31,
     "metadata": {},
     "output_type": "execute_result"
    }
   ],
   "source": [
    "## first we define numerical colums\n",
    "num_col=[i for i in data.columns if data[i].dtypes!='O']\n",
    "num_col"
   ]
  },
  {
   "cell_type": "code",
   "execution_count": 32,
   "id": "db2618c7",
   "metadata": {},
   "outputs": [
    {
     "data": {
      "image/png": "[encoded data removed]",
      "text/plain": [
       "<Figure size 1000x500 with 1 Axes>"
      ]
     },
     "metadata": {},
     "output_type": "display_data"
    }
   ],
   "source": [
    "## we can draw boxplot to check for the outliers\n",
    "for i in num_col:\n",
    "    data.boxplot(column=num_col,figsize=(10,5))\n",
    "plt.show()"
   ]
  },
  {
   "cell_type": "code",
   "execution_count": 33,
   "id": "f49048fe",
   "metadata": {},
   "outputs": [],
   "source": [
    "## Boxplot shows presence of outliers in multiple columns"
   ]
  },
  {
   "cell_type": "code",
   "execution_count": 34,
   "id": "e2c9c039",
   "metadata": {},
   "outputs": [
    {
     "data": {
      "image/png": "[encoded data removed]",
      "text/plain": [
       "<Figure size 640x480 with 1 Axes>"
      ]
     },
     "metadata": {},
     "output_type": "display_data"
    }
   ],
   "source": [
    "data.boxplot('Parch')\n",
    "plt.show()"
   ]
  },
  {
   "cell_type": "code",
   "execution_count": 35,
   "id": "a4caf4df",
   "metadata": {},
   "outputs": [],
   "source": [
    "## checking boxplot one by one shows maximum outliers in Age and Fare columns however given this is a detail of paggenger\n",
    "## in a ship, their extreme age and ticket fare may not be an outlier in the data. Hence we decide not to remove outliers."
   ]
  },
  {
   "cell_type": "code",
   "execution_count": 36,
   "id": "6ef52187",
   "metadata": {},
   "outputs": [],
   "source": [
    "## EDA Step 4 - correlation check using heatmap"
   ]
  },
  {
   "cell_type": "code",
   "execution_count": 37,
   "id": "db948d24",
   "metadata": {},
   "outputs": [
    {
     "data": {
      "image/png": "[encoded data removed]",
      "text/plain": [
       "<Figure size 640x480 with 2 Axes>"
      ]
     },
     "metadata": {},
     "output_type": "display_data"
    }
   ],
   "source": [
    "sns.heatmap(data[num_col].corr(),annot=True,cmap='BuGn')\n",
    "plt.show()"
   ]
  },
  {
   "cell_type": "code",
   "execution_count": 38,
   "id": "88d2ddba",
   "metadata": {},
   "outputs": [],
   "source": [
    "## There doesn't seem to be much correlation between features and target"
   ]
  },
  {
   "cell_type": "code",
   "execution_count": 39,
   "id": "67433c99",
   "metadata": {},
   "outputs": [],
   "source": [
    "import warnings\n",
    "warnings.filterwarnings('ignore')"
   ]
  },
  {
   "cell_type": "code",
   "execution_count": 40,
   "id": "cbfcc2c5",
   "metadata": {},
   "outputs": [
    {
     "data": {
      "image/png": "[encoded data removed]",
      "text/plain": [
       "<Figure size 1500x1500 with 42 Axes>"
      ]
     },
     "metadata": {},
     "output_type": "display_data"
    }
   ],
   "source": [
    "sns.pairplot(data[num_col])\n",
    "plt.show()"
   ]
  },
  {
   "cell_type": "code",
   "execution_count": 41,
   "id": "850dc40b",
   "metadata": {},
   "outputs": [],
   "source": [
    "## EDA Step 5 - Feature Engineering (converting categorical columns to numerical and standard scaling)"
   ]
  },
  {
   "cell_type": "code",
   "execution_count": 42,
   "id": "0b93ef0a",
   "metadata": {},
   "outputs": [],
   "source": [
    "from sklearn.preprocessing import OrdinalEncoder,StandardScaler"
   ]
  },
  {
   "cell_type": "code",
   "execution_count": 43,
   "id": "67d84705",
   "metadata": {},
   "outputs": [
    {
     "data": {
      "text/plain": [
       "['Sex', 'Ticket', 'Cabin', 'Embarked']"
      ]
     },
     "execution_count": 43,
     "metadata": {},
     "output_type": "execute_result"
    }
   ],
   "source": [
    "cat_col=[i for i in data.columns if data[i].dtypes=='O']\n",
    "cat_col"
   ]
  },
  {
   "cell_type": "code",
   "execution_count": 44,
   "id": "ddb1ee2a",
   "metadata": {},
   "outputs": [
    {
     "data": {
      "text/plain": [
       "array(['male', 'female'], dtype=object)"
      ]
     },
     "execution_count": 44,
     "metadata": {},
     "output_type": "execute_result"
    }
   ],
   "source": [
    "data['Sex'].unique()"
   ]
  },
  {
   "cell_type": "code",
   "execution_count": 45,
   "id": "91243714",
   "metadata": {},
   "outputs": [
    {
     "data": {
      "text/plain": [
       "array(['A/5 21171', 'PC 17599', 'STON/O2. 3101282', '113803', '373450',\n",
       "       '330877', '17463', '349909', '347742', '237736', 'PP 9549',\n",
       "       '113783', 'A/5. 2151', '347082', '350406', '248706', '382652',\n",
       "       '244373', '345763', '2649', '239865', '248698', '330923', '113788',\n",
       "       '347077', '2631', '19950', '330959', '349216', 'PC 17601',\n",
       "       'PC 17569', '335677', 'C.A. 24579', 'PC 17604', '113789', '2677',\n",
       "       'A./5. 2152', '345764', '2651', '7546', '11668', '349253',\n",
       "       'SC/Paris 2123', '330958', 'S.C./A.4. 23567', '370371', '14311',\n",
       "       '2662', '349237', '3101295', 'A/4. 39886', 'PC 17572', '2926',\n",
       "       '113509', '19947', 'C.A. 31026', '2697', 'C.A. 34651', 'CA 2144',\n",
       "       '2669', '113572', '36973', '347088', 'PC 17605', '2661',\n",
       "       'C.A. 29395', 'S.P. 3464', '3101281', '315151', 'C.A. 33111',\n",
       "       'S.O.C. 14879', '2680', '1601', '348123', '349208', '374746',\n",
       "       '248738', '364516', '345767', '345779', '330932', '113059',\n",
       "       'SO/C 14885', '3101278', 'W./C. 6608', 'SOTON/OQ 392086', '343275',\n",
       "       '343276', '347466', 'W.E.P. 5734', 'C.A. 2315', '364500', '374910',\n",
       "       'PC 17754', 'PC 17759', '231919', '244367', '349245', '349215',\n",
       "       '35281', '7540', '3101276', '349207', '343120', '312991', '349249',\n",
       "       '371110', '110465', '2665', '324669', '4136', '2627',\n",
       "       'STON/O 2. 3101294', '370369', 'PC 17558', 'A4. 54510', '27267',\n",
       "       '370372', 'C 17369', '2668', '347061', '349241',\n",
       "       'SOTON/O.Q. 3101307', 'A/5. 3337', '228414', 'C.A. 29178',\n",
       "       'SC/PARIS 2133', '11752', '7534', 'PC 17593', '2678', '347081',\n",
       "       'STON/O2. 3101279', '365222', '231945', 'C.A. 33112', '350043',\n",
       "       '230080', '244310', 'S.O.P. 1166', '113776', 'A.5. 11206',\n",
       "       'A/5. 851', 'Fa 265302', 'PC 17597', '35851', 'SOTON/OQ 392090',\n",
       "       '315037', 'CA. 2343', '371362', 'C.A. 33595', '347068', '315093',\n",
       "       '363291', '113505', 'PC 17318', '111240', 'STON/O 2. 3101280',\n",
       "       '17764', '350404', '4133', 'PC 17595', '250653', 'LINE',\n",
       "       'SC/PARIS 2131', '230136', '315153', '113767', '370365', '111428',\n",
       "       '364849', '349247', '234604', '28424', '350046', 'PC 17610',\n",
       "       '368703', '4579', '370370', '248747', '345770', '3101264', '2628',\n",
       "       'A/5 3540', '347054', '2699', '367231', '112277',\n",
       "       'SOTON/O.Q. 3101311', 'F.C.C. 13528', 'A/5 21174', '250646',\n",
       "       '367229', '35273', 'STON/O2. 3101283', '243847', '11813',\n",
       "       'W/C 14208', 'SOTON/OQ 392089', '220367', '21440', '349234',\n",
       "       '19943', 'PP 4348', 'SW/PP 751', 'A/5 21173', '236171', '347067',\n",
       "       '237442', 'C.A. 29566', 'W./C. 6609', '26707', 'C.A. 31921',\n",
       "       '28665', 'SCO/W 1585', '367230', 'W./C. 14263',\n",
       "       'STON/O 2. 3101275', '2694', '19928', '347071', '250649', '11751',\n",
       "       '244252', '362316', '113514', 'A/5. 3336', '370129', '2650',\n",
       "       'PC 17585', '110152', 'PC 17755', '230433', '384461', '110413',\n",
       "       '112059', '382649', 'C.A. 17248', '347083', 'PC 17582', 'PC 17760',\n",
       "       '113798', '250644', 'PC 17596', '370375', '13502', '347073',\n",
       "       '239853', 'C.A. 2673', '336439', '347464', '345778', 'A/5. 10482',\n",
       "       '113056', '349239', '345774', '349206', '237798', '370373',\n",
       "       '19877', '11967', 'SC/Paris 2163', '349236', '349233', 'PC 17612',\n",
       "       '2693', '113781', '19988', '9234', '367226', '226593', 'A/5 2466',\n",
       "       '17421', 'PC 17758', 'P/PP 3381', 'PC 17485', '11767', 'PC 17608',\n",
       "       '250651', '349243', 'F.C.C. 13529', '347470', '29011', '36928',\n",
       "       '16966', 'A/5 21172', '349219', '234818', '345364', '28551',\n",
       "       '111361', '113043', 'PC 17611', '349225', '7598', '113784',\n",
       "       '248740', '244361', '229236', '248733', '31418', '386525',\n",
       "       'C.A. 37671', '315088', '7267', '113510', '2695', '2647', '345783',\n",
       "       '237671', '330931', '330980', 'SC/PARIS 2167', '2691',\n",
       "       'SOTON/O.Q. 3101310', 'C 7076', '110813', '2626', '14313',\n",
       "       'PC 17477', '11765', '3101267', '323951', 'C 7077', '113503',\n",
       "       '2648', '347069', 'PC 17757', '2653', 'STON/O 2. 3101293',\n",
       "       '349227', '27849', '367655', 'SC 1748', '113760', '350034',\n",
       "       '3101277', '350052', '350407', '28403', '244278', '240929',\n",
       "       'STON/O 2. 3101289', '341826', '4137', '315096', '28664', '347064',\n",
       "       '29106', '312992', '349222', '394140', 'STON/O 2. 3101269',\n",
       "       '343095', '28220', '250652', '28228', '345773', '349254',\n",
       "       'A/5. 13032', '315082', '347080', 'A/4. 34244', '2003', '250655',\n",
       "       '364851', 'SOTON/O.Q. 392078', '110564', '376564', 'SC/AH 3085',\n",
       "       'STON/O 2. 3101274', '13507', 'C.A. 18723', '345769', '347076',\n",
       "       '230434', '65306', '33638', '113794', '2666', '113786', '65303',\n",
       "       '113051', '17453', 'A/5 2817', '349240', '13509', '17464',\n",
       "       'F.C.C. 13531', '371060', '19952', '364506', '111320', '234360',\n",
       "       'A/S 2816', 'SOTON/O.Q. 3101306', '113792', '36209', '323592',\n",
       "       '315089', 'SC/AH Basle 541', '7553', '31027', '3460', '350060',\n",
       "       '3101298', '239854', 'A/5 3594', '4134', '11771', 'A.5. 18509',\n",
       "       '65304', 'SOTON/OQ 3101317', '113787', 'PC 17609', 'A/4 45380',\n",
       "       '36947', 'C.A. 6212', '350035', '315086', '364846', '330909',\n",
       "       '4135', '26360', '111427', 'C 4001', '382651', 'SOTON/OQ 3101316',\n",
       "       'PC 17473', 'PC 17603', '349209', '36967', 'C.A. 34260', '226875',\n",
       "       '349242', '12749', '349252', '2624', '2700', '367232',\n",
       "       'W./C. 14258', 'PC 17483', '3101296', '29104', '2641', '2690',\n",
       "       '315084', '113050', 'PC 17761', '364498', '13568', 'WE/P 5735',\n",
       "       '2908', '693', 'SC/PARIS 2146', '244358', '330979', '2620',\n",
       "       '347085', '113807', '11755', '345572', '372622', '349251',\n",
       "       '218629', 'SOTON/OQ 392082', 'SOTON/O.Q. 392087', 'A/4 48871',\n",
       "       '349205', '2686', '350417', 'S.W./PP 752', '11769', 'PC 17474',\n",
       "       '14312', 'A/4. 20589', '358585', '243880', '2689',\n",
       "       'STON/O 2. 3101286', '237789', '13049', '3411', '237565', '13567',\n",
       "       '14973', 'A./5. 3235', 'STON/O 2. 3101273', 'A/5 3902', '364848',\n",
       "       'SC/AH 29037', '248727', '2664', '349214', '113796', '364511',\n",
       "       '111426', '349910', '349246', '113804', 'SOTON/O.Q. 3101305',\n",
       "       '370377', '364512', '220845', '31028', '2659', '11753', '350029',\n",
       "       '54636', '36963', '219533', '349224', '334912', '27042', '347743',\n",
       "       '13214', '112052', '237668', 'STON/O 2. 3101292', '350050',\n",
       "       '349231', '13213', 'S.O./P.P. 751', 'CA. 2314', '349221', '8475',\n",
       "       '330919', '365226', '349223', '29751', '2623', '5727', '349210',\n",
       "       'STON/O 2. 3101285', '234686', '312993', 'A/5 3536', '19996',\n",
       "       '29750', 'F.C. 12750', 'C.A. 24580', '244270', '239856', '349912',\n",
       "       '342826', '4138', '330935', '6563', '349228', '350036', '24160',\n",
       "       '17474', '349256', '2672', '113800', '248731', '363592', '35852',\n",
       "       '348121', 'PC 17475', '36864', '350025', '223596', 'PC 17476',\n",
       "       'PC 17482', '113028', '7545', '250647', '348124', '34218', '36568',\n",
       "       '347062', '350048', '12233', '250643', '113806', '315094', '36866',\n",
       "       '236853', 'STON/O2. 3101271', '239855', '28425', '233639',\n",
       "       '349201', '349218', '16988', '376566', 'STON/O 2. 3101288',\n",
       "       '250648', '113773', '335097', '29103', '392096', '345780',\n",
       "       '349204', '350042', '29108', '363294', 'SOTON/O2 3101272', '2663',\n",
       "       '347074', '112379', '364850', '8471', '345781', '350047',\n",
       "       'S.O./P.P. 3', '2674', '29105', '347078', '383121', '36865',\n",
       "       '2687', '113501', 'W./C. 6607', 'SOTON/O.Q. 3101312', '374887',\n",
       "       '3101265', '12460', 'PC 17600', '349203', '28213', '17465',\n",
       "       '349244', '2685', '2625', '347089', '347063', '112050', '347087',\n",
       "       '248723', '3474', '28206', '364499', '112058', 'STON/O2. 3101290',\n",
       "       'S.C./PARIS 2079', 'C 7075', '315098', '19972', '368323', '367228',\n",
       "       '2671', '347468', '2223', 'PC 17756', '315097', '392092', '11774',\n",
       "       'SOTON/O2 3101287', '2683', '315090', 'C.A. 5547', '349213',\n",
       "       '347060', 'PC 17592', '392091', '113055', '2629', '350026',\n",
       "       '28134', '17466', '233866', '236852', 'SC/PARIS 2149', 'PC 17590',\n",
       "       '345777', '349248', '695', '345765', '2667', '349212', '349217',\n",
       "       '349257', '7552', 'C.A./SOTON 34068', 'SOTON/OQ 392076', '211536',\n",
       "       '112053', '111369', '370376'], dtype=object)"
      ]
     },
     "execution_count": 45,
     "metadata": {},
     "output_type": "execute_result"
    }
   ],
   "source": [
    "data['Ticket'].unique()"
   ]
  },
  {
   "cell_type": "code",
   "execution_count": 46,
   "id": "57fe0b95",
   "metadata": {},
   "outputs": [
    {
     "data": {
      "text/plain": [
       "array(['C23 C25 C27', 'C85', 'C123', 'E46', 'G6', 'C103', 'D56', 'A6',\n",
       "       'B78', 'D33', 'B30', 'C52', 'B28', 'C83', 'F33', 'F G73', 'E31',\n",
       "       'A5', 'D10 D12', 'D26', 'C110', 'B58 B60', 'E101', 'F E69', 'D47',\n",
       "       'B86', 'F2', 'C2', 'E33', 'B19', 'A7', 'C49', 'F4', 'A32', 'B4',\n",
       "       'B80', 'A31', 'D36', 'D15', 'C93', 'C78', 'D35', 'C87', 'B77',\n",
       "       'E67', 'B94', 'C125', 'C99', 'C118', 'D7', 'A19', 'B49', 'D',\n",
       "       'C22 C26', 'C106', 'C65', 'E36', 'C54', 'B57 B59 B63 B66', 'C7',\n",
       "       'E34', 'C32', 'B18', 'C124', 'C91', 'E40', 'T', 'C128', 'D37',\n",
       "       'B35', 'E50', 'C82', 'B96 B98', 'E10', 'E44', 'A34', 'C104',\n",
       "       'C111', 'C92', 'E38', 'D21', 'E12', 'E63', 'A14', 'B37', 'C30',\n",
       "       'D20', 'B79', 'E25', 'D46', 'B73', 'C95', 'B38', 'B39', 'B22',\n",
       "       'C86', 'C70', 'A16', 'C101', 'C68', 'A10', 'E68', 'B41', 'A20',\n",
       "       'D19', 'D50', 'D9', 'A23', 'B50', 'A26', 'D48', 'E58', 'C126',\n",
       "       'B71', 'B51 B53 B55', 'D49', 'B5', 'B20', 'F G63', 'C62 C64',\n",
       "       'E24', 'C90', 'C45', 'E8', 'B101', 'D45', 'C46', 'D30', 'E121',\n",
       "       'D11', 'E77', 'F38', 'B3', 'D6', 'B82 B84', 'D17', 'A36', 'B102',\n",
       "       'B69', 'E49', 'C47', 'D28', 'E17', 'A24', 'C50', 'B42', 'C148'],\n",
       "      dtype=object)"
      ]
     },
     "execution_count": 46,
     "metadata": {},
     "output_type": "execute_result"
    }
   ],
   "source": [
    "data['Cabin'].unique()"
   ]
  },
  {
   "cell_type": "code",
   "execution_count": 47,
   "id": "986c0684",
   "metadata": {},
   "outputs": [
    {
     "data": {
      "text/plain": [
       "array(['S', 'C', 'Q', 'B96 B98'], dtype=object)"
      ]
     },
     "execution_count": 47,
     "metadata": {},
     "output_type": "execute_result"
    }
   ],
   "source": [
    "data['Embarked'].unique()"
   ]
  },
  {
   "cell_type": "code",
   "execution_count": 48,
   "id": "676a333c",
   "metadata": {},
   "outputs": [],
   "source": [
    "ord_enc=OrdinalEncoder()"
   ]
  },
  {
   "cell_type": "code",
   "execution_count": 49,
   "id": "ba24c645",
   "metadata": {},
   "outputs": [],
   "source": [
    "data['Ticket']=ord_enc.fit_transform(data[['Ticket']])  ## coverting Ticket column to numerical"
   ]
  },
  {
   "cell_type": "code",
   "execution_count": 50,
   "id": "60f4d945",
   "metadata": {},
   "outputs": [],
   "source": [
    "data['Cabin']=ord_enc.fit_transform(data[['Cabin']])  ## coverting Cabin column to numerical"
   ]
  },
  {
   "cell_type": "code",
   "execution_count": 51,
   "id": "dd24ccc5",
   "metadata": {},
   "outputs": [],
   "source": [
    "data['Embarked']=ord_enc.fit_transform(data[['Embarked']])  ## coverting Embarked column to numerical"
   ]
  },
  {
   "cell_type": "code",
   "execution_count": 52,
   "id": "0b48793b",
   "metadata": {},
   "outputs": [
    {
     "data": {
      "text/html": [
       "<div>\n",
       "<style scoped>\n",
       "    .dataframe tbody tr th:only-of-type {\n",
       "        vertical-align: middle;\n",
       "    }\n",
       "\n",
       "    .dataframe tbody tr th {\n",
       "        vertical-align: top;\n",
       "    }\n",
       "\n",
       "    .dataframe thead th {\n",
       "        text-align: right;\n",
       "    }\n",
       "</style>\n",
       "<table border=\"1\" class=\"dataframe\">\n",
       "  <thead>\n",
       "    <tr style=\"text-align: right;\">\n",
       "      <th></th>\n",
       "      <th>Sex</th>\n",
       "      <th>Ticket</th>\n",
       "      <th>Cabin</th>\n",
       "      <th>Embarked</th>\n",
       "    </tr>\n",
       "  </thead>\n",
       "  <tbody>\n",
       "    <tr>\n",
       "      <th>0</th>\n",
       "      <td>male</td>\n",
       "      <td>523.0</td>\n",
       "      <td>63.0</td>\n",
       "      <td>3.0</td>\n",
       "    </tr>\n",
       "    <tr>\n",
       "      <th>1</th>\n",
       "      <td>female</td>\n",
       "      <td>596.0</td>\n",
       "      <td>81.0</td>\n",
       "      <td>1.0</td>\n",
       "    </tr>\n",
       "    <tr>\n",
       "      <th>2</th>\n",
       "      <td>female</td>\n",
       "      <td>669.0</td>\n",
       "      <td>63.0</td>\n",
       "      <td>3.0</td>\n",
       "    </tr>\n",
       "    <tr>\n",
       "      <th>3</th>\n",
       "      <td>female</td>\n",
       "      <td>49.0</td>\n",
       "      <td>55.0</td>\n",
       "      <td>3.0</td>\n",
       "    </tr>\n",
       "    <tr>\n",
       "      <th>4</th>\n",
       "      <td>male</td>\n",
       "      <td>472.0</td>\n",
       "      <td>63.0</td>\n",
       "      <td>3.0</td>\n",
       "    </tr>\n",
       "    <tr>\n",
       "      <th>...</th>\n",
       "      <td>...</td>\n",
       "      <td>...</td>\n",
       "      <td>...</td>\n",
       "      <td>...</td>\n",
       "    </tr>\n",
       "    <tr>\n",
       "      <th>886</th>\n",
       "      <td>male</td>\n",
       "      <td>101.0</td>\n",
       "      <td>63.0</td>\n",
       "      <td>3.0</td>\n",
       "    </tr>\n",
       "    <tr>\n",
       "      <th>887</th>\n",
       "      <td>female</td>\n",
       "      <td>14.0</td>\n",
       "      <td>30.0</td>\n",
       "      <td>3.0</td>\n",
       "    </tr>\n",
       "    <tr>\n",
       "      <th>888</th>\n",
       "      <td>female</td>\n",
       "      <td>675.0</td>\n",
       "      <td>63.0</td>\n",
       "      <td>3.0</td>\n",
       "    </tr>\n",
       "    <tr>\n",
       "      <th>889</th>\n",
       "      <td>male</td>\n",
       "      <td>8.0</td>\n",
       "      <td>60.0</td>\n",
       "      <td>1.0</td>\n",
       "    </tr>\n",
       "    <tr>\n",
       "      <th>890</th>\n",
       "      <td>male</td>\n",
       "      <td>466.0</td>\n",
       "      <td>63.0</td>\n",
       "      <td>2.0</td>\n",
       "    </tr>\n",
       "  </tbody>\n",
       "</table>\n",
       "<p>875 rows × 4 columns</p>\n",
       "</div>"
      ],
      "text/plain": [
       "        Sex  Ticket  Cabin  Embarked\n",
       "0      male   523.0   63.0       3.0\n",
       "1    female   596.0   81.0       1.0\n",
       "2    female   669.0   63.0       3.0\n",
       "3    female    49.0   55.0       3.0\n",
       "4      male   472.0   63.0       3.0\n",
       "..      ...     ...    ...       ...\n",
       "886    male   101.0   63.0       3.0\n",
       "887  female    14.0   30.0       3.0\n",
       "888  female   675.0   63.0       3.0\n",
       "889    male     8.0   60.0       1.0\n",
       "890    male   466.0   63.0       2.0\n",
       "\n",
       "[875 rows x 4 columns]"
      ]
     },
     "execution_count": 52,
     "metadata": {},
     "output_type": "execute_result"
    }
   ],
   "source": [
    "data[cat_col]"
   ]
  },
  {
   "cell_type": "code",
   "execution_count": 53,
   "id": "2fbdc008",
   "metadata": {},
   "outputs": [],
   "source": [
    "data_new=pd.get_dummies(data,dtype='int')  ## coverting Sex column to numerical"
   ]
  },
  {
   "cell_type": "code",
   "execution_count": 54,
   "id": "9033dafe",
   "metadata": {},
   "outputs": [
    {
     "data": {
      "text/html": [
       "<div>\n",
       "<style scoped>\n",
       "    .dataframe tbody tr th:only-of-type {\n",
       "        vertical-align: middle;\n",
       "    }\n",
       "\n",
       "    .dataframe tbody tr th {\n",
       "        vertical-align: top;\n",
       "    }\n",
       "\n",
       "    .dataframe thead th {\n",
       "        text-align: right;\n",
       "    }\n",
       "</style>\n",
       "<table border=\"1\" class=\"dataframe\">\n",
       "  <thead>\n",
       "    <tr style=\"text-align: right;\">\n",
       "      <th></th>\n",
       "      <th>Survived</th>\n",
       "      <th>Pclass</th>\n",
       "      <th>Age</th>\n",
       "      <th>SibSp</th>\n",
       "      <th>Parch</th>\n",
       "      <th>Ticket</th>\n",
       "      <th>Fare</th>\n",
       "      <th>Cabin</th>\n",
       "      <th>Embarked</th>\n",
       "      <th>Sex_female</th>\n",
       "      <th>Sex_male</th>\n",
       "    </tr>\n",
       "  </thead>\n",
       "  <tbody>\n",
       "    <tr>\n",
       "      <th>0</th>\n",
       "      <td>0</td>\n",
       "      <td>3</td>\n",
       "      <td>22.0</td>\n",
       "      <td>1</td>\n",
       "      <td>0</td>\n",
       "      <td>523.0</td>\n",
       "      <td>7.2500</td>\n",
       "      <td>63.0</td>\n",
       "      <td>3.0</td>\n",
       "      <td>0</td>\n",
       "      <td>1</td>\n",
       "    </tr>\n",
       "    <tr>\n",
       "      <th>1</th>\n",
       "      <td>1</td>\n",
       "      <td>1</td>\n",
       "      <td>38.0</td>\n",
       "      <td>1</td>\n",
       "      <td>0</td>\n",
       "      <td>596.0</td>\n",
       "      <td>71.2833</td>\n",
       "      <td>81.0</td>\n",
       "      <td>1.0</td>\n",
       "      <td>1</td>\n",
       "      <td>0</td>\n",
       "    </tr>\n",
       "    <tr>\n",
       "      <th>2</th>\n",
       "      <td>1</td>\n",
       "      <td>3</td>\n",
       "      <td>26.0</td>\n",
       "      <td>0</td>\n",
       "      <td>0</td>\n",
       "      <td>669.0</td>\n",
       "      <td>7.9250</td>\n",
       "      <td>63.0</td>\n",
       "      <td>3.0</td>\n",
       "      <td>1</td>\n",
       "      <td>0</td>\n",
       "    </tr>\n",
       "    <tr>\n",
       "      <th>3</th>\n",
       "      <td>1</td>\n",
       "      <td>1</td>\n",
       "      <td>35.0</td>\n",
       "      <td>1</td>\n",
       "      <td>0</td>\n",
       "      <td>49.0</td>\n",
       "      <td>53.1000</td>\n",
       "      <td>55.0</td>\n",
       "      <td>3.0</td>\n",
       "      <td>1</td>\n",
       "      <td>0</td>\n",
       "    </tr>\n",
       "    <tr>\n",
       "      <th>4</th>\n",
       "      <td>0</td>\n",
       "      <td>3</td>\n",
       "      <td>35.0</td>\n",
       "      <td>0</td>\n",
       "      <td>0</td>\n",
       "      <td>472.0</td>\n",
       "      <td>8.0500</td>\n",
       "      <td>63.0</td>\n",
       "      <td>3.0</td>\n",
       "      <td>0</td>\n",
       "      <td>1</td>\n",
       "    </tr>\n",
       "    <tr>\n",
       "      <th>...</th>\n",
       "      <td>...</td>\n",
       "      <td>...</td>\n",
       "      <td>...</td>\n",
       "      <td>...</td>\n",
       "      <td>...</td>\n",
       "      <td>...</td>\n",
       "      <td>...</td>\n",
       "      <td>...</td>\n",
       "      <td>...</td>\n",
       "      <td>...</td>\n",
       "      <td>...</td>\n",
       "    </tr>\n",
       "    <tr>\n",
       "      <th>886</th>\n",
       "      <td>0</td>\n",
       "      <td>2</td>\n",
       "      <td>27.0</td>\n",
       "      <td>0</td>\n",
       "      <td>0</td>\n",
       "      <td>101.0</td>\n",
       "      <td>13.0000</td>\n",
       "      <td>63.0</td>\n",
       "      <td>3.0</td>\n",
       "      <td>0</td>\n",
       "      <td>1</td>\n",
       "    </tr>\n",
       "    <tr>\n",
       "      <th>887</th>\n",
       "      <td>1</td>\n",
       "      <td>1</td>\n",
       "      <td>19.0</td>\n",
       "      <td>0</td>\n",
       "      <td>0</td>\n",
       "      <td>14.0</td>\n",
       "      <td>30.0000</td>\n",
       "      <td>30.0</td>\n",
       "      <td>3.0</td>\n",
       "      <td>1</td>\n",
       "      <td>0</td>\n",
       "    </tr>\n",
       "    <tr>\n",
       "      <th>888</th>\n",
       "      <td>0</td>\n",
       "      <td>3</td>\n",
       "      <td>28.0</td>\n",
       "      <td>1</td>\n",
       "      <td>2</td>\n",
       "      <td>675.0</td>\n",
       "      <td>23.4500</td>\n",
       "      <td>63.0</td>\n",
       "      <td>3.0</td>\n",
       "      <td>1</td>\n",
       "      <td>0</td>\n",
       "    </tr>\n",
       "    <tr>\n",
       "      <th>889</th>\n",
       "      <td>1</td>\n",
       "      <td>1</td>\n",
       "      <td>26.0</td>\n",
       "      <td>0</td>\n",
       "      <td>0</td>\n",
       "      <td>8.0</td>\n",
       "      <td>30.0000</td>\n",
       "      <td>60.0</td>\n",
       "      <td>1.0</td>\n",
       "      <td>0</td>\n",
       "      <td>1</td>\n",
       "    </tr>\n",
       "    <tr>\n",
       "      <th>890</th>\n",
       "      <td>0</td>\n",
       "      <td>3</td>\n",
       "      <td>32.0</td>\n",
       "      <td>0</td>\n",
       "      <td>0</td>\n",
       "      <td>466.0</td>\n",
       "      <td>7.7500</td>\n",
       "      <td>63.0</td>\n",
       "      <td>2.0</td>\n",
       "      <td>0</td>\n",
       "      <td>1</td>\n",
       "    </tr>\n",
       "  </tbody>\n",
       "</table>\n",
       "<p>875 rows × 11 columns</p>\n",
       "</div>"
      ],
      "text/plain": [
       "     Survived  Pclass   Age  SibSp  Parch  Ticket     Fare  Cabin  Embarked  \\\n",
       "0           0       3  22.0      1      0   523.0   7.2500   63.0       3.0   \n",
       "1           1       1  38.0      1      0   596.0  71.2833   81.0       1.0   \n",
       "2           1       3  26.0      0      0   669.0   7.9250   63.0       3.0   \n",
       "3           1       1  35.0      1      0    49.0  53.1000   55.0       3.0   \n",
       "4           0       3  35.0      0      0   472.0   8.0500   63.0       3.0   \n",
       "..        ...     ...   ...    ...    ...     ...      ...    ...       ...   \n",
       "886         0       2  27.0      0      0   101.0  13.0000   63.0       3.0   \n",
       "887         1       1  19.0      0      0    14.0  30.0000   30.0       3.0   \n",
       "888         0       3  28.0      1      2   675.0  23.4500   63.0       3.0   \n",
       "889         1       1  26.0      0      0     8.0  30.0000   60.0       1.0   \n",
       "890         0       3  32.0      0      0   466.0   7.7500   63.0       2.0   \n",
       "\n",
       "     Sex_female  Sex_male  \n",
       "0             0         1  \n",
       "1             1         0  \n",
       "2             1         0  \n",
       "3             1         0  \n",
       "4             0         1  \n",
       "..          ...       ...  \n",
       "886           0         1  \n",
       "887           1         0  \n",
       "888           1         0  \n",
       "889           0         1  \n",
       "890           0         1  \n",
       "\n",
       "[875 rows x 11 columns]"
      ]
     },
     "execution_count": 54,
     "metadata": {},
     "output_type": "execute_result"
    }
   ],
   "source": [
    "data_new"
   ]
  },
  {
   "cell_type": "code",
   "execution_count": 55,
   "id": "9a8b4ed6",
   "metadata": {},
   "outputs": [],
   "source": [
    "## Now we apply standard scaler to all the columns, before that we need to split features and target"
   ]
  },
  {
   "cell_type": "code",
   "execution_count": 56,
   "id": "46bb2b16",
   "metadata": {},
   "outputs": [],
   "source": [
    "target=data_new[['Survived']]\n",
    "features=data_new.drop('Survived',axis=1)"
   ]
  },
  {
   "cell_type": "code",
   "execution_count": 57,
   "id": "f3fb9bfc",
   "metadata": {},
   "outputs": [],
   "source": [
    "std_sca=StandardScaler()"
   ]
  },
  {
   "cell_type": "code",
   "execution_count": 58,
   "id": "d37a2c44",
   "metadata": {},
   "outputs": [
    {
     "data": {
      "text/plain": [
       "array([[ 0.83498946, -0.56655874,  0.55410137, ...,  0.58856783,\n",
       "        -0.73518226,  0.73518226],\n",
       "       [-1.5526438 ,  0.65552278,  0.55410137, ..., -1.91141687,\n",
       "         1.36020692, -1.36020692],\n",
       "       [ 0.83498946, -0.26103836, -0.5021921 , ...,  0.58856783,\n",
       "         1.36020692, -1.36020692],\n",
       "       ...,\n",
       "       [ 0.83498946, -0.10827817,  0.55410137, ...,  0.58856783,\n",
       "         1.36020692, -1.36020692],\n",
       "       [-1.5526438 , -0.26103836, -0.5021921 , ..., -1.91141687,\n",
       "        -0.73518226,  0.73518226],\n",
       "       [ 0.83498946,  0.19724221, -0.5021921 , ..., -0.66142452,\n",
       "        -0.73518226,  0.73518226]])"
      ]
     },
     "execution_count": 58,
     "metadata": {},
     "output_type": "execute_result"
    }
   ],
   "source": [
    "features=std_sca.fit_transform(features)\n",
    "features"
   ]
  },
  {
   "cell_type": "code",
   "execution_count": 59,
   "id": "d1cd584d",
   "metadata": {},
   "outputs": [
    {
     "data": {
      "text/html": [
       "<div>\n",
       "<style scoped>\n",
       "    .dataframe tbody tr th:only-of-type {\n",
       "        vertical-align: middle;\n",
       "    }\n",
       "\n",
       "    .dataframe tbody tr th {\n",
       "        vertical-align: top;\n",
       "    }\n",
       "\n",
       "    .dataframe thead th {\n",
       "        text-align: right;\n",
       "    }\n",
       "</style>\n",
       "<table border=\"1\" class=\"dataframe\">\n",
       "  <thead>\n",
       "    <tr style=\"text-align: right;\">\n",
       "      <th></th>\n",
       "      <th>Survived</th>\n",
       "    </tr>\n",
       "  </thead>\n",
       "  <tbody>\n",
       "    <tr>\n",
       "      <th>0</th>\n",
       "      <td>0</td>\n",
       "    </tr>\n",
       "    <tr>\n",
       "      <th>1</th>\n",
       "      <td>1</td>\n",
       "    </tr>\n",
       "    <tr>\n",
       "      <th>2</th>\n",
       "      <td>1</td>\n",
       "    </tr>\n",
       "    <tr>\n",
       "      <th>3</th>\n",
       "      <td>1</td>\n",
       "    </tr>\n",
       "    <tr>\n",
       "      <th>4</th>\n",
       "      <td>0</td>\n",
       "    </tr>\n",
       "    <tr>\n",
       "      <th>...</th>\n",
       "      <td>...</td>\n",
       "    </tr>\n",
       "    <tr>\n",
       "      <th>886</th>\n",
       "      <td>0</td>\n",
       "    </tr>\n",
       "    <tr>\n",
       "      <th>887</th>\n",
       "      <td>1</td>\n",
       "    </tr>\n",
       "    <tr>\n",
       "      <th>888</th>\n",
       "      <td>0</td>\n",
       "    </tr>\n",
       "    <tr>\n",
       "      <th>889</th>\n",
       "      <td>1</td>\n",
       "    </tr>\n",
       "    <tr>\n",
       "      <th>890</th>\n",
       "      <td>0</td>\n",
       "    </tr>\n",
       "  </tbody>\n",
       "</table>\n",
       "<p>875 rows × 1 columns</p>\n",
       "</div>"
      ],
      "text/plain": [
       "     Survived\n",
       "0           0\n",
       "1           1\n",
       "2           1\n",
       "3           1\n",
       "4           0\n",
       "..        ...\n",
       "886         0\n",
       "887         1\n",
       "888         0\n",
       "889         1\n",
       "890         0\n",
       "\n",
       "[875 rows x 1 columns]"
      ]
     },
     "execution_count": 59,
     "metadata": {},
     "output_type": "execute_result"
    }
   ],
   "source": [
    "target"
   ]
  },
  {
   "cell_type": "markdown",
   "id": "d4729038",
   "metadata": {},
   "source": [
    "# Model building"
   ]
  },
  {
   "cell_type": "code",
   "execution_count": 60,
   "id": "0f17b2c5",
   "metadata": {},
   "outputs": [],
   "source": [
    "from sklearn.linear_model import LogisticRegression"
   ]
  },
  {
   "cell_type": "code",
   "execution_count": 61,
   "id": "8cbab802",
   "metadata": {},
   "outputs": [],
   "source": [
    "## defining logistic regression model\n",
    "model=LogisticRegression()"
   ]
  },
  {
   "cell_type": "code",
   "execution_count": 62,
   "id": "c22c4598",
   "metadata": {},
   "outputs": [
    {
     "data": {
      "text/html": [
       "<style>#sk-container-id-1 {color: black;}#sk-container-id-1 pre{padding: 0;}#sk-container-id-1 div.sk-toggleable {background-color: white;}#sk-container-id-1 label.sk-toggleable__label {cursor: pointer;display: block;width: 100%;margin-bottom: 0;padding: 0.3em;box-sizing: border-box;text-align: center;}#sk-container-id-1 label.sk-toggleable__label-arrow:before {content: \"▸\";float: left;margin-right: 0.25em;color: #696969;}#sk-container-id-1 label.sk-toggleable__label-arrow:hover:before {color: black;}#sk-container-id-1 div.sk-estimator:hover label.sk-toggleable__label-arrow:before {color: black;}#sk-container-id-1 div.sk-toggleable__content {max-height: 0;max-width: 0;overflow: hidden;text-align: left;background-color: #f0f8ff;}#sk-container-id-1 div.sk-toggleable__content pre {margin: 0.2em;color: black;border-radius: 0.25em;background-color: #f0f8ff;}#sk-container-id-1 input.sk-toggleable__control:checked~div.sk-toggleable__content {max-height: 200px;max-width: 100%;overflow: auto;}#sk-container-id-1 input.sk-toggleable__control:checked~label.sk-toggleable__label-arrow:before {content: \"▾\";}#sk-container-id-1 div.sk-estimator input.sk-toggleable__control:checked~label.sk-toggleable__label {background-color: #d4ebff;}#sk-container-id-1 div.sk-label input.sk-toggleable__control:checked~label.sk-toggleable__label {background-color: #d4ebff;}#sk-container-id-1 input.sk-hidden--visually {border: 0;clip: rect(1px 1px 1px 1px);clip: rect(1px, 1px, 1px, 1px);height: 1px;margin: -1px;overflow: hidden;padding: 0;position: absolute;width: 1px;}#sk-container-id-1 div.sk-estimator {font-family: monospace;background-color: #f0f8ff;border: 1px dotted black;border-radius: 0.25em;box-sizing: border-box;margin-bottom: 0.5em;}#sk-container-id-1 div.sk-estimator:hover {background-color: #d4ebff;}#sk-container-id-1 div.sk-parallel-item::after {content: \"\";width: 100%;border-bottom: 1px solid gray;flex-grow: 1;}#sk-container-id-1 div.sk-label:hover label.sk-toggleable__label {background-color: #d4ebff;}#sk-container-id-1 div.sk-serial::before {content: \"\";position: absolute;border-left: 1px solid gray;box-sizing: border-box;top: 0;bottom: 0;left: 50%;z-index: 0;}#sk-container-id-1 div.sk-serial {display: flex;flex-direction: column;align-items: center;background-color: white;padding-right: 0.2em;padding-left: 0.2em;position: relative;}#sk-container-id-1 div.sk-item {position: relative;z-index: 1;}#sk-container-id-1 div.sk-parallel {display: flex;align-items: stretch;justify-content: center;background-color: white;position: relative;}#sk-container-id-1 div.sk-item::before, #sk-container-id-1 div.sk-parallel-item::before {content: \"\";position: absolute;border-left: 1px solid gray;box-sizing: border-box;top: 0;bottom: 0;left: 50%;z-index: -1;}#sk-container-id-1 div.sk-parallel-item {display: flex;flex-direction: column;z-index: 1;position: relative;background-color: white;}#sk-container-id-1 div.sk-parallel-item:first-child::after {align-self: flex-end;width: 50%;}#sk-container-id-1 div.sk-parallel-item:last-child::after {align-self: flex-start;width: 50%;}#sk-container-id-1 div.sk-parallel-item:only-child::after {width: 0;}#sk-container-id-1 div.sk-dashed-wrapped {border: 1px dashed gray;margin: 0 0.4em 0.5em 0.4em;box-sizing: border-box;padding-bottom: 0.4em;background-color: white;}#sk-container-id-1 div.sk-label label {font-family: monospace;font-weight: bold;display: inline-block;line-height: 1.2em;}#sk-container-id-1 div.sk-label-container {text-align: center;}#sk-container-id-1 div.sk-container {/* jupyter's `normalize.less` sets `[hidden] { display: none; }` but bootstrap.min.css set `[hidden] { display: none !important; }` so we also need the `!important` here to be able to override the default hidden behavior on the sphinx rendered scikit-learn.org. See: https://github.com/scikit-learn/scikit-learn/issues/21755 */display: inline-block !important;position: relative;}#sk-container-id-1 div.sk-text-repr-fallback {display: none;}</style><div id=\"sk-container-id-1\" class=\"sk-top-container\"><div class=\"sk-text-repr-fallback\"><pre>LogisticRegression()</pre><b>In a Jupyter environment, please rerun this cell to show the HTML representation or trust the notebook. <br />On GitHub, the HTML representation is unable to render, please try loading this page with nbviewer.org.</b></div><div class=\"sk-container\" hidden><div class=\"sk-item\"><div class=\"sk-estimator sk-toggleable\"><input class=\"sk-toggleable__control sk-hidden--visually\" id=\"sk-estimator-id-1\" type=\"checkbox\" checked><label for=\"sk-estimator-id-1\" class=\"sk-toggleable__label sk-toggleable__label-arrow\">LogisticRegression</label><div class=\"sk-toggleable__content\"><pre>LogisticRegression()</pre></div></div></div></div></div>"
      ],
      "text/plain": [
       "LogisticRegression()"
      ]
     },
     "execution_count": 62,
     "metadata": {},
     "output_type": "execute_result"
    }
   ],
   "source": [
    "## training the model\n",
    "model.fit(features,target)"
   ]
  },
  {
   "cell_type": "code",
   "execution_count": 63,
   "id": "b7f0e71a",
   "metadata": {},
   "outputs": [],
   "source": [
    "from sklearn.metrics import accuracy_score  ## to evaluate performance of the model"
   ]
  },
  {
   "cell_type": "code",
   "execution_count": 64,
   "id": "201a3912",
   "metadata": {},
   "outputs": [],
   "source": [
    "pred=model.predict(features)  ## predicting target values based on model"
   ]
  },
  {
   "cell_type": "code",
   "execution_count": 65,
   "id": "9c31a7da",
   "metadata": {},
   "outputs": [
    {
     "data": {
      "text/plain": [
       "0.8057142857142857"
      ]
     },
     "execution_count": 65,
     "metadata": {},
     "output_type": "execute_result"
    }
   ],
   "source": [
    "accuracy_score(target,pred)"
   ]
  },
  {
   "cell_type": "code",
   "execution_count": 66,
   "id": "850f73e3",
   "metadata": {},
   "outputs": [],
   "source": [
    "## training validation score is 80.57 percent"
   ]
  },
  {
   "cell_type": "code",
   "execution_count": 67,
   "id": "913ce221",
   "metadata": {},
   "outputs": [],
   "source": [
    "from sklearn.metrics import confusion_matrix,classification_report"
   ]
  },
  {
   "cell_type": "code",
   "execution_count": 68,
   "id": "557d7ae5",
   "metadata": {},
   "outputs": [
    {
     "data": {
      "text/plain": [
       "array([[461,  78],\n",
       "       [ 92, 244]], dtype=int64)"
      ]
     },
     "execution_count": 68,
     "metadata": {},
     "output_type": "execute_result"
    }
   ],
   "source": [
    "confusion_matrix(target,pred)"
   ]
  },
  {
   "cell_type": "code",
   "execution_count": 69,
   "id": "c1b7643d",
   "metadata": {},
   "outputs": [
    {
     "name": "stdout",
     "output_type": "stream",
     "text": [
      "              precision    recall  f1-score   support\n",
      "\n",
      "           0       0.83      0.86      0.84       539\n",
      "           1       0.76      0.73      0.74       336\n",
      "\n",
      "    accuracy                           0.81       875\n",
      "   macro avg       0.80      0.79      0.79       875\n",
      "weighted avg       0.80      0.81      0.80       875\n",
      "\n"
     ]
    }
   ],
   "source": [
    "print(classification_report(target,pred))"
   ]
  },
  {
   "cell_type": "code",
   "execution_count": 70,
   "id": "b159f662",
   "metadata": {},
   "outputs": [
    {
     "data": {
      "text/plain": [
       "array([[-0.84594219, -0.49147829, -0.2764818 , -0.08539269, -0.14688087,\n",
       "         0.12989909,  0.1742099 , -0.18564139,  0.65365223, -0.65365223]])"
      ]
     },
     "execution_count": 70,
     "metadata": {},
     "output_type": "execute_result"
    }
   ],
   "source": [
    "model.coef_"
   ]
  },
  {
   "cell_type": "code",
   "execution_count": 71,
   "id": "01a6b657",
   "metadata": {},
   "outputs": [
    {
     "data": {
      "text/plain": [
       "array([-0.64929841])"
      ]
     },
     "execution_count": 71,
     "metadata": {},
     "output_type": "execute_result"
    }
   ],
   "source": [
    "model.intercept_"
   ]
  },
  {
   "cell_type": "code",
   "execution_count": 72,
   "id": "7fff31df",
   "metadata": {},
   "outputs": [],
   "source": [
    "from sklearn.metrics import roc_auc_score,roc_curve"
   ]
  },
  {
   "cell_type": "code",
   "execution_count": 73,
   "id": "7d0b9fd0",
   "metadata": {},
   "outputs": [
    {
     "data": {
      "image/png": "[encoded data removed]",
      "text/plain": [
       "<Figure size 640x480 with 2 Axes>"
      ]
     },
     "metadata": {},
     "output_type": "display_data"
    }
   ],
   "source": [
    "sns.heatmap(confusion_matrix(target,pred),annot=True,cmap='BuGn')\n",
    "plt.xlabel('Predicted_Value')\n",
    "plt.ylabel('Actual_Value')\n",
    "plt.title('Confusion Matrix')\n",
    "plt.show();"
   ]
  },
  {
   "cell_type": "code",
   "execution_count": 74,
   "id": "347b607a",
   "metadata": {},
   "outputs": [],
   "source": [
    "## Now we will try to perform manual calculations for precision, recall and F1 score"
   ]
  },
  {
   "cell_type": "code",
   "execution_count": 75,
   "id": "9456fdf4",
   "metadata": {},
   "outputs": [
    {
     "data": {
      "text/plain": [
       "array([[461,  78],\n",
       "       [ 92, 244]], dtype=int64)"
      ]
     },
     "execution_count": 75,
     "metadata": {},
     "output_type": "execute_result"
    }
   ],
   "source": [
    "confusion_matrix(target,pred)"
   ]
  },
  {
   "cell_type": "code",
   "execution_count": 76,
   "id": "5f405a81",
   "metadata": {},
   "outputs": [
    {
     "data": {
      "text/plain": [
       "Survived\n",
       "0           539\n",
       "1           336\n",
       "Name: count, dtype: int64"
      ]
     },
     "execution_count": 76,
     "metadata": {},
     "output_type": "execute_result"
    }
   ],
   "source": [
    "target.value_counts()"
   ]
  },
  {
   "cell_type": "code",
   "execution_count": 77,
   "id": "07e46117",
   "metadata": {},
   "outputs": [
    {
     "data": {
      "text/plain": [
       "0.833634719710669"
      ]
     },
     "execution_count": 77,
     "metadata": {},
     "output_type": "execute_result"
    }
   ],
   "source": [
    "## precision = True Positive / (True Positive + False Positive)\n",
    "precision_0= 461/(461+92)\n",
    "precision_0"
   ]
  },
  {
   "cell_type": "code",
   "execution_count": 78,
   "id": "12db88d4",
   "metadata": {},
   "outputs": [
    {
     "data": {
      "text/plain": [
       "0.7577639751552795"
      ]
     },
     "execution_count": 78,
     "metadata": {},
     "output_type": "execute_result"
    }
   ],
   "source": [
    "precision_1= 244/(78+244)\n",
    "precision_1"
   ]
  },
  {
   "cell_type": "code",
   "execution_count": 79,
   "id": "4817fc69",
   "metadata": {},
   "outputs": [
    {
     "data": {
      "text/plain": [
       "0.8552875695732839"
      ]
     },
     "execution_count": 79,
     "metadata": {},
     "output_type": "execute_result"
    }
   ],
   "source": [
    "## recall = True Positive / (True Positive + False Negative)\n",
    "recall_0= 461/(461+78)\n",
    "recall_0"
   ]
  },
  {
   "cell_type": "code",
   "execution_count": 80,
   "id": "43338be0",
   "metadata": {},
   "outputs": [
    {
     "data": {
      "text/plain": [
       "0.7261904761904762"
      ]
     },
     "execution_count": 80,
     "metadata": {},
     "output_type": "execute_result"
    }
   ],
   "source": [
    "recall_1= 244/(92+244)\n",
    "recall_1"
   ]
  },
  {
   "cell_type": "code",
   "execution_count": 81,
   "id": "71daf6a3",
   "metadata": {},
   "outputs": [
    {
     "data": {
      "text/plain": [
       "0.8443223443223442"
      ]
     },
     "execution_count": 81,
     "metadata": {},
     "output_type": "execute_result"
    }
   ],
   "source": [
    "## f1-score = 2*precision*recall / (precision + recall)\n",
    "f1_score_0= 2*(precision_0*recall_0)/(precision_0+recall_0)\n",
    "f1_score_0"
   ]
  },
  {
   "cell_type": "code",
   "execution_count": 82,
   "id": "e41f6802",
   "metadata": {},
   "outputs": [
    {
     "data": {
      "text/plain": [
       "0.7416413373860182"
      ]
     },
     "execution_count": 82,
     "metadata": {},
     "output_type": "execute_result"
    }
   ],
   "source": [
    "f1_score_1= 2*(precision_1*recall_1)/(precision_1+recall_1)\n",
    "f1_score_1"
   ]
  },
  {
   "cell_type": "code",
   "execution_count": 83,
   "id": "da73d653",
   "metadata": {},
   "outputs": [],
   "source": [
    "## All our manual calculations are justified in the classification report"
   ]
  },
  {
   "cell_type": "code",
   "execution_count": 84,
   "id": "ebb3891d",
   "metadata": {},
   "outputs": [],
   "source": [
    "## For ROC curve we need to find prected probability of the features"
   ]
  },
  {
   "cell_type": "code",
   "execution_count": 85,
   "id": "9f9ffa7c",
   "metadata": {},
   "outputs": [
    {
     "data": {
      "text/plain": [
       "array([0.07682474, 0.91670883, 0.57193335, 0.89887945, 0.06643248,\n",
       "       0.11892257, 0.40321801, 0.09141965, 0.57090686, 0.91474497,\n",
       "       0.81125032, 0.81799159, 0.1066071 , 0.03060949, 0.71656884,\n",
       "       0.64791351, 0.08334524, 0.24560192, 0.52639775, 0.73732759,\n",
       "       0.20711576, 0.278797  , 0.77229845, 0.40412553, 0.55419964,\n",
       "       0.33731449, 0.15400539, 0.45693756, 0.67464608, 0.09113141,\n",
       "       0.40425684, 0.93372085, 0.67376802, 0.05485415, 0.47770214,\n",
       "       0.32094637, 0.15182506, 0.10451483, 0.57466742, 0.78152989,\n",
       "       0.40006741, 0.81079155, 0.13504904, 0.90336794, 0.74418962,\n",
       "       0.07682842, 0.08215972, 0.70693212, 0.09465329, 0.63123568,\n",
       "       0.06780794, 0.10390726, 0.89770579, 0.77848659, 0.22124361,\n",
       "       0.51355055, 0.82885279, 0.14821783, 0.84729613, 0.03283229,\n",
       "       0.18370248, 0.94588771, 0.28038796, 0.08182664, 0.51512381,\n",
       "       0.11021538, 0.87361219, 0.1040978 , 0.39048428, 0.06067987,\n",
       "       0.17133595, 0.30336106, 0.25992648, 0.12786068, 0.10743657,\n",
       "       0.17669591, 0.09155689, 0.08464969, 0.43074786, 0.58053662,\n",
       "       0.11615897, 0.09146158, 0.67507584, 0.51714623, 0.84125883,\n",
       "       0.37296345, 0.06773039, 0.0750301 , 0.91807519, 0.10892789,\n",
       "       0.09194058, 0.12085972, 0.29904041, 0.05556065, 0.02892705,\n",
       "       0.08453627, 0.12318192, 0.61261381, 0.79187494, 0.16728929,\n",
       "       0.60427323, 0.09119209, 0.57598388, 0.06976239, 0.04164312,\n",
       "       0.09161782, 0.67915306, 0.09786981, 0.06330876, 0.58499526,\n",
       "       0.33043927, 0.77886418, 0.118176  , 0.58861094, 0.81301449,\n",
       "       0.09451816, 0.02330722, 0.20436575, 0.6138575 , 0.52903323,\n",
       "       0.16376974, 0.08092453, 0.25715891, 0.86265855, 0.28242103,\n",
       "       0.19946697, 0.10506314, 0.0925585 , 0.78340133, 0.05174797,\n",
       "       0.11540574, 0.09926927, 0.33696135, 0.79422876, 0.21361793,\n",
       "       0.30663935, 0.96162748, 0.34761158, 0.12455503, 0.55031304,\n",
       "       0.69552173, 0.66512984, 0.52351022, 0.14324068, 0.32595243,\n",
       "       0.19478433, 0.09161204, 0.54846044, 0.27962126, 0.16180931,\n",
       "       0.08852577, 0.94087614, 0.03093024, 0.04336134, 0.0790056 ,\n",
       "       0.306296  , 0.74658881, 0.06988775, 0.09781489, 0.00784622,\n",
       "       0.04458333, 0.70578361, 0.10005866, 0.14016281, 0.08350695,\n",
       "       0.1404577 , 0.96146671, 0.30017088, 0.40373003, 0.12270714,\n",
       "       0.17310652, 0.07778587, 0.74574077, 0.0949578 , 0.26606988,\n",
       "       0.08629184, 0.03458524, 0.88412822, 0.22961818, 0.05863547,\n",
       "       0.10904488, 0.26838527, 0.05302043, 0.49165779, 0.77394576,\n",
       "       0.40663439, 0.58130927, 0.35143819, 0.0497103 , 0.06800241,\n",
       "       0.81580559, 0.30153213, 0.61132605, 0.53137728, 0.87067994,\n",
       "       0.86149296, 0.10582298, 0.04620807, 0.64533242, 0.85329344,\n",
       "       0.09494333, 0.08010707, 0.08635337, 0.11434205, 0.883784  ,\n",
       "       0.06678201, 0.1644498 , 0.742838  , 0.39903322, 0.08651165,\n",
       "       0.74426994, 0.10007032, 0.23039637, 0.08169093, 0.95624882,\n",
       "       0.5625388 , 0.13046918, 0.96827813, 0.16932002, 0.11283201,\n",
       "       0.25903657, 0.04868414, 0.09034595, 0.41623928, 0.09481933,\n",
       "       0.23642198, 0.10532569, 0.32568293, 0.35667637, 0.89772194,\n",
       "       0.09042488, 0.0938269 , 0.50171699, 0.21862824, 0.55177173,\n",
       "       0.11758459, 0.86906767, 0.29955014, 0.15882895, 0.6796755 ,\n",
       "       0.58398046, 0.17519414, 0.09166809, 0.14142521, 0.33240999,\n",
       "       0.64079428, 0.82450544, 0.41297463, 0.08695845, 0.08742281,\n",
       "       0.67330225, 0.24977527, 0.05879416, 0.42558708, 0.69033914,\n",
       "       0.94990494, 0.93480744, 0.97794086, 0.6780667 , 0.10376203,\n",
       "       0.0655365 , 0.36810429, 0.34556874, 0.64247786, 0.15209161,\n",
       "       0.04932637, 0.07877306, 0.80054976, 0.92825151, 0.50266167,\n",
       "       0.08603329, 0.73719436, 0.38980244, 0.64466168, 0.84062034,\n",
       "       0.45691529, 0.24153431, 0.07008169, 0.41867881, 0.03215674,\n",
       "       0.09246559, 0.14097969, 0.1103793 , 0.3816192 , 0.1157592 ,\n",
       "       0.08856687, 0.112239  , 0.16310467, 0.69458066, 0.94869047,\n",
       "       0.9584508 , 0.25171924, 0.64148108, 0.10353688, 0.51420919,\n",
       "       0.17382537, 0.971622  , 0.46818395, 0.90263486, 0.63656906,\n",
       "       0.06477434, 0.10547443, 0.91030719, 0.08163543, 0.69732321,\n",
       "       0.96755925, 0.96141603, 0.21296539, 0.9653393 , 0.97249763,\n",
       "       0.9402171 , 0.78846778, 0.08992553, 0.0865131 , 0.62908607,\n",
       "       0.8190229 , 0.10387002, 0.9297425 , 0.95749362, 0.1002023 ,\n",
       "       0.09410129, 0.85719171, 0.81461194, 0.94201452, 0.02940157,\n",
       "       0.81508509, 0.47911466, 0.96360647, 0.51735138, 0.33380659,\n",
       "       0.40931924, 0.08601337, 0.91020373, 0.09064732, 0.4415414 ,\n",
       "       0.97070284, 0.04538844, 0.51943883, 0.54071302, 0.91520708,\n",
       "       0.24451804, 0.26734674, 0.1987762 , 0.9181504 , 0.74819467,\n",
       "       0.52001031, 0.13174447, 0.0600742 , 0.09867762, 0.50008748,\n",
       "       0.16250831, 0.07838   , 0.15371937, 0.0944411 , 0.96899684,\n",
       "       0.77839859, 0.67528873, 0.6743245 , 0.03235489, 0.21376042,\n",
       "       0.57113412, 0.05901198, 0.08232555, 0.07516438, 0.900878  ,\n",
       "       0.73860421, 0.70662858, 0.93988826, 0.71387226, 0.10585694,\n",
       "       0.13050879, 0.63587207, 0.59997226, 0.93401475, 0.62923911,\n",
       "       0.71417432, 0.19552641, 0.1262499 , 0.94197479, 0.86443516,\n",
       "       0.06465357, 0.90487971, 0.09058698, 0.28216793, 0.04708515,\n",
       "       0.78010178, 0.10616483, 0.89514547, 0.3349965 , 0.11245116,\n",
       "       0.05738019, 0.96722652, 0.70949203, 0.10812147, 0.57165508,\n",
       "       0.1395488 , 0.28143598, 0.83538031, 0.05053737, 0.10218713,\n",
       "       0.57931318, 0.05757554, 0.69238456, 0.15755339, 0.04174028,\n",
       "       0.34744096, 0.12356676, 0.09082858, 0.10320726, 0.93974274,\n",
       "       0.04249191, 0.61984265, 0.7291977 , 0.85409   , 0.22244427,\n",
       "       0.72803036, 0.13496352, 0.12658949, 0.09431413, 0.52010886,\n",
       "       0.0861689 , 0.08180911, 0.80158039, 0.87812967, 0.10686693,\n",
       "       0.09750264, 0.52437832, 0.52128969, 0.61886106, 0.10861108,\n",
       "       0.37233005, 0.94682374, 0.43634289, 0.69330954, 0.18379467,\n",
       "       0.17779974, 0.57621634, 0.12415354, 0.07909251, 0.83790673,\n",
       "       0.08319837, 0.55339734, 0.88919388, 0.44406219, 0.77362472,\n",
       "       0.27008577, 0.10069955, 0.06541028, 0.58094801, 0.42773826,\n",
       "       0.08158055, 0.13172569, 0.29175435, 0.94077264, 0.6169053 ,\n",
       "       0.10471935, 0.41577726, 0.0708439 , 0.48174835, 0.135753  ,\n",
       "       0.08097901, 0.05313389, 0.25925948, 0.1079842 , 0.80034215,\n",
       "       0.09659296, 0.0690872 , 0.65981126, 0.89523497, 0.63692541,\n",
       "       0.39758152, 0.15542672, 0.06931411, 0.10798199, 0.80244358,\n",
       "       0.03530181, 0.24140018, 0.03735846, 0.27626503, 0.5433641 ,\n",
       "       0.92509655, 0.2729045 , 0.07669762, 0.10804607, 0.06536552,\n",
       "       0.09543744, 0.27060995, 0.18264842, 0.10424099, 0.15676146,\n",
       "       0.88536621, 0.08098044, 0.93523013, 0.10162533, 0.14051621,\n",
       "       0.70720831, 0.67562787, 0.50305526, 0.96102634, 0.60795388,\n",
       "       0.7736376 , 0.50654327, 0.08365541, 0.13102092, 0.10052109,\n",
       "       0.07523365, 0.44782823, 0.83418463, 0.10466931, 0.3457082 ,\n",
       "       0.85074541, 0.10871331, 0.74811135, 0.07842302, 0.93238023,\n",
       "       0.10956734, 0.15457874, 0.90248937, 0.15041589, 0.06920399,\n",
       "       0.59928056, 0.5796236 , 0.06718655, 0.15570766, 0.9008883 ,\n",
       "       0.15381608, 0.15292635, 0.70049972, 0.60850343, 0.87205975,\n",
       "       0.28360749, 0.94881793, 0.08870111, 0.9505265 , 0.82065045,\n",
       "       0.46343778, 0.44482838, 0.16929015, 0.33073232, 0.1562713 ,\n",
       "       0.83707916, 0.26749246, 0.05225351, 0.26770723, 0.72551572,\n",
       "       0.25947923, 0.11806331, 0.18657327, 0.66465481, 0.21739459,\n",
       "       0.84301094, 0.63953294, 0.93625294, 0.47930334, 0.10451356,\n",
       "       0.05895921, 0.25241816, 0.07508094, 0.55788086, 0.05697105,\n",
       "       0.12403935, 0.49649276, 0.15135414, 0.07663462, 0.06000599,\n",
       "       0.75892816, 0.44771143, 0.70678038, 0.12295554, 0.12053728,\n",
       "       0.80182297, 0.93276809, 0.67712144, 0.06483094, 0.80036081,\n",
       "       0.93603519, 0.10722973, 0.41599039, 0.14409593, 0.97513507,\n",
       "       0.1401383 , 0.21395408, 0.13388764, 0.0822967 , 0.05841566,\n",
       "       0.89276848, 0.04151431, 0.59997442, 0.11242899, 0.05135736,\n",
       "       0.84106405, 0.03682708, 0.1527691 , 0.19460493, 0.7539246 ,\n",
       "       0.0912528 , 0.51025225, 0.0497402 , 0.55681195, 0.05228926,\n",
       "       0.08379861, 0.51117043, 0.82082918, 0.8977011 , 0.32826433,\n",
       "       0.07556295, 0.10478803, 0.06831905, 0.80695587, 0.0529468 ,\n",
       "       0.52905448, 0.93043057, 0.24447012, 0.12500878, 0.37934096,\n",
       "       0.14362829, 0.11253943, 0.10782089, 0.2434147 , 0.12498319,\n",
       "       0.97179999, 0.09709338, 0.11788496, 0.07243872, 0.04097178,\n",
       "       0.51446115, 0.48874133, 0.53340827, 0.8365094 , 0.06469787,\n",
       "       0.13061654, 0.39754773, 0.06573667, 0.11566763, 0.59787209,\n",
       "       0.12270714, 0.37056747, 0.12237802, 0.26022673, 0.07658078,\n",
       "       0.61682263, 0.09088908, 0.87401018, 0.10474539, 0.67558132,\n",
       "       0.72859142, 0.14892467, 0.09076813, 0.52225282, 0.2688585 ,\n",
       "       0.36635382, 0.1763763 , 0.10443696, 0.38373308, 0.06929372,\n",
       "       0.07517484, 0.11472369, 0.27109273, 0.09774057, 0.0481135 ,\n",
       "       0.91930879, 0.6836293 , 0.28315712, 0.04753667, 0.22610587,\n",
       "       0.24113206, 0.1245041 , 0.10732971, 0.67347163, 0.24923154,\n",
       "       0.66107117, 0.67511478, 0.64950746, 0.1093702 , 0.02943835,\n",
       "       0.06182703, 0.20916702, 0.05296857, 0.12309366, 0.12403181,\n",
       "       0.96354586, 0.32700156, 0.84417217, 0.16710479, 0.23095849,\n",
       "       0.11655046, 0.04991356, 0.65233048, 0.39379607, 0.1011406 ,\n",
       "       0.97008017, 0.4547092 , 0.78584123, 0.11718692, 0.07287536,\n",
       "       0.18016085, 0.73335811, 0.39051033, 0.96428791, 0.96062812,\n",
       "       0.4903962 , 0.25786357, 0.08026401, 0.11581541, 0.2117527 ,\n",
       "       0.95083302, 0.87903495, 0.10859233, 0.0789705 , 0.91571711,\n",
       "       0.09842148, 0.21679147, 0.1239665 , 0.60440244, 0.12705104,\n",
       "       0.64856086, 0.64699935, 0.22265414, 0.50917434, 0.94560313,\n",
       "       0.25685152, 0.2412661 , 0.27073404, 0.28677931, 0.08357474,\n",
       "       0.25274441, 0.65806245, 0.09192302, 0.09101017, 0.58186573,\n",
       "       0.38784063, 0.9335642 , 0.07553095, 0.06709852, 0.06413812,\n",
       "       0.08672721, 0.82226551, 0.60570245, 0.10660298, 0.88940826,\n",
       "       0.23081802, 0.07967235, 0.10869445, 0.62934557, 0.37709572,\n",
       "       0.0885947 , 0.30694762, 0.0710853 , 0.92759888, 0.08905693,\n",
       "       0.04752121, 0.19592051, 0.88631484, 0.13894136, 0.87427634,\n",
       "       0.6267599 , 0.62785948, 0.08347839, 0.07189367, 0.10815885,\n",
       "       0.0437828 , 0.68657044, 0.15191798, 0.49832237, 0.12994434,\n",
       "       0.18355043, 0.7796204 , 0.10595857, 0.89478772, 0.82887103,\n",
       "       0.92710737, 0.59674284, 0.04771011, 0.08353462, 0.09355508,\n",
       "       0.71113694, 0.06767439, 0.13071664, 0.34700911, 0.13570181,\n",
       "       0.34770209, 0.51778671, 0.10169856, 0.16968428, 0.8980766 ,\n",
       "       0.57773069, 0.14205014, 0.51207832, 0.20473427, 0.69926351,\n",
       "       0.56286722, 0.31698221, 0.09559328, 0.08455007, 0.29149705,\n",
       "       0.69710117, 0.17692289, 0.94968941, 0.09903459, 0.05811008,\n",
       "       0.19100756, 0.49152758, 0.08010316, 0.39270417, 0.59890301,\n",
       "       0.19017627, 0.04745773, 0.06642063, 0.79945011, 0.10044776,\n",
       "       0.38179193, 0.6785882 , 0.0806785 , 0.1059034 , 0.46576764,\n",
       "       0.10651794, 0.87654624, 0.7762511 , 0.36613198, 0.15210819,\n",
       "       0.1093241 , 0.14973102, 0.93594316, 0.12278772, 0.08397125,\n",
       "       0.62288556, 0.09901458, 0.26483923, 0.95847233, 0.12253745,\n",
       "       0.14025109, 0.04863553, 0.1094497 , 0.23511611, 0.96218675,\n",
       "       0.06308401, 0.01809145, 0.79474368, 0.95327767, 0.68208111,\n",
       "       0.65084198, 0.85370057, 0.40547156, 0.7082173 , 0.15410225,\n",
       "       0.03283275, 0.2302957 , 0.90139669, 0.27901568, 0.75210364,\n",
       "       0.8140705 , 0.2847018 , 0.09475471, 0.14480947, 0.0959439 ,\n",
       "       0.88207603, 0.30615688, 0.04893618, 0.81865291, 0.81936898,\n",
       "       0.10924213, 0.12356272, 0.09107077, 0.90389488, 0.84335162,\n",
       "       0.07508867, 0.63750288, 0.19280429, 0.08314301, 0.42428906,\n",
       "       0.25959921, 0.94458695, 0.43673725, 0.63435091, 0.09157573])"
      ]
     },
     "execution_count": 85,
     "metadata": {},
     "output_type": "execute_result"
    }
   ],
   "source": [
    "pred_prob=model.predict_proba(features)[:,1]\n",
    "pred_prob"
   ]
  },
  {
   "cell_type": "code",
   "execution_count": 86,
   "id": "6702d477",
   "metadata": {},
   "outputs": [
    {
     "data": {
      "text/plain": [
       "0.8622973540065377"
      ]
     },
     "execution_count": 86,
     "metadata": {},
     "output_type": "execute_result"
    }
   ],
   "source": [
    "auc_score=roc_auc_score(target,pred_prob)\n",
    "auc_score"
   ]
  },
  {
   "cell_type": "code",
   "execution_count": 87,
   "id": "b4988b2e",
   "metadata": {},
   "outputs": [],
   "source": [
    "## Area under the ROC curve is 86 percent which is greated than 50 percent. This means the model is acceptable."
   ]
  },
  {
   "cell_type": "code",
   "execution_count": 88,
   "id": "792b7df9",
   "metadata": {},
   "outputs": [
    {
     "data": {
      "text/plain": [
       "(array([0.        , 0.        , 0.        , 0.00185529, 0.00185529,\n",
       "        0.00371058, 0.00371058, 0.00742115, 0.00742115, 0.00927644,\n",
       "        0.00927644, 0.01113173, 0.01113173, 0.01298701, 0.01298701,\n",
       "        0.0148423 , 0.0148423 , 0.01855288, 0.01855288, 0.02040816,\n",
       "        0.02040816, 0.02226345, 0.02226345, 0.02597403, 0.02597403,\n",
       "        0.0296846 , 0.0296846 , 0.03153989, 0.03153989, 0.03525046,\n",
       "        0.03525046, 0.03710575, 0.03710575, 0.03896104, 0.03896104,\n",
       "        0.04267161, 0.04267161, 0.04638219, 0.04638219, 0.04823748,\n",
       "        0.04823748, 0.05009276, 0.05009276, 0.06122449, 0.06122449,\n",
       "        0.06307978, 0.06307978, 0.06493506, 0.06493506, 0.06864564,\n",
       "        0.06864564, 0.07050093, 0.07050093, 0.07235622, 0.07235622,\n",
       "        0.07792208, 0.07792208, 0.08348794, 0.08348794, 0.09090909,\n",
       "        0.09090909, 0.09276438, 0.09276438, 0.09647495, 0.09647495,\n",
       "        0.10018553, 0.10018553, 0.1038961 , 0.1038961 , 0.10575139,\n",
       "        0.10575139, 0.10760668, 0.10760668, 0.11317254, 0.11317254,\n",
       "        0.11502783, 0.11502783, 0.12059369, 0.12059369, 0.12244898,\n",
       "        0.12244898, 0.12430427, 0.12430427, 0.12801484, 0.12801484,\n",
       "        0.13172542, 0.13172542, 0.13358071, 0.13358071, 0.13543599,\n",
       "        0.13543599, 0.13914657, 0.13914657, 0.14285714, 0.14285714,\n",
       "        0.14471243, 0.14471243, 0.14656772, 0.14656772, 0.15398887,\n",
       "        0.15398887, 0.15584416, 0.15584416, 0.16141002, 0.16141002,\n",
       "        0.16326531, 0.16326531, 0.16883117, 0.16883117, 0.17254174,\n",
       "        0.17254174, 0.17439703, 0.17439703, 0.17810761, 0.17810761,\n",
       "        0.17996289, 0.17996289, 0.18552876, 0.18552876, 0.19294991,\n",
       "        0.19294991, 0.20222635, 0.20222635, 0.20408163, 0.20408163,\n",
       "        0.20779221, 0.20779221, 0.2096475 , 0.2096475 , 0.21335807,\n",
       "        0.21335807, 0.21892393, 0.21892393, 0.22077922, 0.22077922,\n",
       "        0.23005566, 0.23005566, 0.23562152, 0.23562152, 0.27458256,\n",
       "        0.27458256, 0.28200371, 0.28200371, 0.28571429, 0.28571429,\n",
       "        0.29128015, 0.29128015, 0.30055659, 0.30055659, 0.3135436 ,\n",
       "        0.3135436 , 0.32653061, 0.32653061, 0.33024119, 0.33024119,\n",
       "        0.33580705, 0.33580705, 0.34693878, 0.34693878, 0.36178108,\n",
       "        0.36178108, 0.36363636, 0.36363636, 0.36734694, 0.36734694,\n",
       "        0.3729128 , 0.3729128 , 0.3877551 , 0.3877551 , 0.39888683,\n",
       "        0.39888683, 0.4025974 , 0.4025974 , 0.40445269, 0.40445269,\n",
       "        0.43784787, 0.43784787, 0.4471243 , 0.4471243 , 0.44897959,\n",
       "        0.44897959, 0.45825603, 0.45825603, 0.47680891, 0.47680891,\n",
       "        0.51762523, 0.51948052, 0.55102041, 0.55102041, 0.5528757 ,\n",
       "        0.5528757 , 0.55658627, 0.55658627, 0.58070501, 0.58070501,\n",
       "        0.58627087, 0.58627087, 0.59554731, 0.59554731, 0.64564007,\n",
       "        0.64564007, 0.66048237, 0.66048237, 0.66419295, 0.66419295,\n",
       "        0.66975881, 0.66975881, 0.69202226, 0.69202226, 0.7012987 ,\n",
       "        0.7012987 , 0.70500928, 0.70500928, 0.73654917, 0.73654917,\n",
       "        0.75324675, 0.75324675, 0.7755102 , 0.7755102 , 0.81261596,\n",
       "        0.81261596, 0.82374768, 0.82374768, 0.83116883, 0.83116883,\n",
       "        0.84044527, 0.84044527, 0.87012987, 0.87012987, 0.87755102,\n",
       "        0.87755102, 0.8812616 , 0.8812616 , 0.8961039 , 0.8961039 ,\n",
       "        0.93135436, 0.93135436, 0.95732839, 0.95732839, 0.96289425,\n",
       "        0.96289425, 1.        ]),\n",
       " array([0.        , 0.00297619, 0.01190476, 0.01190476, 0.13392857,\n",
       "        0.13392857, 0.25892857, 0.25892857, 0.30654762, 0.30654762,\n",
       "        0.38690476, 0.38690476, 0.38988095, 0.38988095, 0.41369048,\n",
       "        0.41369048, 0.41964286, 0.41964286, 0.43154762, 0.43154762,\n",
       "        0.43452381, 0.43452381, 0.49404762, 0.49404762, 0.49702381,\n",
       "        0.49702381, 0.50892857, 0.50892857, 0.5297619 , 0.5297619 ,\n",
       "        0.53571429, 0.53571429, 0.53869048, 0.53869048, 0.54166667,\n",
       "        0.54166667, 0.55059524, 0.55059524, 0.55654762, 0.55654762,\n",
       "        0.57142857, 0.57142857, 0.61011905, 0.61011905, 0.61309524,\n",
       "        0.61309524, 0.61607143, 0.61607143, 0.625     , 0.625     ,\n",
       "        0.62797619, 0.62797619, 0.63690476, 0.63690476, 0.64285714,\n",
       "        0.64285714, 0.64583333, 0.64583333, 0.64880952, 0.64880952,\n",
       "        0.66071429, 0.66071429, 0.66369048, 0.66369048, 0.66964286,\n",
       "        0.66964286, 0.67261905, 0.67261905, 0.68154762, 0.68154762,\n",
       "        0.68452381, 0.68452381, 0.6875    , 0.6875    , 0.69345238,\n",
       "        0.69345238, 0.69642857, 0.69642857, 0.70238095, 0.70238095,\n",
       "        0.70535714, 0.70535714, 0.70833333, 0.70833333, 0.71130952,\n",
       "        0.71130952, 0.71428571, 0.71428571, 0.7172619 , 0.7172619 ,\n",
       "        0.7202381 , 0.7202381 , 0.72321429, 0.72321429, 0.72619048,\n",
       "        0.72619048, 0.72916667, 0.72916667, 0.73214286, 0.73214286,\n",
       "        0.73809524, 0.73809524, 0.74404762, 0.74404762, 0.75297619,\n",
       "        0.75297619, 0.75595238, 0.75595238, 0.76190476, 0.76190476,\n",
       "        0.76785714, 0.76785714, 0.77380952, 0.77380952, 0.77678571,\n",
       "        0.77678571, 0.7797619 , 0.7797619 , 0.7827381 , 0.7827381 ,\n",
       "        0.78869048, 0.78869048, 0.79761905, 0.79761905, 0.80059524,\n",
       "        0.80059524, 0.80357143, 0.80357143, 0.80654762, 0.80654762,\n",
       "        0.80952381, 0.80952381, 0.8125    , 0.8125    , 0.81547619,\n",
       "        0.81547619, 0.81845238, 0.81845238, 0.82142857, 0.82142857,\n",
       "        0.82738095, 0.82738095, 0.83035714, 0.83035714, 0.83630952,\n",
       "        0.83630952, 0.83928571, 0.83928571, 0.8422619 , 0.8422619 ,\n",
       "        0.8452381 , 0.8452381 , 0.84821429, 0.84821429, 0.85119048,\n",
       "        0.85119048, 0.85416667, 0.85416667, 0.85714286, 0.85714286,\n",
       "        0.86011905, 0.86011905, 0.86309524, 0.86309524, 0.86607143,\n",
       "        0.86607143, 0.86904762, 0.86904762, 0.87202381, 0.87202381,\n",
       "        0.875     , 0.875     , 0.87797619, 0.87797619, 0.88095238,\n",
       "        0.88095238, 0.88392857, 0.88392857, 0.88690476, 0.88690476,\n",
       "        0.88988095, 0.88988095, 0.89285714, 0.89285714, 0.9047619 ,\n",
       "        0.9047619 , 0.9077381 , 0.9077381 , 0.91369048, 0.91369048,\n",
       "        0.91666667, 0.91666667, 0.92261905, 0.92261905, 0.92559524,\n",
       "        0.92559524, 0.92857143, 0.92857143, 0.93154762, 0.93154762,\n",
       "        0.9375    , 0.9375    , 0.94047619, 0.94047619, 0.94345238,\n",
       "        0.94345238, 0.94642857, 0.94642857, 0.94940476, 0.94940476,\n",
       "        0.95238095, 0.95238095, 0.95535714, 0.95535714, 0.95833333,\n",
       "        0.95833333, 0.96130952, 0.96130952, 0.96428571, 0.96428571,\n",
       "        0.9672619 , 0.9672619 , 0.9702381 , 0.9702381 , 0.97321429,\n",
       "        0.97321429, 0.97619048, 0.97619048, 0.97916667, 0.97916667,\n",
       "        0.98214286, 0.98214286, 0.98809524, 0.98809524, 0.99107143,\n",
       "        0.99107143, 0.99404762, 0.99404762, 0.99702381, 0.99702381,\n",
       "        1.        , 1.        ]),\n",
       " array([       inf, 0.97794086, 0.97179999, 0.971622  , 0.93594316,\n",
       "        0.93523013, 0.88536621, 0.883784  , 0.85370057, 0.85329344,\n",
       "        0.8140705 , 0.81301449, 0.81125032, 0.81079155, 0.79945011,\n",
       "        0.79474368, 0.79187494, 0.78584123, 0.7796204 , 0.77886418,\n",
       "        0.77848659, 0.77839859, 0.7291977 , 0.72803036, 0.72551572,\n",
       "        0.71417432, 0.7082173 , 0.70720831, 0.69732321, 0.69552173,\n",
       "        0.69330954, 0.69238456, 0.69033914, 0.68657044, 0.6836293 ,\n",
       "        0.6796755 , 0.6780667 , 0.67562787, 0.67528873, 0.67511478,\n",
       "        0.67347163, 0.67330225, 0.64466168, 0.63692541, 0.63656906,\n",
       "        0.63587207, 0.63435091, 0.63123568, 0.62908607, 0.6267599 ,\n",
       "        0.62288556, 0.61984265, 0.61682263, 0.6138575 , 0.61132605,\n",
       "        0.60570245, 0.60440244, 0.59997226, 0.59928056, 0.58861094,\n",
       "        0.58130927, 0.58094801, 0.58053662, 0.57931318, 0.57621634,\n",
       "        0.57466742, 0.57193335, 0.57113412, 0.5625388 , 0.55788086,\n",
       "        0.55681195, 0.55419964, 0.55339734, 0.54846044, 0.54071302,\n",
       "        0.53340827, 0.53137728, 0.52639775, 0.52351022, 0.52225282,\n",
       "        0.52128969, 0.52010886, 0.52001031, 0.51778671, 0.51735138,\n",
       "        0.51512381, 0.51446115, 0.51420919, 0.51355055, 0.51207832,\n",
       "        0.51117043, 0.50917434, 0.50654327, 0.50266167, 0.50171699,\n",
       "        0.50008748, 0.49832237, 0.49649276, 0.49165779, 0.48174835,\n",
       "        0.47911466, 0.47770214, 0.46576764, 0.45691529, 0.44771143,\n",
       "        0.44482838, 0.44406219, 0.43634289, 0.42773826, 0.42428906,\n",
       "        0.41623928, 0.41599039, 0.41297463, 0.40663439, 0.40547156,\n",
       "        0.40425684, 0.40412553, 0.40006741, 0.39903322, 0.39270417,\n",
       "        0.39048428, 0.3816192 , 0.37296345, 0.37233005, 0.37056747,\n",
       "        0.36635382, 0.36613198, 0.35667637, 0.35143819, 0.34761158,\n",
       "        0.34744096, 0.34556874, 0.33731449, 0.33696135, 0.3349965 ,\n",
       "        0.32826433, 0.32700156, 0.32094637, 0.31698221, 0.27901568,\n",
       "        0.27626503, 0.27060995, 0.27008577, 0.26838527, 0.26749246,\n",
       "        0.26483923, 0.26022673, 0.25903657, 0.25786357, 0.24923154,\n",
       "        0.24560192, 0.24113206, 0.23642198, 0.23095849, 0.23081802,\n",
       "        0.22961818, 0.22610587, 0.21679147, 0.21395408, 0.20436575,\n",
       "        0.19946697, 0.1987762 , 0.19592051, 0.19478433, 0.19460493,\n",
       "        0.19017627, 0.18657327, 0.17669591, 0.1763763 , 0.16932002,\n",
       "        0.16929015, 0.16710479, 0.1644498 , 0.16376974, 0.16310467,\n",
       "        0.15191798, 0.15182506, 0.14821783, 0.14480947, 0.14409593,\n",
       "        0.14362829, 0.14051621, 0.1404577 , 0.13388764, 0.13071664,\n",
       "        0.12278772, 0.12270714, 0.11472369, 0.11283201, 0.11253943,\n",
       "        0.11245116, 0.112239  , 0.11021538, 0.10812147, 0.10804607,\n",
       "        0.10782089, 0.10743657, 0.10660298, 0.10651794, 0.10069955,\n",
       "        0.10044776, 0.09842148, 0.09786981, 0.09774057, 0.09750264,\n",
       "        0.0959439 , 0.09559328, 0.09355508, 0.0925585 , 0.09161782,\n",
       "        0.09161204, 0.09155689, 0.09146158, 0.0885947 , 0.08856687,\n",
       "        0.0861689 , 0.08603329, 0.08334524, 0.08319837, 0.0789705 ,\n",
       "        0.07877306, 0.07669762, 0.07663462, 0.07523365, 0.07517484,\n",
       "        0.07287536, 0.07243872, 0.06718655, 0.06709852, 0.06573667,\n",
       "        0.0655365 , 0.06536552, 0.06477434, 0.0600742 , 0.06000599,\n",
       "        0.05135736, 0.05053737, 0.04620807, 0.04538844, 0.04336134,\n",
       "        0.04249191, 0.00784622]))"
      ]
     },
     "execution_count": 88,
     "metadata": {},
     "output_type": "execute_result"
    }
   ],
   "source": [
    "roc_curve(target,pred_prob)"
   ]
  },
  {
   "cell_type": "code",
   "execution_count": 89,
   "id": "6e373bb5",
   "metadata": {},
   "outputs": [],
   "source": [
    "## We get three arrays. These are fpr-false positive rate, tpr-true positive rate and thr-threshold"
   ]
  },
  {
   "cell_type": "code",
   "execution_count": 90,
   "id": "850a5d78",
   "metadata": {},
   "outputs": [],
   "source": [
    "fpr,tpr,thr=roc_curve(target,pred_prob)"
   ]
  },
  {
   "cell_type": "code",
   "execution_count": 91,
   "id": "5080f9fc",
   "metadata": {},
   "outputs": [
    {
     "data": {
      "text/plain": [
       "(242,)"
      ]
     },
     "execution_count": 91,
     "metadata": {},
     "output_type": "execute_result"
    }
   ],
   "source": [
    "thr.shape"
   ]
  },
  {
   "cell_type": "code",
   "execution_count": 92,
   "id": "d2c8e3bc",
   "metadata": {},
   "outputs": [
    {
     "data": {
      "text/plain": [
       "(242,)"
      ]
     },
     "execution_count": 92,
     "metadata": {},
     "output_type": "execute_result"
    }
   ],
   "source": [
    "fpr.shape"
   ]
  },
  {
   "cell_type": "markdown",
   "id": "f4b5cc4c",
   "metadata": {},
   "source": [
    "## ROC Curve"
   ]
  },
  {
   "cell_type": "code",
   "execution_count": 93,
   "id": "cdbe556a",
   "metadata": {},
   "outputs": [
    {
     "data": {
      "image/png": "[encoded data removed]",
      "text/plain": [
       "<Figure size 640x480 with 1 Axes>"
      ]
     },
     "metadata": {},
     "output_type": "display_data"
    }
   ],
   "source": [
    "plt.plot(fpr,tpr)\n",
    "plt.show();"
   ]
  },
  {
   "cell_type": "code",
   "execution_count": 94,
   "id": "f6119778",
   "metadata": {},
   "outputs": [
    {
     "data": {
      "image/png": "[encoded data removed]",
      "text/plain": [
       "<Figure size 640x480 with 1 Axes>"
      ]
     },
     "metadata": {},
     "output_type": "display_data"
    }
   ],
   "source": [
    "plt.plot(fpr,tpr,color='green',lw=2,label=f'AUC={auc_score:.2}')\n",
    "plt.plot([0,1],[0,1],linestyle='--',color='red')\n",
    "plt.xlabel('False Positive Rate(FPR)')\n",
    "plt.ylabel('True Positive Rate(TPR)')\n",
    "plt.title('ROC Curve')\n",
    "plt.legend(loc='best')\n",
    "plt.grid(True)\n",
    "plt.show();"
   ]
  },
  {
   "cell_type": "code",
   "execution_count": 95,
   "id": "3c4a172d",
   "metadata": {},
   "outputs": [],
   "source": [
    "# Now we will try to predict the survival for testing data"
   ]
  },
  {
   "cell_type": "code",
   "execution_count": 96,
   "id": "f4d3b56e",
   "metadata": {},
   "outputs": [],
   "source": [
    "test_data=pd.read_csv(r'C:\\D Drive\\Data_Science\\01 Assignments\\07 Logistic Regression\\Titanic_test.csv')"
   ]
  },
  {
   "cell_type": "code",
   "execution_count": 97,
   "id": "903368ee",
   "metadata": {},
   "outputs": [
    {
     "data": {
      "text/html": [
       "<div>\n",
       "<style scoped>\n",
       "    .dataframe tbody tr th:only-of-type {\n",
       "        vertical-align: middle;\n",
       "    }\n",
       "\n",
       "    .dataframe tbody tr th {\n",
       "        vertical-align: top;\n",
       "    }\n",
       "\n",
       "    .dataframe thead th {\n",
       "        text-align: right;\n",
       "    }\n",
       "</style>\n",
       "<table border=\"1\" class=\"dataframe\">\n",
       "  <thead>\n",
       "    <tr style=\"text-align: right;\">\n",
       "      <th></th>\n",
       "      <th>PassengerId</th>\n",
       "      <th>Pclass</th>\n",
       "      <th>Name</th>\n",
       "      <th>Sex</th>\n",
       "      <th>Age</th>\n",
       "      <th>SibSp</th>\n",
       "      <th>Parch</th>\n",
       "      <th>Ticket</th>\n",
       "      <th>Fare</th>\n",
       "      <th>Cabin</th>\n",
       "      <th>Embarked</th>\n",
       "    </tr>\n",
       "  </thead>\n",
       "  <tbody>\n",
       "    <tr>\n",
       "      <th>0</th>\n",
       "      <td>892</td>\n",
       "      <td>3</td>\n",
       "      <td>Kelly, Mr. James</td>\n",
       "      <td>male</td>\n",
       "      <td>34.5</td>\n",
       "      <td>0</td>\n",
       "      <td>0</td>\n",
       "      <td>330911</td>\n",
       "      <td>7.8292</td>\n",
       "      <td>NaN</td>\n",
       "      <td>Q</td>\n",
       "    </tr>\n",
       "    <tr>\n",
       "      <th>1</th>\n",
       "      <td>893</td>\n",
       "      <td>3</td>\n",
       "      <td>Wilkes, Mrs. James (Ellen Needs)</td>\n",
       "      <td>female</td>\n",
       "      <td>47.0</td>\n",
       "      <td>1</td>\n",
       "      <td>0</td>\n",
       "      <td>363272</td>\n",
       "      <td>7.0000</td>\n",
       "      <td>NaN</td>\n",
       "      <td>S</td>\n",
       "    </tr>\n",
       "    <tr>\n",
       "      <th>2</th>\n",
       "      <td>894</td>\n",
       "      <td>2</td>\n",
       "      <td>Myles, Mr. Thomas Francis</td>\n",
       "      <td>male</td>\n",
       "      <td>62.0</td>\n",
       "      <td>0</td>\n",
       "      <td>0</td>\n",
       "      <td>240276</td>\n",
       "      <td>9.6875</td>\n",
       "      <td>NaN</td>\n",
       "      <td>Q</td>\n",
       "    </tr>\n",
       "    <tr>\n",
       "      <th>3</th>\n",
       "      <td>895</td>\n",
       "      <td>3</td>\n",
       "      <td>Wirz, Mr. Albert</td>\n",
       "      <td>male</td>\n",
       "      <td>27.0</td>\n",
       "      <td>0</td>\n",
       "      <td>0</td>\n",
       "      <td>315154</td>\n",
       "      <td>8.6625</td>\n",
       "      <td>NaN</td>\n",
       "      <td>S</td>\n",
       "    </tr>\n",
       "    <tr>\n",
       "      <th>4</th>\n",
       "      <td>896</td>\n",
       "      <td>3</td>\n",
       "      <td>Hirvonen, Mrs. Alexander (Helga E Lindqvist)</td>\n",
       "      <td>female</td>\n",
       "      <td>22.0</td>\n",
       "      <td>1</td>\n",
       "      <td>1</td>\n",
       "      <td>3101298</td>\n",
       "      <td>12.2875</td>\n",
       "      <td>NaN</td>\n",
       "      <td>S</td>\n",
       "    </tr>\n",
       "    <tr>\n",
       "      <th>...</th>\n",
       "      <td>...</td>\n",
       "      <td>...</td>\n",
       "      <td>...</td>\n",
       "      <td>...</td>\n",
       "      <td>...</td>\n",
       "      <td>...</td>\n",
       "      <td>...</td>\n",
       "      <td>...</td>\n",
       "      <td>...</td>\n",
       "      <td>...</td>\n",
       "      <td>...</td>\n",
       "    </tr>\n",
       "    <tr>\n",
       "      <th>413</th>\n",
       "      <td>1305</td>\n",
       "      <td>3</td>\n",
       "      <td>Spector, Mr. Woolf</td>\n",
       "      <td>male</td>\n",
       "      <td>NaN</td>\n",
       "      <td>0</td>\n",
       "      <td>0</td>\n",
       "      <td>A.5. 3236</td>\n",
       "      <td>8.0500</td>\n",
       "      <td>NaN</td>\n",
       "      <td>S</td>\n",
       "    </tr>\n",
       "    <tr>\n",
       "      <th>414</th>\n",
       "      <td>1306</td>\n",
       "      <td>1</td>\n",
       "      <td>Oliva y Ocana, Dona. Fermina</td>\n",
       "      <td>female</td>\n",
       "      <td>39.0</td>\n",
       "      <td>0</td>\n",
       "      <td>0</td>\n",
       "      <td>PC 17758</td>\n",
       "      <td>108.9000</td>\n",
       "      <td>C105</td>\n",
       "      <td>C</td>\n",
       "    </tr>\n",
       "    <tr>\n",
       "      <th>415</th>\n",
       "      <td>1307</td>\n",
       "      <td>3</td>\n",
       "      <td>Saether, Mr. Simon Sivertsen</td>\n",
       "      <td>male</td>\n",
       "      <td>38.5</td>\n",
       "      <td>0</td>\n",
       "      <td>0</td>\n",
       "      <td>SOTON/O.Q. 3101262</td>\n",
       "      <td>7.2500</td>\n",
       "      <td>NaN</td>\n",
       "      <td>S</td>\n",
       "    </tr>\n",
       "    <tr>\n",
       "      <th>416</th>\n",
       "      <td>1308</td>\n",
       "      <td>3</td>\n",
       "      <td>Ware, Mr. Frederick</td>\n",
       "      <td>male</td>\n",
       "      <td>NaN</td>\n",
       "      <td>0</td>\n",
       "      <td>0</td>\n",
       "      <td>359309</td>\n",
       "      <td>8.0500</td>\n",
       "      <td>NaN</td>\n",
       "      <td>S</td>\n",
       "    </tr>\n",
       "    <tr>\n",
       "      <th>417</th>\n",
       "      <td>1309</td>\n",
       "      <td>3</td>\n",
       "      <td>Peter, Master. Michael J</td>\n",
       "      <td>male</td>\n",
       "      <td>NaN</td>\n",
       "      <td>1</td>\n",
       "      <td>1</td>\n",
       "      <td>2668</td>\n",
       "      <td>22.3583</td>\n",
       "      <td>NaN</td>\n",
       "      <td>C</td>\n",
       "    </tr>\n",
       "  </tbody>\n",
       "</table>\n",
       "<p>418 rows × 11 columns</p>\n",
       "</div>"
      ],
      "text/plain": [
       "     PassengerId  Pclass                                          Name  \\\n",
       "0            892       3                              Kelly, Mr. James   \n",
       "1            893       3              Wilkes, Mrs. James (Ellen Needs)   \n",
       "2            894       2                     Myles, Mr. Thomas Francis   \n",
       "3            895       3                              Wirz, Mr. Albert   \n",
       "4            896       3  Hirvonen, Mrs. Alexander (Helga E Lindqvist)   \n",
       "..           ...     ...                                           ...   \n",
       "413         1305       3                            Spector, Mr. Woolf   \n",
       "414         1306       1                  Oliva y Ocana, Dona. Fermina   \n",
       "415         1307       3                  Saether, Mr. Simon Sivertsen   \n",
       "416         1308       3                           Ware, Mr. Frederick   \n",
       "417         1309       3                      Peter, Master. Michael J   \n",
       "\n",
       "        Sex   Age  SibSp  Parch              Ticket      Fare Cabin Embarked  \n",
       "0      male  34.5      0      0              330911    7.8292   NaN        Q  \n",
       "1    female  47.0      1      0              363272    7.0000   NaN        S  \n",
       "2      male  62.0      0      0              240276    9.6875   NaN        Q  \n",
       "3      male  27.0      0      0              315154    8.6625   NaN        S  \n",
       "4    female  22.0      1      1             3101298   12.2875   NaN        S  \n",
       "..      ...   ...    ...    ...                 ...       ...   ...      ...  \n",
       "413    male   NaN      0      0           A.5. 3236    8.0500   NaN        S  \n",
       "414  female  39.0      0      0            PC 17758  108.9000  C105        C  \n",
       "415    male  38.5      0      0  SOTON/O.Q. 3101262    7.2500   NaN        S  \n",
       "416    male   NaN      0      0              359309    8.0500   NaN        S  \n",
       "417    male   NaN      1      1                2668   22.3583   NaN        C  \n",
       "\n",
       "[418 rows x 11 columns]"
      ]
     },
     "execution_count": 97,
     "metadata": {},
     "output_type": "execute_result"
    }
   ],
   "source": [
    "test_data"
   ]
  },
  {
   "cell_type": "code",
   "execution_count": 98,
   "id": "e6b79883",
   "metadata": {},
   "outputs": [],
   "source": [
    "## drop Name and PassengerId from testing data\n",
    "test_data.drop(['Name','PassengerId'],axis=1,inplace=True)"
   ]
  },
  {
   "cell_type": "code",
   "execution_count": 99,
   "id": "fae251c2",
   "metadata": {},
   "outputs": [
    {
     "name": "stdout",
     "output_type": "stream",
     "text": [
      "<class 'pandas.core.frame.DataFrame'>\n",
      "RangeIndex: 418 entries, 0 to 417\n",
      "Data columns (total 9 columns):\n",
      " #   Column    Non-Null Count  Dtype  \n",
      "---  ------    --------------  -----  \n",
      " 0   Pclass    418 non-null    int64  \n",
      " 1   Sex       418 non-null    object \n",
      " 2   Age       332 non-null    float64\n",
      " 3   SibSp     418 non-null    int64  \n",
      " 4   Parch     418 non-null    int64  \n",
      " 5   Ticket    418 non-null    object \n",
      " 6   Fare      417 non-null    float64\n",
      " 7   Cabin     91 non-null     object \n",
      " 8   Embarked  418 non-null    object \n",
      "dtypes: float64(2), int64(3), object(4)\n",
      "memory usage: 29.5+ KB\n"
     ]
    }
   ],
   "source": [
    "test_data.info()"
   ]
  },
  {
   "cell_type": "code",
   "execution_count": 100,
   "id": "147f7cdd",
   "metadata": {},
   "outputs": [
    {
     "data": {
      "text/plain": [
       "Pclass        0\n",
       "Sex           0\n",
       "Age          86\n",
       "SibSp         0\n",
       "Parch         0\n",
       "Ticket        0\n",
       "Fare          1\n",
       "Cabin       327\n",
       "Embarked      0\n",
       "dtype: int64"
      ]
     },
     "execution_count": 100,
     "metadata": {},
     "output_type": "execute_result"
    }
   ],
   "source": [
    "test_data.isnull().sum()"
   ]
  },
  {
   "cell_type": "code",
   "execution_count": 101,
   "id": "150aa9ba",
   "metadata": {},
   "outputs": [
    {
     "data": {
      "text/plain": [
       "27.0"
      ]
     },
     "execution_count": 101,
     "metadata": {},
     "output_type": "execute_result"
    }
   ],
   "source": [
    "test_median1=test_data['Age'].median()\n",
    "test_median1"
   ]
  },
  {
   "cell_type": "code",
   "execution_count": 102,
   "id": "ea0f2f3a",
   "metadata": {},
   "outputs": [],
   "source": [
    "test_data['Age']=test_data['Age'].fillna(test_median1)"
   ]
  },
  {
   "cell_type": "code",
   "execution_count": 103,
   "id": "d2d7c12e",
   "metadata": {},
   "outputs": [
    {
     "data": {
      "text/plain": [
       "14.4542"
      ]
     },
     "execution_count": 103,
     "metadata": {},
     "output_type": "execute_result"
    }
   ],
   "source": [
    "test_median2=test_data['Fare'].median()\n",
    "test_median2"
   ]
  },
  {
   "cell_type": "code",
   "execution_count": 104,
   "id": "c2d5dd5c",
   "metadata": {},
   "outputs": [],
   "source": [
    "test_data['Fare']=test_data['Fare'].fillna(test_median2)"
   ]
  },
  {
   "cell_type": "code",
   "execution_count": 105,
   "id": "dd94393d",
   "metadata": {},
   "outputs": [
    {
     "data": {
      "text/plain": [
       "0    B57 B59 B63 B66\n",
       "Name: Cabin, dtype: object"
      ]
     },
     "execution_count": 105,
     "metadata": {},
     "output_type": "execute_result"
    }
   ],
   "source": [
    "test_mode=test_data['Cabin'].mode()\n",
    "test_mode"
   ]
  },
  {
   "cell_type": "code",
   "execution_count": 106,
   "id": "2f1deb45",
   "metadata": {},
   "outputs": [],
   "source": [
    "test_data['Cabin']=test_data['Cabin'].fillna(test_mode[0])"
   ]
  },
  {
   "cell_type": "code",
   "execution_count": 107,
   "id": "593fcd45",
   "metadata": {},
   "outputs": [
    {
     "data": {
      "text/plain": [
       "Pclass      0\n",
       "Sex         0\n",
       "Age         0\n",
       "SibSp       0\n",
       "Parch       0\n",
       "Ticket      0\n",
       "Fare        0\n",
       "Cabin       0\n",
       "Embarked    0\n",
       "dtype: int64"
      ]
     },
     "execution_count": 107,
     "metadata": {},
     "output_type": "execute_result"
    }
   ],
   "source": [
    "test_data.isnull().sum()"
   ]
  },
  {
   "cell_type": "code",
   "execution_count": 108,
   "id": "96acc5a0",
   "metadata": {},
   "outputs": [
    {
     "data": {
      "text/plain": [
       "True"
      ]
     },
     "execution_count": 108,
     "metadata": {},
     "output_type": "execute_result"
    }
   ],
   "source": [
    "test_data.duplicated().any()"
   ]
  },
  {
   "cell_type": "code",
   "execution_count": 109,
   "id": "8bb09e55",
   "metadata": {},
   "outputs": [
    {
     "data": {
      "text/html": [
       "<div>\n",
       "<style scoped>\n",
       "    .dataframe tbody tr th:only-of-type {\n",
       "        vertical-align: middle;\n",
       "    }\n",
       "\n",
       "    .dataframe tbody tr th {\n",
       "        vertical-align: top;\n",
       "    }\n",
       "\n",
       "    .dataframe thead th {\n",
       "        text-align: right;\n",
       "    }\n",
       "</style>\n",
       "<table border=\"1\" class=\"dataframe\">\n",
       "  <thead>\n",
       "    <tr style=\"text-align: right;\">\n",
       "      <th></th>\n",
       "      <th>Pclass</th>\n",
       "      <th>Sex</th>\n",
       "      <th>Age</th>\n",
       "      <th>SibSp</th>\n",
       "      <th>Parch</th>\n",
       "      <th>Ticket</th>\n",
       "      <th>Fare</th>\n",
       "      <th>Cabin</th>\n",
       "      <th>Embarked</th>\n",
       "    </tr>\n",
       "  </thead>\n",
       "  <tbody>\n",
       "    <tr>\n",
       "      <th>297</th>\n",
       "      <td>3</td>\n",
       "      <td>male</td>\n",
       "      <td>27.0</td>\n",
       "      <td>2</td>\n",
       "      <td>0</td>\n",
       "      <td>2662</td>\n",
       "      <td>21.6792</td>\n",
       "      <td>B57 B59 B63 B66</td>\n",
       "      <td>C</td>\n",
       "    </tr>\n",
       "  </tbody>\n",
       "</table>\n",
       "</div>"
      ],
      "text/plain": [
       "     Pclass   Sex   Age  SibSp  Parch Ticket     Fare            Cabin  \\\n",
       "297       3  male  27.0      2      0   2662  21.6792  B57 B59 B63 B66   \n",
       "\n",
       "    Embarked  \n",
       "297        C  "
      ]
     },
     "execution_count": 109,
     "metadata": {},
     "output_type": "execute_result"
    }
   ],
   "source": [
    "test_data[test_data.duplicated()]"
   ]
  },
  {
   "cell_type": "code",
   "execution_count": 110,
   "id": "6836694f",
   "metadata": {},
   "outputs": [],
   "source": [
    "test_data.drop_duplicates(inplace=True)"
   ]
  },
  {
   "cell_type": "code",
   "execution_count": 111,
   "id": "6d70ae75",
   "metadata": {},
   "outputs": [
    {
     "data": {
      "text/plain": [
       "False"
      ]
     },
     "execution_count": 111,
     "metadata": {},
     "output_type": "execute_result"
    }
   ],
   "source": [
    "test_data.duplicated().any()"
   ]
  },
  {
   "cell_type": "code",
   "execution_count": 112,
   "id": "d3d21fd2",
   "metadata": {},
   "outputs": [],
   "source": [
    "test_data['Ticket']=ord_enc.fit_transform(test_data[['Ticket']])  ## coverting Ticket column to numerical"
   ]
  },
  {
   "cell_type": "code",
   "execution_count": 113,
   "id": "357d98b2",
   "metadata": {},
   "outputs": [],
   "source": [
    "test_data['Cabin']=ord_enc.fit_transform(test_data[['Cabin']])  ## coverting Cabin column to numerical"
   ]
  },
  {
   "cell_type": "code",
   "execution_count": 114,
   "id": "805cf3ce",
   "metadata": {},
   "outputs": [],
   "source": [
    "test_data['Embarked']=ord_enc.fit_transform(test_data[['Embarked']])  ## coverting Embarked column to numerical"
   ]
  },
  {
   "cell_type": "code",
   "execution_count": 115,
   "id": "c2c49df8",
   "metadata": {},
   "outputs": [],
   "source": [
    "test_data_new=pd.get_dummies(test_data,dtype='int')  ## coverting Sex column to numerical"
   ]
  },
  {
   "cell_type": "code",
   "execution_count": 116,
   "id": "9f2933ef",
   "metadata": {},
   "outputs": [
    {
     "data": {
      "text/html": [
       "<div>\n",
       "<style scoped>\n",
       "    .dataframe tbody tr th:only-of-type {\n",
       "        vertical-align: middle;\n",
       "    }\n",
       "\n",
       "    .dataframe tbody tr th {\n",
       "        vertical-align: top;\n",
       "    }\n",
       "\n",
       "    .dataframe thead th {\n",
       "        text-align: right;\n",
       "    }\n",
       "</style>\n",
       "<table border=\"1\" class=\"dataframe\">\n",
       "  <thead>\n",
       "    <tr style=\"text-align: right;\">\n",
       "      <th></th>\n",
       "      <th>Pclass</th>\n",
       "      <th>Age</th>\n",
       "      <th>SibSp</th>\n",
       "      <th>Parch</th>\n",
       "      <th>Ticket</th>\n",
       "      <th>Fare</th>\n",
       "      <th>Cabin</th>\n",
       "      <th>Embarked</th>\n",
       "      <th>Sex_female</th>\n",
       "      <th>Sex_male</th>\n",
       "    </tr>\n",
       "  </thead>\n",
       "  <tbody>\n",
       "    <tr>\n",
       "      <th>0</th>\n",
       "      <td>3</td>\n",
       "      <td>34.5</td>\n",
       "      <td>0</td>\n",
       "      <td>0</td>\n",
       "      <td>152.0</td>\n",
       "      <td>7.8292</td>\n",
       "      <td>15.0</td>\n",
       "      <td>1.0</td>\n",
       "      <td>0</td>\n",
       "      <td>1</td>\n",
       "    </tr>\n",
       "    <tr>\n",
       "      <th>1</th>\n",
       "      <td>3</td>\n",
       "      <td>47.0</td>\n",
       "      <td>1</td>\n",
       "      <td>0</td>\n",
       "      <td>221.0</td>\n",
       "      <td>7.0000</td>\n",
       "      <td>15.0</td>\n",
       "      <td>2.0</td>\n",
       "      <td>1</td>\n",
       "      <td>0</td>\n",
       "    </tr>\n",
       "    <tr>\n",
       "      <th>2</th>\n",
       "      <td>2</td>\n",
       "      <td>62.0</td>\n",
       "      <td>0</td>\n",
       "      <td>0</td>\n",
       "      <td>73.0</td>\n",
       "      <td>9.6875</td>\n",
       "      <td>15.0</td>\n",
       "      <td>1.0</td>\n",
       "      <td>0</td>\n",
       "      <td>1</td>\n",
       "    </tr>\n",
       "    <tr>\n",
       "      <th>3</th>\n",
       "      <td>3</td>\n",
       "      <td>27.0</td>\n",
       "      <td>0</td>\n",
       "      <td>0</td>\n",
       "      <td>147.0</td>\n",
       "      <td>8.6625</td>\n",
       "      <td>15.0</td>\n",
       "      <td>2.0</td>\n",
       "      <td>0</td>\n",
       "      <td>1</td>\n",
       "    </tr>\n",
       "    <tr>\n",
       "      <th>4</th>\n",
       "      <td>3</td>\n",
       "      <td>22.0</td>\n",
       "      <td>1</td>\n",
       "      <td>1</td>\n",
       "      <td>138.0</td>\n",
       "      <td>12.2875</td>\n",
       "      <td>15.0</td>\n",
       "      <td>2.0</td>\n",
       "      <td>1</td>\n",
       "      <td>0</td>\n",
       "    </tr>\n",
       "    <tr>\n",
       "      <th>...</th>\n",
       "      <td>...</td>\n",
       "      <td>...</td>\n",
       "      <td>...</td>\n",
       "      <td>...</td>\n",
       "      <td>...</td>\n",
       "      <td>...</td>\n",
       "      <td>...</td>\n",
       "      <td>...</td>\n",
       "      <td>...</td>\n",
       "      <td>...</td>\n",
       "    </tr>\n",
       "    <tr>\n",
       "      <th>413</th>\n",
       "      <td>3</td>\n",
       "      <td>27.0</td>\n",
       "      <td>0</td>\n",
       "      <td>0</td>\n",
       "      <td>267.0</td>\n",
       "      <td>8.0500</td>\n",
       "      <td>15.0</td>\n",
       "      <td>2.0</td>\n",
       "      <td>0</td>\n",
       "      <td>1</td>\n",
       "    </tr>\n",
       "    <tr>\n",
       "      <th>414</th>\n",
       "      <td>1</td>\n",
       "      <td>39.0</td>\n",
       "      <td>0</td>\n",
       "      <td>0</td>\n",
       "      <td>324.0</td>\n",
       "      <td>108.9000</td>\n",
       "      <td>22.0</td>\n",
       "      <td>0.0</td>\n",
       "      <td>1</td>\n",
       "      <td>0</td>\n",
       "    </tr>\n",
       "    <tr>\n",
       "      <th>415</th>\n",
       "      <td>3</td>\n",
       "      <td>38.5</td>\n",
       "      <td>0</td>\n",
       "      <td>0</td>\n",
       "      <td>346.0</td>\n",
       "      <td>7.2500</td>\n",
       "      <td>15.0</td>\n",
       "      <td>2.0</td>\n",
       "      <td>0</td>\n",
       "      <td>1</td>\n",
       "    </tr>\n",
       "    <tr>\n",
       "      <th>416</th>\n",
       "      <td>3</td>\n",
       "      <td>27.0</td>\n",
       "      <td>0</td>\n",
       "      <td>0</td>\n",
       "      <td>220.0</td>\n",
       "      <td>8.0500</td>\n",
       "      <td>15.0</td>\n",
       "      <td>2.0</td>\n",
       "      <td>0</td>\n",
       "      <td>1</td>\n",
       "    </tr>\n",
       "    <tr>\n",
       "      <th>417</th>\n",
       "      <td>3</td>\n",
       "      <td>27.0</td>\n",
       "      <td>1</td>\n",
       "      <td>1</td>\n",
       "      <td>105.0</td>\n",
       "      <td>22.3583</td>\n",
       "      <td>15.0</td>\n",
       "      <td>0.0</td>\n",
       "      <td>0</td>\n",
       "      <td>1</td>\n",
       "    </tr>\n",
       "  </tbody>\n",
       "</table>\n",
       "<p>417 rows × 10 columns</p>\n",
       "</div>"
      ],
      "text/plain": [
       "     Pclass   Age  SibSp  Parch  Ticket      Fare  Cabin  Embarked  \\\n",
       "0         3  34.5      0      0   152.0    7.8292   15.0       1.0   \n",
       "1         3  47.0      1      0   221.0    7.0000   15.0       2.0   \n",
       "2         2  62.0      0      0    73.0    9.6875   15.0       1.0   \n",
       "3         3  27.0      0      0   147.0    8.6625   15.0       2.0   \n",
       "4         3  22.0      1      1   138.0   12.2875   15.0       2.0   \n",
       "..      ...   ...    ...    ...     ...       ...    ...       ...   \n",
       "413       3  27.0      0      0   267.0    8.0500   15.0       2.0   \n",
       "414       1  39.0      0      0   324.0  108.9000   22.0       0.0   \n",
       "415       3  38.5      0      0   346.0    7.2500   15.0       2.0   \n",
       "416       3  27.0      0      0   220.0    8.0500   15.0       2.0   \n",
       "417       3  27.0      1      1   105.0   22.3583   15.0       0.0   \n",
       "\n",
       "     Sex_female  Sex_male  \n",
       "0             0         1  \n",
       "1             1         0  \n",
       "2             0         1  \n",
       "3             0         1  \n",
       "4             1         0  \n",
       "..          ...       ...  \n",
       "413           0         1  \n",
       "414           1         0  \n",
       "415           0         1  \n",
       "416           0         1  \n",
       "417           0         1  \n",
       "\n",
       "[417 rows x 10 columns]"
      ]
     },
     "execution_count": 116,
     "metadata": {},
     "output_type": "execute_result"
    }
   ],
   "source": [
    "test_data_new"
   ]
  },
  {
   "cell_type": "code",
   "execution_count": 117,
   "id": "cbfc0e71",
   "metadata": {},
   "outputs": [
    {
     "data": {
      "text/plain": [
       "array([[ 0.87532977,  0.3852975 , -0.49651236, ..., -0.47582797,\n",
       "        -0.75735388,  0.75735388],\n",
       "       [ 0.87532977,  1.3693069 ,  0.62265334, ...,  0.69825642,\n",
       "         1.32038671, -1.32038671],\n",
       "       [-0.31363607,  2.55011819, -0.49651236, ..., -0.47582797,\n",
       "        -0.75735388,  0.75735388],\n",
       "       ...,\n",
       "       [ 0.87532977,  0.70018051, -0.49651236, ...,  0.69825642,\n",
       "        -0.75735388,  0.75735388],\n",
       "       [ 0.87532977, -0.20510815, -0.49651236, ...,  0.69825642,\n",
       "        -0.75735388,  0.75735388],\n",
       "       [ 0.87532977, -0.20510815,  0.62265334, ..., -1.64991235,\n",
       "        -0.75735388,  0.75735388]])"
      ]
     },
     "execution_count": 117,
     "metadata": {},
     "output_type": "execute_result"
    }
   ],
   "source": [
    "test_features=std_sca.fit_transform(test_data_new)\n",
    "test_features"
   ]
  },
  {
   "cell_type": "code",
   "execution_count": 118,
   "id": "905aaed6",
   "metadata": {},
   "outputs": [],
   "source": [
    "## with this data we can predict target values for testing data given by the model"
   ]
  },
  {
   "cell_type": "code",
   "execution_count": 119,
   "id": "6382b49c",
   "metadata": {},
   "outputs": [],
   "source": [
    "target_pred=model.predict(test_features)"
   ]
  },
  {
   "cell_type": "code",
   "execution_count": 120,
   "id": "fd5b0e7a",
   "metadata": {},
   "outputs": [
    {
     "data": {
      "text/plain": [
       "array([0, 0, 0, 0, 1, 0, 1, 0, 1, 0, 0, 0, 1, 0, 1, 1, 0, 0, 0, 1, 0, 0,\n",
       "       1, 1, 1, 0, 1, 0, 0, 0, 0, 0, 0, 0, 1, 0, 1, 1, 0, 0, 0, 1, 0, 1,\n",
       "       1, 0, 0, 0, 1, 0, 0, 0, 1, 1, 0, 0, 0, 0, 0, 1, 0, 0, 0, 1, 1, 1,\n",
       "       1, 0, 1, 1, 1, 0, 1, 1, 1, 1, 0, 1, 0, 1, 0, 0, 0, 0, 0, 0, 1, 1,\n",
       "       1, 0, 1, 0, 1, 0, 1, 0, 1, 0, 1, 0, 1, 0, 0, 0, 1, 0, 0, 0, 0, 0,\n",
       "       0, 1, 1, 1, 1, 0, 0, 1, 1, 1, 1, 0, 1, 0, 0, 1, 0, 0, 0, 0, 0, 0,\n",
       "       0, 0, 0, 0, 0, 0, 1, 0, 0, 1, 0, 0, 0, 0, 1, 0, 0, 0, 1, 0, 0, 0,\n",
       "       0, 0, 1, 1, 0, 0, 1, 0, 1, 0, 0, 1, 0, 0, 1, 1, 0, 0, 0, 0, 0, 1,\n",
       "       1, 0, 1, 1, 0, 0, 1, 0, 1, 0, 1, 0, 0, 0, 0, 0, 0, 0, 0, 0, 1, 1,\n",
       "       0, 1, 1, 0, 0, 1, 0, 0, 1, 0, 1, 0, 0, 0, 0, 0, 0, 0, 1, 0, 1, 0,\n",
       "       1, 0, 1, 0, 1, 1, 0, 1, 0, 0, 0, 1, 0, 0, 0, 0, 0, 0, 1, 1, 1, 1,\n",
       "       1, 0, 0, 0, 1, 0, 1, 1, 1, 0, 1, 0, 0, 0, 0, 0, 1, 0, 0, 0, 1, 1,\n",
       "       0, 0, 0, 0, 1, 0, 1, 0, 1, 1, 0, 1, 0, 0, 0, 0, 1, 0, 1, 1, 1, 0,\n",
       "       0, 0, 0, 0, 0, 1, 0, 0, 0, 0, 1, 0, 0, 0, 0, 0, 0, 1, 1, 0, 0, 0,\n",
       "       0, 0, 0, 0, 1, 1, 1, 0, 0, 0, 0, 0, 0, 0, 0, 1, 0, 1, 0, 0, 0, 1,\n",
       "       0, 0, 1, 0, 0, 0, 0, 0, 0, 0, 0, 0, 1, 0, 1, 0, 1, 0, 1, 1, 0, 0,\n",
       "       0, 1, 0, 1, 0, 0, 0, 0, 1, 1, 0, 1, 0, 0, 1, 1, 0, 0, 1, 0, 0, 1,\n",
       "       1, 0, 0, 0, 0, 0, 0, 1, 1, 0, 1, 0, 0, 0, 0, 1, 1, 0, 0, 0, 1, 0,\n",
       "       1, 0, 0, 1, 0, 1, 1, 0, 0, 0, 0, 1, 1, 1, 1, 1, 0, 1, 0, 0, 0],\n",
       "      dtype=int64)"
      ]
     },
     "execution_count": 120,
     "metadata": {},
     "output_type": "execute_result"
    }
   ],
   "source": [
    "target_pred"
   ]
  },
  {
   "cell_type": "code",
   "execution_count": null,
   "id": "42020713",
   "metadata": {},
   "outputs": [],
   "source": [
    "# Significance of feature selection\n",
    "## using RFE model we can choose important features to be passed to the logistic regression model "
   ]
  },
  {
   "cell_type": "code",
   "execution_count": 123,
   "id": "66eab1d3",
   "metadata": {},
   "outputs": [],
   "source": [
    "from sklearn.feature_selection import RFE"
   ]
  },
  {
   "cell_type": "code",
   "execution_count": 144,
   "id": "84887ced",
   "metadata": {},
   "outputs": [],
   "source": [
    "rfe=RFE(model,n_features_to_select=10)"
   ]
  },
  {
   "cell_type": "code",
   "execution_count": 145,
   "id": "ae9f7871",
   "metadata": {},
   "outputs": [
    {
     "data": {
      "text/html": [
       "<style>#sk-container-id-7 {color: black;}#sk-container-id-7 pre{padding: 0;}#sk-container-id-7 div.sk-toggleable {background-color: white;}#sk-container-id-7 label.sk-toggleable__label {cursor: pointer;display: block;width: 100%;margin-bottom: 0;padding: 0.3em;box-sizing: border-box;text-align: center;}#sk-container-id-7 label.sk-toggleable__label-arrow:before {content: \"▸\";float: left;margin-right: 0.25em;color: #696969;}#sk-container-id-7 label.sk-toggleable__label-arrow:hover:before {color: black;}#sk-container-id-7 div.sk-estimator:hover label.sk-toggleable__label-arrow:before {color: black;}#sk-container-id-7 div.sk-toggleable__content {max-height: 0;max-width: 0;overflow: hidden;text-align: left;background-color: #f0f8ff;}#sk-container-id-7 div.sk-toggleable__content pre {margin: 0.2em;color: black;border-radius: 0.25em;background-color: #f0f8ff;}#sk-container-id-7 input.sk-toggleable__control:checked~div.sk-toggleable__content {max-height: 200px;max-width: 100%;overflow: auto;}#sk-container-id-7 input.sk-toggleable__control:checked~label.sk-toggleable__label-arrow:before {content: \"▾\";}#sk-container-id-7 div.sk-estimator input.sk-toggleable__control:checked~label.sk-toggleable__label {background-color: #d4ebff;}#sk-container-id-7 div.sk-label input.sk-toggleable__control:checked~label.sk-toggleable__label {background-color: #d4ebff;}#sk-container-id-7 input.sk-hidden--visually {border: 0;clip: rect(1px 1px 1px 1px);clip: rect(1px, 1px, 1px, 1px);height: 1px;margin: -1px;overflow: hidden;padding: 0;position: absolute;width: 1px;}#sk-container-id-7 div.sk-estimator {font-family: monospace;background-color: #f0f8ff;border: 1px dotted black;border-radius: 0.25em;box-sizing: border-box;margin-bottom: 0.5em;}#sk-container-id-7 div.sk-estimator:hover {background-color: #d4ebff;}#sk-container-id-7 div.sk-parallel-item::after {content: \"\";width: 100%;border-bottom: 1px solid gray;flex-grow: 1;}#sk-container-id-7 div.sk-label:hover label.sk-toggleable__label {background-color: #d4ebff;}#sk-container-id-7 div.sk-serial::before {content: \"\";position: absolute;border-left: 1px solid gray;box-sizing: border-box;top: 0;bottom: 0;left: 50%;z-index: 0;}#sk-container-id-7 div.sk-serial {display: flex;flex-direction: column;align-items: center;background-color: white;padding-right: 0.2em;padding-left: 0.2em;position: relative;}#sk-container-id-7 div.sk-item {position: relative;z-index: 1;}#sk-container-id-7 div.sk-parallel {display: flex;align-items: stretch;justify-content: center;background-color: white;position: relative;}#sk-container-id-7 div.sk-item::before, #sk-container-id-7 div.sk-parallel-item::before {content: \"\";position: absolute;border-left: 1px solid gray;box-sizing: border-box;top: 0;bottom: 0;left: 50%;z-index: -1;}#sk-container-id-7 div.sk-parallel-item {display: flex;flex-direction: column;z-index: 1;position: relative;background-color: white;}#sk-container-id-7 div.sk-parallel-item:first-child::after {align-self: flex-end;width: 50%;}#sk-container-id-7 div.sk-parallel-item:last-child::after {align-self: flex-start;width: 50%;}#sk-container-id-7 div.sk-parallel-item:only-child::after {width: 0;}#sk-container-id-7 div.sk-dashed-wrapped {border: 1px dashed gray;margin: 0 0.4em 0.5em 0.4em;box-sizing: border-box;padding-bottom: 0.4em;background-color: white;}#sk-container-id-7 div.sk-label label {font-family: monospace;font-weight: bold;display: inline-block;line-height: 1.2em;}#sk-container-id-7 div.sk-label-container {text-align: center;}#sk-container-id-7 div.sk-container {/* jupyter's `normalize.less` sets `[hidden] { display: none; }` but bootstrap.min.css set `[hidden] { display: none !important; }` so we also need the `!important` here to be able to override the default hidden behavior on the sphinx rendered scikit-learn.org. See: https://github.com/scikit-learn/scikit-learn/issues/21755 */display: inline-block !important;position: relative;}#sk-container-id-7 div.sk-text-repr-fallback {display: none;}</style><div id=\"sk-container-id-7\" class=\"sk-top-container\"><div class=\"sk-text-repr-fallback\"><pre>RFE(estimator=LogisticRegression(), n_features_to_select=10)</pre><b>In a Jupyter environment, please rerun this cell to show the HTML representation or trust the notebook. <br />On GitHub, the HTML representation is unable to render, please try loading this page with nbviewer.org.</b></div><div class=\"sk-container\" hidden><div class=\"sk-item sk-dashed-wrapped\"><div class=\"sk-label-container\"><div class=\"sk-label sk-toggleable\"><input class=\"sk-toggleable__control sk-hidden--visually\" id=\"sk-estimator-id-17\" type=\"checkbox\" ><label for=\"sk-estimator-id-17\" class=\"sk-toggleable__label sk-toggleable__label-arrow\">RFE</label><div class=\"sk-toggleable__content\"><pre>RFE(estimator=LogisticRegression(), n_features_to_select=10)</pre></div></div></div><div class=\"sk-parallel\"><div class=\"sk-parallel-item\"><div class=\"sk-item\"><div class=\"sk-label-container\"><div class=\"sk-label sk-toggleable\"><input class=\"sk-toggleable__control sk-hidden--visually\" id=\"sk-estimator-id-18\" type=\"checkbox\" ><label for=\"sk-estimator-id-18\" class=\"sk-toggleable__label sk-toggleable__label-arrow\">estimator: LogisticRegression</label><div class=\"sk-toggleable__content\"><pre>LogisticRegression()</pre></div></div></div><div class=\"sk-serial\"><div class=\"sk-item\"><div class=\"sk-estimator sk-toggleable\"><input class=\"sk-toggleable__control sk-hidden--visually\" id=\"sk-estimator-id-19\" type=\"checkbox\" ><label for=\"sk-estimator-id-19\" class=\"sk-toggleable__label sk-toggleable__label-arrow\">LogisticRegression</label><div class=\"sk-toggleable__content\"><pre>LogisticRegression()</pre></div></div></div></div></div></div></div></div></div></div>"
      ],
      "text/plain": [
       "RFE(estimator=LogisticRegression(), n_features_to_select=10)"
      ]
     },
     "execution_count": 145,
     "metadata": {},
     "output_type": "execute_result"
    }
   ],
   "source": [
    "rfe.fit(features,target)"
   ]
  },
  {
   "cell_type": "code",
   "execution_count": 146,
   "id": "cc1354b9",
   "metadata": {},
   "outputs": [],
   "source": [
    "y_predict=rfe.predict(features)"
   ]
  },
  {
   "cell_type": "code",
   "execution_count": 147,
   "id": "e1b5fe5f",
   "metadata": {},
   "outputs": [
    {
     "data": {
      "text/plain": [
       "0.8057142857142857"
      ]
     },
     "execution_count": 147,
     "metadata": {},
     "output_type": "execute_result"
    }
   ],
   "source": [
    "accuracy_score(target,y_predict)"
   ]
  },
  {
   "cell_type": "code",
   "execution_count": 148,
   "id": "4428f6b6",
   "metadata": {},
   "outputs": [],
   "source": [
    "## we tried using different values of n_features_to_select and found that maximum accuracy of 80.57% is achieved using\n",
    "## 9 out of 10 features. Below that the accuracy reduces."
   ]
  },
  {
   "cell_type": "markdown",
   "id": "710c0f92",
   "metadata": {},
   "source": [
    "## Conclusion"
   ]
  },
  {
   "cell_type": "code",
   "execution_count": 149,
   "id": "fee51d10",
   "metadata": {},
   "outputs": [],
   "source": [
    "## maximum accuracy obtained by our logistic regression model is 80.57 percent."
   ]
  },
  {
   "cell_type": "markdown",
   "id": "f396f7d9",
   "metadata": {},
   "source": [
    "# Deployment with Streamlit"
   ]
  },
  {
   "cell_type": "code",
   "execution_count": 152,
   "id": "b064da3a",
   "metadata": {},
   "outputs": [
    {
     "data": {
      "text/plain": [
       "array([[ 0.83498946, -0.56655874,  0.55410137, ...,  0.58856783,\n",
       "        -0.73518226,  0.73518226],\n",
       "       [-1.5526438 ,  0.65552278,  0.55410137, ..., -1.91141687,\n",
       "         1.36020692, -1.36020692],\n",
       "       [ 0.83498946, -0.26103836, -0.5021921 , ...,  0.58856783,\n",
       "         1.36020692, -1.36020692],\n",
       "       ...,\n",
       "       [ 0.83498946, -0.10827817,  0.55410137, ...,  0.58856783,\n",
       "         1.36020692, -1.36020692],\n",
       "       [-1.5526438 , -0.26103836, -0.5021921 , ..., -1.91141687,\n",
       "        -0.73518226,  0.73518226],\n",
       "       [ 0.83498946,  0.19724221, -0.5021921 , ..., -0.66142452,\n",
       "        -0.73518226,  0.73518226]])"
      ]
     },
     "execution_count": 152,
     "metadata": {},
     "output_type": "execute_result"
    }
   ],
   "source": [
    "features"
   ]
  },
  {
   "cell_type": "code",
   "execution_count": 153,
   "id": "e31d536c",
   "metadata": {},
   "outputs": [
    {
     "data": {
      "text/html": [
       "<div>\n",
       "<style scoped>\n",
       "    .dataframe tbody tr th:only-of-type {\n",
       "        vertical-align: middle;\n",
       "    }\n",
       "\n",
       "    .dataframe tbody tr th {\n",
       "        vertical-align: top;\n",
       "    }\n",
       "\n",
       "    .dataframe thead th {\n",
       "        text-align: right;\n",
       "    }\n",
       "</style>\n",
       "<table border=\"1\" class=\"dataframe\">\n",
       "  <thead>\n",
       "    <tr style=\"text-align: right;\">\n",
       "      <th></th>\n",
       "      <th>Survived</th>\n",
       "    </tr>\n",
       "  </thead>\n",
       "  <tbody>\n",
       "    <tr>\n",
       "      <th>0</th>\n",
       "      <td>0</td>\n",
       "    </tr>\n",
       "    <tr>\n",
       "      <th>1</th>\n",
       "      <td>1</td>\n",
       "    </tr>\n",
       "    <tr>\n",
       "      <th>2</th>\n",
       "      <td>1</td>\n",
       "    </tr>\n",
       "    <tr>\n",
       "      <th>3</th>\n",
       "      <td>1</td>\n",
       "    </tr>\n",
       "    <tr>\n",
       "      <th>4</th>\n",
       "      <td>0</td>\n",
       "    </tr>\n",
       "    <tr>\n",
       "      <th>...</th>\n",
       "      <td>...</td>\n",
       "    </tr>\n",
       "    <tr>\n",
       "      <th>886</th>\n",
       "      <td>0</td>\n",
       "    </tr>\n",
       "    <tr>\n",
       "      <th>887</th>\n",
       "      <td>1</td>\n",
       "    </tr>\n",
       "    <tr>\n",
       "      <th>888</th>\n",
       "      <td>0</td>\n",
       "    </tr>\n",
       "    <tr>\n",
       "      <th>889</th>\n",
       "      <td>1</td>\n",
       "    </tr>\n",
       "    <tr>\n",
       "      <th>890</th>\n",
       "      <td>0</td>\n",
       "    </tr>\n",
       "  </tbody>\n",
       "</table>\n",
       "<p>875 rows × 1 columns</p>\n",
       "</div>"
      ],
      "text/plain": [
       "     Survived\n",
       "0           0\n",
       "1           1\n",
       "2           1\n",
       "3           1\n",
       "4           0\n",
       "..        ...\n",
       "886         0\n",
       "887         1\n",
       "888         0\n",
       "889         1\n",
       "890         0\n",
       "\n",
       "[875 rows x 1 columns]"
      ]
     },
     "execution_count": 153,
     "metadata": {},
     "output_type": "execute_result"
    }
   ],
   "source": [
    "target"
   ]
  },
  {
   "cell_type": "code",
   "execution_count": 160,
   "id": "2a91d761",
   "metadata": {},
   "outputs": [],
   "source": [
    "log_model=LogisticRegression()"
   ]
  },
  {
   "cell_type": "code",
   "execution_count": 161,
   "id": "cc4267ed",
   "metadata": {},
   "outputs": [
    {
     "data": {
      "text/html": [
       "<style>#sk-container-id-9 {color: black;}#sk-container-id-9 pre{padding: 0;}#sk-container-id-9 div.sk-toggleable {background-color: white;}#sk-container-id-9 label.sk-toggleable__label {cursor: pointer;display: block;width: 100%;margin-bottom: 0;padding: 0.3em;box-sizing: border-box;text-align: center;}#sk-container-id-9 label.sk-toggleable__label-arrow:before {content: \"▸\";float: left;margin-right: 0.25em;color: #696969;}#sk-container-id-9 label.sk-toggleable__label-arrow:hover:before {color: black;}#sk-container-id-9 div.sk-estimator:hover label.sk-toggleable__label-arrow:before {color: black;}#sk-container-id-9 div.sk-toggleable__content {max-height: 0;max-width: 0;overflow: hidden;text-align: left;background-color: #f0f8ff;}#sk-container-id-9 div.sk-toggleable__content pre {margin: 0.2em;color: black;border-radius: 0.25em;background-color: #f0f8ff;}#sk-container-id-9 input.sk-toggleable__control:checked~div.sk-toggleable__content {max-height: 200px;max-width: 100%;overflow: auto;}#sk-container-id-9 input.sk-toggleable__control:checked~label.sk-toggleable__label-arrow:before {content: \"▾\";}#sk-container-id-9 div.sk-estimator input.sk-toggleable__control:checked~label.sk-toggleable__label {background-color: #d4ebff;}#sk-container-id-9 div.sk-label input.sk-toggleable__control:checked~label.sk-toggleable__label {background-color: #d4ebff;}#sk-container-id-9 input.sk-hidden--visually {border: 0;clip: rect(1px 1px 1px 1px);clip: rect(1px, 1px, 1px, 1px);height: 1px;margin: -1px;overflow: hidden;padding: 0;position: absolute;width: 1px;}#sk-container-id-9 div.sk-estimator {font-family: monospace;background-color: #f0f8ff;border: 1px dotted black;border-radius: 0.25em;box-sizing: border-box;margin-bottom: 0.5em;}#sk-container-id-9 div.sk-estimator:hover {background-color: #d4ebff;}#sk-container-id-9 div.sk-parallel-item::after {content: \"\";width: 100%;border-bottom: 1px solid gray;flex-grow: 1;}#sk-container-id-9 div.sk-label:hover label.sk-toggleable__label {background-color: #d4ebff;}#sk-container-id-9 div.sk-serial::before {content: \"\";position: absolute;border-left: 1px solid gray;box-sizing: border-box;top: 0;bottom: 0;left: 50%;z-index: 0;}#sk-container-id-9 div.sk-serial {display: flex;flex-direction: column;align-items: center;background-color: white;padding-right: 0.2em;padding-left: 0.2em;position: relative;}#sk-container-id-9 div.sk-item {position: relative;z-index: 1;}#sk-container-id-9 div.sk-parallel {display: flex;align-items: stretch;justify-content: center;background-color: white;position: relative;}#sk-container-id-9 div.sk-item::before, #sk-container-id-9 div.sk-parallel-item::before {content: \"\";position: absolute;border-left: 1px solid gray;box-sizing: border-box;top: 0;bottom: 0;left: 50%;z-index: -1;}#sk-container-id-9 div.sk-parallel-item {display: flex;flex-direction: column;z-index: 1;position: relative;background-color: white;}#sk-container-id-9 div.sk-parallel-item:first-child::after {align-self: flex-end;width: 50%;}#sk-container-id-9 div.sk-parallel-item:last-child::after {align-self: flex-start;width: 50%;}#sk-container-id-9 div.sk-parallel-item:only-child::after {width: 0;}#sk-container-id-9 div.sk-dashed-wrapped {border: 1px dashed gray;margin: 0 0.4em 0.5em 0.4em;box-sizing: border-box;padding-bottom: 0.4em;background-color: white;}#sk-container-id-9 div.sk-label label {font-family: monospace;font-weight: bold;display: inline-block;line-height: 1.2em;}#sk-container-id-9 div.sk-label-container {text-align: center;}#sk-container-id-9 div.sk-container {/* jupyter's `normalize.less` sets `[hidden] { display: none; }` but bootstrap.min.css set `[hidden] { display: none !important; }` so we also need the `!important` here to be able to override the default hidden behavior on the sphinx rendered scikit-learn.org. See: https://github.com/scikit-learn/scikit-learn/issues/21755 */display: inline-block !important;position: relative;}#sk-container-id-9 div.sk-text-repr-fallback {display: none;}</style><div id=\"sk-container-id-9\" class=\"sk-top-container\"><div class=\"sk-text-repr-fallback\"><pre>LogisticRegression()</pre><b>In a Jupyter environment, please rerun this cell to show the HTML representation or trust the notebook. <br />On GitHub, the HTML representation is unable to render, please try loading this page with nbviewer.org.</b></div><div class=\"sk-container\" hidden><div class=\"sk-item\"><div class=\"sk-estimator sk-toggleable\"><input class=\"sk-toggleable__control sk-hidden--visually\" id=\"sk-estimator-id-21\" type=\"checkbox\" checked><label for=\"sk-estimator-id-21\" class=\"sk-toggleable__label sk-toggleable__label-arrow\">LogisticRegression</label><div class=\"sk-toggleable__content\"><pre>LogisticRegression()</pre></div></div></div></div></div>"
      ],
      "text/plain": [
       "LogisticRegression()"
      ]
     },
     "execution_count": 161,
     "metadata": {},
     "output_type": "execute_result"
    }
   ],
   "source": [
    "log_model.fit(features,target)"
   ]
  },
  {
   "cell_type": "code",
   "execution_count": 162,
   "id": "8790c1b6",
   "metadata": {},
   "outputs": [],
   "source": [
    "pred=log_model.predict(features)"
   ]
  },
  {
   "cell_type": "code",
   "execution_count": 163,
   "id": "4689a2fb",
   "metadata": {},
   "outputs": [
    {
     "data": {
      "text/plain": [
       "0.8057142857142857"
      ]
     },
     "execution_count": 163,
     "metadata": {},
     "output_type": "execute_result"
    }
   ],
   "source": [
    "accuracy_score(target,pred)"
   ]
  },
  {
   "cell_type": "code",
   "execution_count": 158,
   "id": "6c0d0a76",
   "metadata": {},
   "outputs": [],
   "source": [
    "import pickle"
   ]
  },
  {
   "cell_type": "code",
   "execution_count": 159,
   "id": "d2a0e91d",
   "metadata": {},
   "outputs": [],
   "source": [
    "file='log_1.pkl'"
   ]
  },
  {
   "cell_type": "code",
   "execution_count": 164,
   "id": "9ac7fb1c",
   "metadata": {},
   "outputs": [],
   "source": [
    "pickle.dump(log_model,open(file,'wb'))"
   ]
  },
  {
   "cell_type": "code",
   "execution_count": 165,
   "id": "955f0824",
   "metadata": {},
   "outputs": [],
   "source": [
    "## here we have saved our logistic regression model as pickle file. Model deployment process will be done in a separate python notebook"
   ]
  }
 ],
 "metadata": {
  "kernelspec": {
   "display_name": "Python 3 (ipykernel)",
   "language": "python",
   "name": "python3"
  },
  "language_info": {
   "codemirror_mode": {
    "name": "ipython",
    "version": 3
   },
   "file_extension": ".py",
   "mimetype": "text/x-python",
   "name": "python",
   "nbconvert_exporter": "python",
   "pygments_lexer": "ipython3",
   "version": "3.12.4"
  }
 },
 "nbformat": 4,
 "nbformat_minor": 5
}

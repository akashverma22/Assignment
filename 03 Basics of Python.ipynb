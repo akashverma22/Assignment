{
 "cells": [
  {
   "cell_type": "markdown",
   "id": "2fd253fa",
   "metadata": {},
   "source": [
    "# Exercise 1: Prime Numbers"
   ]
  },
  {
   "cell_type": "code",
   "execution_count": 1,
   "id": "73dbf874",
   "metadata": {},
   "outputs": [
    {
     "name": "stdout",
     "output_type": "stream",
     "text": [
      "Enter the number:5\n",
      "Prime number\n"
     ]
    }
   ],
   "source": [
    "num=int(input('Enter the number:'))\n",
    "if num>1:\n",
    "    for i in range(2,num):\n",
    "        if num%i==0:\n",
    "            print('Not a prime number')\n",
    "            break\n",
    "    else:\n",
    "        print('Prime number')\n",
    "else:\n",
    "    print('Not a prime number')"
   ]
  },
  {
   "cell_type": "code",
   "execution_count": 2,
   "id": "dd676a7f",
   "metadata": {},
   "outputs": [],
   "source": [
    "## Explanation - user can enter any number to check whether it is prime. Since 1 is not a prime number, for number greater\n",
    "## than 1, iterate from 2 to user input to check if the remainder is zero when number is divided by all the numbers in the\n",
    "## range (2,num). If true then this is not a prime number. If false then this is a prime number."
   ]
  },
  {
   "cell_type": "markdown",
   "id": "89eea143",
   "metadata": {},
   "source": [
    "# Exercise 2: Product of Random Numbers"
   ]
  },
  {
   "cell_type": "code",
   "execution_count": 3,
   "id": "4f20307d",
   "metadata": {},
   "outputs": [],
   "source": [
    "import numpy as np"
   ]
  },
  {
   "cell_type": "code",
   "execution_count": 5,
   "id": "a01fa450",
   "metadata": {},
   "outputs": [
    {
     "name": "stdout",
     "output_type": "stream",
     "text": [
      "5 7\n",
      "Enter the product of two numbers:35\n",
      "Your answer is correct\n"
     ]
    }
   ],
   "source": [
    "a=np.random.randint(0,10)\n",
    "b=np.random.randint(0,10)\n",
    "print(a,b)\n",
    "prod=int(input('Enter the product of two numbers:'))\n",
    "if prod==a*b:\n",
    "    print('Your answer is correct')\n",
    "else:\n",
    "    print('Incorrect answer')"
   ]
  },
  {
   "cell_type": "code",
   "execution_count": 6,
   "id": "77eb3d36",
   "metadata": {},
   "outputs": [],
   "source": [
    "## Explanation - by the use of first two codes, any two random numbers can be generated within 0 to 9. User needs to enter\n",
    "## the product of the two random numbers and the program will give the result whether the user's entry is correct or not."
   ]
  },
  {
   "cell_type": "markdown",
   "id": "17a9f518",
   "metadata": {},
   "source": [
    "# Exercise 3: Squares of Even/Odd Numbers"
   ]
  },
  {
   "cell_type": "code",
   "execution_count": 7,
   "id": "70183b0d",
   "metadata": {},
   "outputs": [
    {
     "name": "stdout",
     "output_type": "stream",
     "text": [
      "[10000, 10404, 10816, 11236, 11664, 12100, 12544, 12996, 13456, 13924, 14400, 14884, 15376, 15876, 16384, 16900, 17424, 17956, 18496, 19044, 19600, 20164, 20736, 21316, 21904, 22500, 23104, 23716, 24336, 24964, 25600, 26244, 26896, 27556, 28224, 28900, 29584, 30276, 30976, 31684, 32400, 33124, 33856, 34596, 35344, 36100, 36864, 37636, 38416, 39204, 40000]\n"
     ]
    }
   ],
   "source": [
    "even=[]   ## selected even numbers for exercise\n",
    "for i in range(100,201):\n",
    "    if i%2==0:\n",
    "        even.append(i**2)\n",
    "print(even)"
   ]
  },
  {
   "cell_type": "code",
   "execution_count": 8,
   "id": "f21b624a",
   "metadata": {},
   "outputs": [],
   "source": [
    "## Explanation - define empty list to store square of even numbers. A number when divided by 2, if leaves zero remainder\n",
    "## then this is an even number. Iterate from 100 to 200 to check the condition and append square of the number which\n",
    "## satisfies this condition and store it in even list."
   ]
  },
  {
   "cell_type": "markdown",
   "id": "5ec7c658",
   "metadata": {},
   "source": [
    "# Exercise 4: Word counter"
   ]
  },
  {
   "cell_type": "code",
   "execution_count": 9,
   "id": "bb96e45c",
   "metadata": {},
   "outputs": [],
   "source": [
    "def sample_txt(str):\n",
    "    count=dict()\n",
    "    words=str.split()\n",
    "    for word in words:\n",
    "        if word in count:\n",
    "            count[word]+=1\n",
    "        else:\n",
    "            count[word]=1\n",
    "    return count"
   ]
  },
  {
   "cell_type": "code",
   "execution_count": 10,
   "id": "390a1168",
   "metadata": {},
   "outputs": [
    {
     "data": {
      "text/plain": [
       "{'my': 2, 'name': 2, 'is': 2, 'akash': 2, 'verma': 1, 'and': 1, 'nick': 1}"
      ]
     },
     "execution_count": 10,
     "metadata": {},
     "output_type": "execute_result"
    }
   ],
   "source": [
    "sample_txt('my name is akash verma and my nick name is akash')"
   ]
  },
  {
   "cell_type": "code",
   "execution_count": 11,
   "id": "0074b50c",
   "metadata": {},
   "outputs": [],
   "source": [
    "## Explanation - Define a function, create empty dictionary to store the word count. Split the string into words and store\n",
    "## it in a list.Iterate through each word in the words list and check if the word is already in count dictionary. If yes,\n",
    "## increase its frequency by 1. If no, then add this word to dictionary with count of 1."
   ]
  },
  {
   "cell_type": "markdown",
   "id": "da4aa759",
   "metadata": {},
   "source": [
    "# Exercise 5: Check for Palindrome"
   ]
  },
  {
   "cell_type": "code",
   "execution_count": 12,
   "id": "15f17281",
   "metadata": {},
   "outputs": [],
   "source": [
    "def isPalindrome(x):\n",
    "    return x==x[::-1]"
   ]
  },
  {
   "cell_type": "code",
   "execution_count": 13,
   "id": "4aa48a9a",
   "metadata": {},
   "outputs": [],
   "source": [
    "x='malayalam'"
   ]
  },
  {
   "cell_type": "code",
   "execution_count": 14,
   "id": "39e09503",
   "metadata": {},
   "outputs": [
    {
     "data": {
      "text/plain": [
       "True"
      ]
     },
     "execution_count": 14,
     "metadata": {},
     "output_type": "execute_result"
    }
   ],
   "source": [
    "isPalindrome(x)"
   ]
  },
  {
   "cell_type": "code",
   "execution_count": 15,
   "id": "c86a3334",
   "metadata": {},
   "outputs": [
    {
     "data": {
      "text/plain": [
       "False"
      ]
     },
     "execution_count": 15,
     "metadata": {},
     "output_type": "execute_result"
    }
   ],
   "source": [
    "isPalindrome('akash')"
   ]
  },
  {
   "cell_type": "code",
   "execution_count": 16,
   "id": "60d18069",
   "metadata": {},
   "outputs": [],
   "source": [
    "## Explanation - define a function and apply the condition to reverse the order of word. If the word and its reverse order\n",
    "## are same then this is a palindrome and we will get True."
   ]
  }
 ],
 "metadata": {
  "kernelspec": {
   "display_name": "Python 3 (ipykernel)",
   "language": "python",
   "name": "python3"
  },
  "language_info": {
   "codemirror_mode": {
    "name": "ipython",
    "version": 3
   },
   "file_extension": ".py",
   "mimetype": "text/x-python",
   "name": "python",
   "nbconvert_exporter": "python",
   "pygments_lexer": "ipython3",
   "version": "3.11.5"
  }
 },
 "nbformat": 4,
 "nbformat_minor": 5
}

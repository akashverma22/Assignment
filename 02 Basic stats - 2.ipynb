{
 "cells": [
  {
   "cell_type": "markdown",
   "id": "8c17e0c3",
   "metadata": {},
   "source": [
    "# Confidence Interval"
   ]
  },
  {
   "cell_type": "code",
   "execution_count": 1,
   "id": "dd475b02",
   "metadata": {},
   "outputs": [],
   "source": [
    "## Build 99% Confidence Interval Using Sample Standard Deviation"
   ]
  },
  {
   "cell_type": "code",
   "execution_count": 2,
   "id": "c4c3a9ba",
   "metadata": {},
   "outputs": [],
   "source": [
    "import scipy.stats as stats\n",
    "import math\n",
    "import numpy as np"
   ]
  },
  {
   "cell_type": "code",
   "execution_count": 3,
   "id": "1f9c8303",
   "metadata": {},
   "outputs": [],
   "source": [
    "data=[1.13, 1.55, 1.43, 0.92, 1.25, 1.36, 1.32, 0.85, 1.07, 1.48, 1.20, 1.33, 1.18, 1.22, 1.29]"
   ]
  },
  {
   "cell_type": "code",
   "execution_count": 4,
   "id": "b8bafc9d",
   "metadata": {},
   "outputs": [],
   "source": [
    "## Given data\n",
    "## number of observations n=20\n",
    "## Confidence Interval 99%\n",
    "## sample mean and sample standard deviation can be calculated"
   ]
  },
  {
   "cell_type": "code",
   "execution_count": 5,
   "id": "317a2ae3",
   "metadata": {},
   "outputs": [],
   "source": [
    "n=20\n",
    "degree_of_freedom=n-1\n",
    "sample_mean=np.mean(data)\n",
    "sample_sd=np.std(data)"
   ]
  },
  {
   "cell_type": "code",
   "execution_count": 6,
   "id": "c5967ec3",
   "metadata": {},
   "outputs": [
    {
     "data": {
      "text/plain": [
       "2.860934606449914"
      ]
     },
     "execution_count": 6,
     "metadata": {},
     "output_type": "execute_result"
    }
   ],
   "source": [
    "## finding t_critical value at 99% confidence interval\n",
    "t_critical= stats.t.ppf(1-0.01/2,degree_of_freedom)\n",
    "t_critical"
   ]
  },
  {
   "cell_type": "code",
   "execution_count": 7,
   "id": "113ba75c",
   "metadata": {},
   "outputs": [],
   "source": [
    "## finding the range of population mean with confidence interval 99% (lower limit and upper limit)"
   ]
  },
  {
   "cell_type": "code",
   "execution_count": 8,
   "id": "12fbf865",
   "metadata": {},
   "outputs": [
    {
     "data": {
      "text/plain": [
       "0.11938171209421958"
      ]
     },
     "execution_count": 8,
     "metadata": {},
     "output_type": "execute_result"
    }
   ],
   "source": [
    "Margin_of_Error= t_critical*(sample_sd/math.sqrt(n))\n",
    "Margin_of_Error"
   ]
  },
  {
   "cell_type": "code",
   "execution_count": 9,
   "id": "669dd774",
   "metadata": {},
   "outputs": [
    {
     "data": {
      "text/plain": [
       "1.119284954572447"
      ]
     },
     "execution_count": 9,
     "metadata": {},
     "output_type": "execute_result"
    }
   ],
   "source": [
    "lower_limit1= sample_mean-Margin_of_Error\n",
    "lower_limit1"
   ]
  },
  {
   "cell_type": "code",
   "execution_count": 10,
   "id": "9d8873d6",
   "metadata": {},
   "outputs": [
    {
     "data": {
      "text/plain": [
       "1.3580483787608861"
      ]
     },
     "execution_count": 10,
     "metadata": {},
     "output_type": "execute_result"
    }
   ],
   "source": [
    "Upper_limit1= sample_mean+Margin_of_Error\n",
    "Upper_limit1"
   ]
  },
  {
   "cell_type": "code",
   "execution_count": 11,
   "id": "079b88d4",
   "metadata": {},
   "outputs": [],
   "source": [
    "## Interpretation - since population standard deviation is unknown we need to apply t-test"
   ]
  },
  {
   "cell_type": "code",
   "execution_count": 12,
   "id": "246ffe04",
   "metadata": {},
   "outputs": [],
   "source": [
    "## Build 99% Confidence Interval Using Known Population Standard Deviation"
   ]
  },
  {
   "cell_type": "code",
   "execution_count": 13,
   "id": "faa628a5",
   "metadata": {},
   "outputs": [],
   "source": [
    "## Given data\n",
    "## number of observations n=20\n",
    "## population standard deviation is 0.2\n",
    "## Confidence Interval 99%\n",
    "## sample mean can be calculated"
   ]
  },
  {
   "cell_type": "code",
   "execution_count": 14,
   "id": "80bee9b9",
   "metadata": {},
   "outputs": [],
   "source": [
    "n=20\n",
    "degree_of_freedom=n-1\n",
    "sample_mean=np.mean(data)\n",
    "pop_sd=0.2"
   ]
  },
  {
   "cell_type": "code",
   "execution_count": 15,
   "id": "b99d8717",
   "metadata": {},
   "outputs": [
    {
     "data": {
      "text/plain": [
       "2.5758293035489004"
      ]
     },
     "execution_count": 15,
     "metadata": {},
     "output_type": "execute_result"
    }
   ],
   "source": [
    "## finding z_critical value at 99% confidence interval\n",
    "z_critical=stats.norm.ppf(1-0.01/2)\n",
    "z_critical"
   ]
  },
  {
   "cell_type": "code",
   "execution_count": 16,
   "id": "66b26283",
   "metadata": {},
   "outputs": [
    {
     "data": {
      "text/plain": [
       "0.11519458842342563"
      ]
     },
     "execution_count": 16,
     "metadata": {},
     "output_type": "execute_result"
    }
   ],
   "source": [
    "Margin_Error= z_critical*(pop_sd/math.sqrt(n))\n",
    "Margin_Error"
   ]
  },
  {
   "cell_type": "code",
   "execution_count": 17,
   "id": "fb2ad713",
   "metadata": {},
   "outputs": [],
   "source": [
    "## finding the range of population mean with confidence interval 99% (lower limit and upper limit)"
   ]
  },
  {
   "cell_type": "code",
   "execution_count": 18,
   "id": "5e4fd633",
   "metadata": {},
   "outputs": [
    {
     "data": {
      "text/plain": [
       "1.123472078243241"
      ]
     },
     "execution_count": 18,
     "metadata": {},
     "output_type": "execute_result"
    }
   ],
   "source": [
    "lower_limit2=sample_mean-Margin_Error\n",
    "lower_limit2"
   ]
  },
  {
   "cell_type": "code",
   "execution_count": 19,
   "id": "335295ab",
   "metadata": {},
   "outputs": [
    {
     "data": {
      "text/plain": [
       "1.3538612550900921"
      ]
     },
     "execution_count": 19,
     "metadata": {},
     "output_type": "execute_result"
    }
   ],
   "source": [
    "upper_limit2=sample_mean+Margin_Error\n",
    "upper_limit2"
   ]
  },
  {
   "cell_type": "code",
   "execution_count": 20,
   "id": "265d0169",
   "metadata": {},
   "outputs": [],
   "source": [
    "## Interpretation - since population standard deviation is given we can use z-test"
   ]
  }
 ],
 "metadata": {
  "kernelspec": {
   "display_name": "Python 3 (ipykernel)",
   "language": "python",
   "name": "python3"
  },
  "language_info": {
   "codemirror_mode": {
    "name": "ipython",
    "version": 3
   },
   "file_extension": ".py",
   "mimetype": "text/x-python",
   "name": "python",
   "nbconvert_exporter": "python",
   "pygments_lexer": "ipython3",
   "version": "3.11.5"
  }
 },
 "nbformat": 4,
 "nbformat_minor": 5
}

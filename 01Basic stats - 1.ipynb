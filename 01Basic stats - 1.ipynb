{
 "cells": [
  {
   "cell_type": "markdown",
   "id": "594ee097",
   "metadata": {},
   "source": [
    "# Descriptive Analytics for Numerical Columns"
   ]
  },
  {
   "cell_type": "code",
   "execution_count": null,
   "id": "ef1b3ccd",
   "metadata": {},
   "outputs": [],
   "source": [
    "## Load the dataset"
   ]
  },
  {
   "cell_type": "code",
   "execution_count": 3,
   "id": "26d1e75b",
   "metadata": {},
   "outputs": [],
   "source": [
    "import pandas as pd"
   ]
  },
  {
   "cell_type": "code",
   "execution_count": 65,
   "id": "cd6a388f",
   "metadata": {},
   "outputs": [],
   "source": [
    "data=pd.read_csv(r'C:\\D Drive\\Data_Science\\01 Assignments\\01 Basic stats - 1\\sales_data_with_discounts.csv')"
   ]
  },
  {
   "cell_type": "code",
   "execution_count": 3,
   "id": "cfb667fe",
   "metadata": {},
   "outputs": [
    {
     "data": {
      "text/html": [
       "<div>\n",
       "<style scoped>\n",
       "    .dataframe tbody tr th:only-of-type {\n",
       "        vertical-align: middle;\n",
       "    }\n",
       "\n",
       "    .dataframe tbody tr th {\n",
       "        vertical-align: top;\n",
       "    }\n",
       "\n",
       "    .dataframe thead th {\n",
       "        text-align: right;\n",
       "    }\n",
       "</style>\n",
       "<table border=\"1\" class=\"dataframe\">\n",
       "  <thead>\n",
       "    <tr style=\"text-align: right;\">\n",
       "      <th></th>\n",
       "      <th>Date</th>\n",
       "      <th>Day</th>\n",
       "      <th>SKU</th>\n",
       "      <th>City</th>\n",
       "      <th>Volume</th>\n",
       "      <th>BU</th>\n",
       "      <th>Brand</th>\n",
       "      <th>Model</th>\n",
       "      <th>Avg Price</th>\n",
       "      <th>Total Sales Value</th>\n",
       "      <th>Discount Rate (%)</th>\n",
       "      <th>Discount Amount</th>\n",
       "      <th>Net Sales Value</th>\n",
       "    </tr>\n",
       "  </thead>\n",
       "  <tbody>\n",
       "    <tr>\n",
       "      <th>0</th>\n",
       "      <td>01-04-2021</td>\n",
       "      <td>Thursday</td>\n",
       "      <td>M01</td>\n",
       "      <td>C</td>\n",
       "      <td>15</td>\n",
       "      <td>Mobiles</td>\n",
       "      <td>RealU</td>\n",
       "      <td>RU-10</td>\n",
       "      <td>12100</td>\n",
       "      <td>181500</td>\n",
       "      <td>11.654820</td>\n",
       "      <td>21153.498820</td>\n",
       "      <td>160346.501180</td>\n",
       "    </tr>\n",
       "    <tr>\n",
       "      <th>1</th>\n",
       "      <td>01-04-2021</td>\n",
       "      <td>Thursday</td>\n",
       "      <td>M02</td>\n",
       "      <td>C</td>\n",
       "      <td>10</td>\n",
       "      <td>Mobiles</td>\n",
       "      <td>RealU</td>\n",
       "      <td>RU-9 Plus</td>\n",
       "      <td>10100</td>\n",
       "      <td>101000</td>\n",
       "      <td>11.560498</td>\n",
       "      <td>11676.102961</td>\n",
       "      <td>89323.897039</td>\n",
       "    </tr>\n",
       "    <tr>\n",
       "      <th>2</th>\n",
       "      <td>01-04-2021</td>\n",
       "      <td>Thursday</td>\n",
       "      <td>M03</td>\n",
       "      <td>C</td>\n",
       "      <td>7</td>\n",
       "      <td>Mobiles</td>\n",
       "      <td>YouM</td>\n",
       "      <td>YM-99</td>\n",
       "      <td>16100</td>\n",
       "      <td>112700</td>\n",
       "      <td>9.456886</td>\n",
       "      <td>10657.910157</td>\n",
       "      <td>102042.089843</td>\n",
       "    </tr>\n",
       "    <tr>\n",
       "      <th>3</th>\n",
       "      <td>01-04-2021</td>\n",
       "      <td>Thursday</td>\n",
       "      <td>M04</td>\n",
       "      <td>C</td>\n",
       "      <td>6</td>\n",
       "      <td>Mobiles</td>\n",
       "      <td>YouM</td>\n",
       "      <td>YM-99 Plus</td>\n",
       "      <td>20100</td>\n",
       "      <td>120600</td>\n",
       "      <td>6.935385</td>\n",
       "      <td>8364.074702</td>\n",
       "      <td>112235.925298</td>\n",
       "    </tr>\n",
       "    <tr>\n",
       "      <th>4</th>\n",
       "      <td>01-04-2021</td>\n",
       "      <td>Thursday</td>\n",
       "      <td>M05</td>\n",
       "      <td>C</td>\n",
       "      <td>3</td>\n",
       "      <td>Mobiles</td>\n",
       "      <td>YouM</td>\n",
       "      <td>YM-98</td>\n",
       "      <td>8100</td>\n",
       "      <td>24300</td>\n",
       "      <td>17.995663</td>\n",
       "      <td>4372.946230</td>\n",
       "      <td>19927.053770</td>\n",
       "    </tr>\n",
       "  </tbody>\n",
       "</table>\n",
       "</div>"
      ],
      "text/plain": [
       "         Date       Day  SKU City  Volume       BU  Brand       Model  \\\n",
       "0  01-04-2021  Thursday  M01    C      15  Mobiles  RealU       RU-10   \n",
       "1  01-04-2021  Thursday  M02    C      10  Mobiles  RealU   RU-9 Plus   \n",
       "2  01-04-2021  Thursday  M03    C       7  Mobiles   YouM       YM-99   \n",
       "3  01-04-2021  Thursday  M04    C       6  Mobiles   YouM  YM-99 Plus   \n",
       "4  01-04-2021  Thursday  M05    C       3  Mobiles   YouM      YM-98    \n",
       "\n",
       "   Avg Price  Total Sales Value  Discount Rate (%)  Discount Amount  \\\n",
       "0      12100             181500          11.654820     21153.498820   \n",
       "1      10100             101000          11.560498     11676.102961   \n",
       "2      16100             112700           9.456886     10657.910157   \n",
       "3      20100             120600           6.935385      8364.074702   \n",
       "4       8100              24300          17.995663      4372.946230   \n",
       "\n",
       "   Net Sales Value  \n",
       "0    160346.501180  \n",
       "1     89323.897039  \n",
       "2    102042.089843  \n",
       "3    112235.925298  \n",
       "4     19927.053770  "
      ]
     },
     "execution_count": 3,
     "metadata": {},
     "output_type": "execute_result"
    }
   ],
   "source": [
    "data.head()"
   ]
  },
  {
   "cell_type": "code",
   "execution_count": 4,
   "id": "0d369cce",
   "metadata": {},
   "outputs": [
    {
     "data": {
      "text/plain": [
       "(450, 13)"
      ]
     },
     "execution_count": 4,
     "metadata": {},
     "output_type": "execute_result"
    }
   ],
   "source": [
    "data.shape"
   ]
  },
  {
   "cell_type": "code",
   "execution_count": 7,
   "id": "6b0d3ea5",
   "metadata": {},
   "outputs": [],
   "source": [
    "## Identify numerical columns in the dataset"
   ]
  },
  {
   "cell_type": "code",
   "execution_count": 8,
   "id": "bd09fdf9",
   "metadata": {},
   "outputs": [
    {
     "data": {
      "text/plain": [
       "Index(['Date', 'Day', 'SKU', 'City', 'Volume', 'BU', 'Brand', 'Model',\n",
       "       'Avg Price', 'Total Sales Value', 'Discount Rate (%)',\n",
       "       'Discount Amount', 'Net Sales Value'],\n",
       "      dtype='object')"
      ]
     },
     "execution_count": 8,
     "metadata": {},
     "output_type": "execute_result"
    }
   ],
   "source": [
    "data.columns"
   ]
  },
  {
   "cell_type": "code",
   "execution_count": 9,
   "id": "0a5a0486",
   "metadata": {},
   "outputs": [
    {
     "name": "stdout",
     "output_type": "stream",
     "text": [
      "<class 'pandas.core.frame.DataFrame'>\n",
      "RangeIndex: 450 entries, 0 to 449\n",
      "Data columns (total 13 columns):\n",
      " #   Column             Non-Null Count  Dtype  \n",
      "---  ------             --------------  -----  \n",
      " 0   Date               450 non-null    object \n",
      " 1   Day                450 non-null    object \n",
      " 2   SKU                450 non-null    object \n",
      " 3   City               450 non-null    object \n",
      " 4   Volume             450 non-null    int64  \n",
      " 5   BU                 450 non-null    object \n",
      " 6   Brand              450 non-null    object \n",
      " 7   Model              450 non-null    object \n",
      " 8   Avg Price          450 non-null    int64  \n",
      " 9   Total Sales Value  450 non-null    int64  \n",
      " 10  Discount Rate (%)  450 non-null    float64\n",
      " 11  Discount Amount    450 non-null    float64\n",
      " 12  Net Sales Value    450 non-null    float64\n",
      "dtypes: float64(3), int64(3), object(7)\n",
      "memory usage: 45.8+ KB\n"
     ]
    }
   ],
   "source": [
    "data.info()"
   ]
  },
  {
   "cell_type": "code",
   "execution_count": 37,
   "id": "3b16b861",
   "metadata": {},
   "outputs": [],
   "source": [
    "data_numerical=[i for i in data.columns if data[i].dtypes!='O']"
   ]
  },
  {
   "cell_type": "code",
   "execution_count": 13,
   "id": "affbd1dd",
   "metadata": {},
   "outputs": [
    {
     "data": {
      "text/plain": [
       "['Volume',\n",
       " 'Avg Price',\n",
       " 'Total Sales Value',\n",
       " 'Discount Rate (%)',\n",
       " 'Discount Amount',\n",
       " 'Net Sales Value']"
      ]
     },
     "execution_count": 13,
     "metadata": {},
     "output_type": "execute_result"
    }
   ],
   "source": [
    "data_numerical"
   ]
  },
  {
   "cell_type": "code",
   "execution_count": 14,
   "id": "b394208a",
   "metadata": {},
   "outputs": [],
   "source": [
    "## Calculate the mean, median, mode, and standard deviation for these columns"
   ]
  },
  {
   "cell_type": "code",
   "execution_count": 36,
   "id": "3e3774cb",
   "metadata": {},
   "outputs": [],
   "source": [
    "df=data[['Volume','Avg Price','Total Sales Value','Discount Rate (%)','Discount Amount','Net Sales Value']]"
   ]
  },
  {
   "cell_type": "code",
   "execution_count": 37,
   "id": "2c41a486",
   "metadata": {},
   "outputs": [
    {
     "data": {
      "text/plain": [
       "Volume                   5.066667\n",
       "Avg Price            10453.433333\n",
       "Total Sales Value    33812.835556\n",
       "Discount Rate (%)       15.155242\n",
       "Discount Amount       3346.499424\n",
       "Net Sales Value      30466.336131\n",
       "dtype: float64"
      ]
     },
     "execution_count": 37,
     "metadata": {},
     "output_type": "execute_result"
    }
   ],
   "source": [
    "df.mean()"
   ]
  },
  {
   "cell_type": "code",
   "execution_count": 38,
   "id": "f0f6cacf",
   "metadata": {},
   "outputs": [
    {
     "data": {
      "text/plain": [
       "Volume                  4.000000\n",
       "Avg Price            1450.000000\n",
       "Total Sales Value    5700.000000\n",
       "Discount Rate (%)      16.577766\n",
       "Discount Amount       988.933733\n",
       "Net Sales Value      4677.788059\n",
       "dtype: float64"
      ]
     },
     "execution_count": 38,
     "metadata": {},
     "output_type": "execute_result"
    }
   ],
   "source": [
    "df.median()"
   ]
  },
  {
   "cell_type": "code",
   "execution_count": 46,
   "id": "74999743",
   "metadata": {},
   "outputs": [
    {
     "data": {
      "text/html": [
       "<div>\n",
       "<style scoped>\n",
       "    .dataframe tbody tr th:only-of-type {\n",
       "        vertical-align: middle;\n",
       "    }\n",
       "\n",
       "    .dataframe tbody tr th {\n",
       "        vertical-align: top;\n",
       "    }\n",
       "\n",
       "    .dataframe thead th {\n",
       "        text-align: right;\n",
       "    }\n",
       "</style>\n",
       "<table border=\"1\" class=\"dataframe\">\n",
       "  <thead>\n",
       "    <tr style=\"text-align: right;\">\n",
       "      <th></th>\n",
       "      <th>Volume</th>\n",
       "    </tr>\n",
       "  </thead>\n",
       "  <tbody>\n",
       "    <tr>\n",
       "      <th>0</th>\n",
       "      <td>3</td>\n",
       "    </tr>\n",
       "  </tbody>\n",
       "</table>\n",
       "</div>"
      ],
      "text/plain": [
       "   Volume\n",
       "0       3"
      ]
     },
     "execution_count": 46,
     "metadata": {},
     "output_type": "execute_result"
    }
   ],
   "source": [
    "df[['Volume']].mode()"
   ]
  },
  {
   "cell_type": "code",
   "execution_count": 45,
   "id": "e835bbd7",
   "metadata": {},
   "outputs": [
    {
     "data": {
      "text/html": [
       "<div>\n",
       "<style scoped>\n",
       "    .dataframe tbody tr th:only-of-type {\n",
       "        vertical-align: middle;\n",
       "    }\n",
       "\n",
       "    .dataframe tbody tr th {\n",
       "        vertical-align: top;\n",
       "    }\n",
       "\n",
       "    .dataframe thead th {\n",
       "        text-align: right;\n",
       "    }\n",
       "</style>\n",
       "<table border=\"1\" class=\"dataframe\">\n",
       "  <thead>\n",
       "    <tr style=\"text-align: right;\">\n",
       "      <th></th>\n",
       "      <th>Avg Price</th>\n",
       "    </tr>\n",
       "  </thead>\n",
       "  <tbody>\n",
       "    <tr>\n",
       "      <th>0</th>\n",
       "      <td>400</td>\n",
       "    </tr>\n",
       "    <tr>\n",
       "      <th>1</th>\n",
       "      <td>450</td>\n",
       "    </tr>\n",
       "    <tr>\n",
       "      <th>2</th>\n",
       "      <td>500</td>\n",
       "    </tr>\n",
       "    <tr>\n",
       "      <th>3</th>\n",
       "      <td>1300</td>\n",
       "    </tr>\n",
       "    <tr>\n",
       "      <th>4</th>\n",
       "      <td>8100</td>\n",
       "    </tr>\n",
       "  </tbody>\n",
       "</table>\n",
       "</div>"
      ],
      "text/plain": [
       "   Avg Price\n",
       "0        400\n",
       "1        450\n",
       "2        500\n",
       "3       1300\n",
       "4       8100"
      ]
     },
     "execution_count": 45,
     "metadata": {},
     "output_type": "execute_result"
    }
   ],
   "source": [
    "df[['Avg Price']].mode()"
   ]
  },
  {
   "cell_type": "code",
   "execution_count": 47,
   "id": "59c96ac4",
   "metadata": {},
   "outputs": [
    {
     "data": {
      "text/html": [
       "<div>\n",
       "<style scoped>\n",
       "    .dataframe tbody tr th:only-of-type {\n",
       "        vertical-align: middle;\n",
       "    }\n",
       "\n",
       "    .dataframe tbody tr th {\n",
       "        vertical-align: top;\n",
       "    }\n",
       "\n",
       "    .dataframe thead th {\n",
       "        text-align: right;\n",
       "    }\n",
       "</style>\n",
       "<table border=\"1\" class=\"dataframe\">\n",
       "  <thead>\n",
       "    <tr style=\"text-align: right;\">\n",
       "      <th></th>\n",
       "      <th>Total Sales Value</th>\n",
       "    </tr>\n",
       "  </thead>\n",
       "  <tbody>\n",
       "    <tr>\n",
       "      <th>0</th>\n",
       "      <td>24300</td>\n",
       "    </tr>\n",
       "  </tbody>\n",
       "</table>\n",
       "</div>"
      ],
      "text/plain": [
       "   Total Sales Value\n",
       "0              24300"
      ]
     },
     "execution_count": 47,
     "metadata": {},
     "output_type": "execute_result"
    }
   ],
   "source": [
    "df[['Total Sales Value']].mode()"
   ]
  },
  {
   "cell_type": "code",
   "execution_count": 48,
   "id": "9100cbf1",
   "metadata": {},
   "outputs": [
    {
     "data": {
      "text/html": [
       "<div>\n",
       "<style scoped>\n",
       "    .dataframe tbody tr th:only-of-type {\n",
       "        vertical-align: middle;\n",
       "    }\n",
       "\n",
       "    .dataframe tbody tr th {\n",
       "        vertical-align: top;\n",
       "    }\n",
       "\n",
       "    .dataframe thead th {\n",
       "        text-align: right;\n",
       "    }\n",
       "</style>\n",
       "<table border=\"1\" class=\"dataframe\">\n",
       "  <thead>\n",
       "    <tr style=\"text-align: right;\">\n",
       "      <th></th>\n",
       "      <th>Discount Rate (%)</th>\n",
       "    </tr>\n",
       "  </thead>\n",
       "  <tbody>\n",
       "    <tr>\n",
       "      <th>0</th>\n",
       "      <td>5.007822</td>\n",
       "    </tr>\n",
       "    <tr>\n",
       "      <th>1</th>\n",
       "      <td>5.055218</td>\n",
       "    </tr>\n",
       "    <tr>\n",
       "      <th>2</th>\n",
       "      <td>5.059801</td>\n",
       "    </tr>\n",
       "    <tr>\n",
       "      <th>3</th>\n",
       "      <td>5.072124</td>\n",
       "    </tr>\n",
       "    <tr>\n",
       "      <th>4</th>\n",
       "      <td>5.084108</td>\n",
       "    </tr>\n",
       "    <tr>\n",
       "      <th>...</th>\n",
       "      <td>...</td>\n",
       "    </tr>\n",
       "    <tr>\n",
       "      <th>445</th>\n",
       "      <td>19.940610</td>\n",
       "    </tr>\n",
       "    <tr>\n",
       "      <th>446</th>\n",
       "      <td>19.965340</td>\n",
       "    </tr>\n",
       "    <tr>\n",
       "      <th>447</th>\n",
       "      <td>19.976879</td>\n",
       "    </tr>\n",
       "    <tr>\n",
       "      <th>448</th>\n",
       "      <td>19.982257</td>\n",
       "    </tr>\n",
       "    <tr>\n",
       "      <th>449</th>\n",
       "      <td>19.992407</td>\n",
       "    </tr>\n",
       "  </tbody>\n",
       "</table>\n",
       "<p>450 rows × 1 columns</p>\n",
       "</div>"
      ],
      "text/plain": [
       "     Discount Rate (%)\n",
       "0             5.007822\n",
       "1             5.055218\n",
       "2             5.059801\n",
       "3             5.072124\n",
       "4             5.084108\n",
       "..                 ...\n",
       "445          19.940610\n",
       "446          19.965340\n",
       "447          19.976879\n",
       "448          19.982257\n",
       "449          19.992407\n",
       "\n",
       "[450 rows x 1 columns]"
      ]
     },
     "execution_count": 48,
     "metadata": {},
     "output_type": "execute_result"
    }
   ],
   "source": [
    "df[['Discount Rate (%)']].mode()"
   ]
  },
  {
   "cell_type": "code",
   "execution_count": 49,
   "id": "6b6e7164",
   "metadata": {},
   "outputs": [
    {
     "data": {
      "text/html": [
       "<div>\n",
       "<style scoped>\n",
       "    .dataframe tbody tr th:only-of-type {\n",
       "        vertical-align: middle;\n",
       "    }\n",
       "\n",
       "    .dataframe tbody tr th {\n",
       "        vertical-align: top;\n",
       "    }\n",
       "\n",
       "    .dataframe thead th {\n",
       "        text-align: right;\n",
       "    }\n",
       "</style>\n",
       "<table border=\"1\" class=\"dataframe\">\n",
       "  <thead>\n",
       "    <tr style=\"text-align: right;\">\n",
       "      <th></th>\n",
       "      <th>Discount Amount</th>\n",
       "    </tr>\n",
       "  </thead>\n",
       "  <tbody>\n",
       "    <tr>\n",
       "      <th>0</th>\n",
       "      <td>69.177942</td>\n",
       "    </tr>\n",
       "    <tr>\n",
       "      <th>1</th>\n",
       "      <td>73.025199</td>\n",
       "    </tr>\n",
       "    <tr>\n",
       "      <th>2</th>\n",
       "      <td>93.649161</td>\n",
       "    </tr>\n",
       "    <tr>\n",
       "      <th>3</th>\n",
       "      <td>94.682735</td>\n",
       "    </tr>\n",
       "    <tr>\n",
       "      <th>4</th>\n",
       "      <td>102.705757</td>\n",
       "    </tr>\n",
       "    <tr>\n",
       "      <th>...</th>\n",
       "      <td>...</td>\n",
       "    </tr>\n",
       "    <tr>\n",
       "      <th>445</th>\n",
       "      <td>17900.983733</td>\n",
       "    </tr>\n",
       "    <tr>\n",
       "      <th>446</th>\n",
       "      <td>21153.498820</td>\n",
       "    </tr>\n",
       "    <tr>\n",
       "      <th>447</th>\n",
       "      <td>21496.675367</td>\n",
       "    </tr>\n",
       "    <tr>\n",
       "      <th>448</th>\n",
       "      <td>25328.224204</td>\n",
       "    </tr>\n",
       "    <tr>\n",
       "      <th>449</th>\n",
       "      <td>25738.022194</td>\n",
       "    </tr>\n",
       "  </tbody>\n",
       "</table>\n",
       "<p>450 rows × 1 columns</p>\n",
       "</div>"
      ],
      "text/plain": [
       "     Discount Amount\n",
       "0          69.177942\n",
       "1          73.025199\n",
       "2          93.649161\n",
       "3          94.682735\n",
       "4         102.705757\n",
       "..               ...\n",
       "445     17900.983733\n",
       "446     21153.498820\n",
       "447     21496.675367\n",
       "448     25328.224204\n",
       "449     25738.022194\n",
       "\n",
       "[450 rows x 1 columns]"
      ]
     },
     "execution_count": 49,
     "metadata": {},
     "output_type": "execute_result"
    }
   ],
   "source": [
    "df[['Discount Amount']].mode()"
   ]
  },
  {
   "cell_type": "code",
   "execution_count": 50,
   "id": "eac484f3",
   "metadata": {},
   "outputs": [
    {
     "data": {
      "text/html": [
       "<div>\n",
       "<style scoped>\n",
       "    .dataframe tbody tr th:only-of-type {\n",
       "        vertical-align: middle;\n",
       "    }\n",
       "\n",
       "    .dataframe tbody tr th {\n",
       "        vertical-align: top;\n",
       "    }\n",
       "\n",
       "    .dataframe thead th {\n",
       "        text-align: right;\n",
       "    }\n",
       "</style>\n",
       "<table border=\"1\" class=\"dataframe\">\n",
       "  <thead>\n",
       "    <tr style=\"text-align: right;\">\n",
       "      <th></th>\n",
       "      <th>Net Sales Value</th>\n",
       "    </tr>\n",
       "  </thead>\n",
       "  <tbody>\n",
       "    <tr>\n",
       "      <th>0</th>\n",
       "      <td>326.974801</td>\n",
       "    </tr>\n",
       "    <tr>\n",
       "      <th>1</th>\n",
       "      <td>330.822058</td>\n",
       "    </tr>\n",
       "    <tr>\n",
       "      <th>2</th>\n",
       "      <td>466.350839</td>\n",
       "    </tr>\n",
       "    <tr>\n",
       "      <th>3</th>\n",
       "      <td>485.317265</td>\n",
       "    </tr>\n",
       "    <tr>\n",
       "      <th>4</th>\n",
       "      <td>496.607104</td>\n",
       "    </tr>\n",
       "    <tr>\n",
       "      <th>...</th>\n",
       "      <td>...</td>\n",
       "    </tr>\n",
       "    <tr>\n",
       "      <th>445</th>\n",
       "      <td>162603.186379</td>\n",
       "    </tr>\n",
       "    <tr>\n",
       "      <th>446</th>\n",
       "      <td>163915.971000</td>\n",
       "    </tr>\n",
       "    <tr>\n",
       "      <th>447</th>\n",
       "      <td>163967.080070</td>\n",
       "    </tr>\n",
       "    <tr>\n",
       "      <th>448</th>\n",
       "      <td>166263.161348</td>\n",
       "    </tr>\n",
       "    <tr>\n",
       "      <th>449</th>\n",
       "      <td>179507.479049</td>\n",
       "    </tr>\n",
       "  </tbody>\n",
       "</table>\n",
       "<p>450 rows × 1 columns</p>\n",
       "</div>"
      ],
      "text/plain": [
       "     Net Sales Value\n",
       "0         326.974801\n",
       "1         330.822058\n",
       "2         466.350839\n",
       "3         485.317265\n",
       "4         496.607104\n",
       "..               ...\n",
       "445    162603.186379\n",
       "446    163915.971000\n",
       "447    163967.080070\n",
       "448    166263.161348\n",
       "449    179507.479049\n",
       "\n",
       "[450 rows x 1 columns]"
      ]
     },
     "execution_count": 50,
     "metadata": {},
     "output_type": "execute_result"
    }
   ],
   "source": [
    "df[['Net Sales Value']].mode()"
   ]
  },
  {
   "cell_type": "code",
   "execution_count": 52,
   "id": "5706c22c",
   "metadata": {},
   "outputs": [
    {
     "data": {
      "text/plain": [
       "Volume                   4.231602\n",
       "Avg Price            18079.904840\n",
       "Total Sales Value    50535.074173\n",
       "Discount Rate (%)        4.220602\n",
       "Discount Amount       4509.902963\n",
       "Net Sales Value      46358.656624\n",
       "dtype: float64"
      ]
     },
     "execution_count": 52,
     "metadata": {},
     "output_type": "execute_result"
    }
   ],
   "source": [
    "df.std()"
   ]
  },
  {
   "cell_type": "code",
   "execution_count": 53,
   "id": "d54038ec",
   "metadata": {},
   "outputs": [
    {
     "data": {
      "text/html": [
       "<div>\n",
       "<style scoped>\n",
       "    .dataframe tbody tr th:only-of-type {\n",
       "        vertical-align: middle;\n",
       "    }\n",
       "\n",
       "    .dataframe tbody tr th {\n",
       "        vertical-align: top;\n",
       "    }\n",
       "\n",
       "    .dataframe thead th {\n",
       "        text-align: right;\n",
       "    }\n",
       "</style>\n",
       "<table border=\"1\" class=\"dataframe\">\n",
       "  <thead>\n",
       "    <tr style=\"text-align: right;\">\n",
       "      <th></th>\n",
       "      <th>Volume</th>\n",
       "      <th>Avg Price</th>\n",
       "      <th>Total Sales Value</th>\n",
       "      <th>Discount Rate (%)</th>\n",
       "      <th>Discount Amount</th>\n",
       "      <th>Net Sales Value</th>\n",
       "    </tr>\n",
       "  </thead>\n",
       "  <tbody>\n",
       "    <tr>\n",
       "      <th>count</th>\n",
       "      <td>450.000000</td>\n",
       "      <td>450.000000</td>\n",
       "      <td>450.000000</td>\n",
       "      <td>450.000000</td>\n",
       "      <td>450.000000</td>\n",
       "      <td>450.000000</td>\n",
       "    </tr>\n",
       "    <tr>\n",
       "      <th>mean</th>\n",
       "      <td>5.066667</td>\n",
       "      <td>10453.433333</td>\n",
       "      <td>33812.835556</td>\n",
       "      <td>15.155242</td>\n",
       "      <td>3346.499424</td>\n",
       "      <td>30466.336131</td>\n",
       "    </tr>\n",
       "    <tr>\n",
       "      <th>std</th>\n",
       "      <td>4.231602</td>\n",
       "      <td>18079.904840</td>\n",
       "      <td>50535.074173</td>\n",
       "      <td>4.220602</td>\n",
       "      <td>4509.902963</td>\n",
       "      <td>46358.656624</td>\n",
       "    </tr>\n",
       "    <tr>\n",
       "      <th>min</th>\n",
       "      <td>1.000000</td>\n",
       "      <td>290.000000</td>\n",
       "      <td>400.000000</td>\n",
       "      <td>5.007822</td>\n",
       "      <td>69.177942</td>\n",
       "      <td>326.974801</td>\n",
       "    </tr>\n",
       "    <tr>\n",
       "      <th>25%</th>\n",
       "      <td>3.000000</td>\n",
       "      <td>465.000000</td>\n",
       "      <td>2700.000000</td>\n",
       "      <td>13.965063</td>\n",
       "      <td>460.459304</td>\n",
       "      <td>2202.208645</td>\n",
       "    </tr>\n",
       "    <tr>\n",
       "      <th>50%</th>\n",
       "      <td>4.000000</td>\n",
       "      <td>1450.000000</td>\n",
       "      <td>5700.000000</td>\n",
       "      <td>16.577766</td>\n",
       "      <td>988.933733</td>\n",
       "      <td>4677.788059</td>\n",
       "    </tr>\n",
       "    <tr>\n",
       "      <th>75%</th>\n",
       "      <td>6.000000</td>\n",
       "      <td>10100.000000</td>\n",
       "      <td>53200.000000</td>\n",
       "      <td>18.114718</td>\n",
       "      <td>5316.495427</td>\n",
       "      <td>47847.912852</td>\n",
       "    </tr>\n",
       "    <tr>\n",
       "      <th>max</th>\n",
       "      <td>31.000000</td>\n",
       "      <td>60100.000000</td>\n",
       "      <td>196400.000000</td>\n",
       "      <td>19.992407</td>\n",
       "      <td>25738.022194</td>\n",
       "      <td>179507.479049</td>\n",
       "    </tr>\n",
       "  </tbody>\n",
       "</table>\n",
       "</div>"
      ],
      "text/plain": [
       "           Volume     Avg Price  Total Sales Value  Discount Rate (%)  \\\n",
       "count  450.000000    450.000000         450.000000         450.000000   \n",
       "mean     5.066667  10453.433333       33812.835556          15.155242   \n",
       "std      4.231602  18079.904840       50535.074173           4.220602   \n",
       "min      1.000000    290.000000         400.000000           5.007822   \n",
       "25%      3.000000    465.000000        2700.000000          13.965063   \n",
       "50%      4.000000   1450.000000        5700.000000          16.577766   \n",
       "75%      6.000000  10100.000000       53200.000000          18.114718   \n",
       "max     31.000000  60100.000000      196400.000000          19.992407   \n",
       "\n",
       "       Discount Amount  Net Sales Value  \n",
       "count       450.000000       450.000000  \n",
       "mean       3346.499424     30466.336131  \n",
       "std        4509.902963     46358.656624  \n",
       "min          69.177942       326.974801  \n",
       "25%         460.459304      2202.208645  \n",
       "50%         988.933733      4677.788059  \n",
       "75%        5316.495427     47847.912852  \n",
       "max       25738.022194    179507.479049  "
      ]
     },
     "execution_count": 53,
     "metadata": {},
     "output_type": "execute_result"
    }
   ],
   "source": [
    "df.describe()"
   ]
  },
  {
   "cell_type": "code",
   "execution_count": 1,
   "id": "182e3276",
   "metadata": {},
   "outputs": [],
   "source": [
    "## brief interpretation of these statistics"
   ]
  },
  {
   "cell_type": "code",
   "execution_count": null,
   "id": "61601143",
   "metadata": {},
   "outputs": [],
   "source": [
    "## except for Discount Rate, all the numerical columns have high mean and standard deviation as compared to median and mode\n",
    "## this means the data is highly skewed and indicate presence of outliers"
   ]
  },
  {
   "cell_type": "markdown",
   "id": "29613f9d",
   "metadata": {},
   "source": [
    "# Data Visualization"
   ]
  },
  {
   "cell_type": "code",
   "execution_count": 124,
   "id": "91e3f545",
   "metadata": {},
   "outputs": [],
   "source": [
    "import numpy as np"
   ]
  },
  {
   "cell_type": "code",
   "execution_count": 125,
   "id": "95f6d0e8",
   "metadata": {},
   "outputs": [],
   "source": [
    "import matplotlib.pyplot as plt\n",
    "import seaborn as sns"
   ]
  },
  {
   "cell_type": "code",
   "execution_count": 58,
   "id": "dc5162da",
   "metadata": {},
   "outputs": [
    {
     "data": {
      "text/plain": [
       "array([[<Axes: title={'center': 'Volume'}>]], dtype=object)"
      ]
     },
     "execution_count": 58,
     "metadata": {},
     "output_type": "execute_result"
    },
    {
     "data": {
      "image/png": "[encoded data removed]",
      "text/plain": [
       "<Figure size 640x480 with 1 Axes>"
      ]
     },
     "metadata": {},
     "output_type": "display_data"
    }
   ],
   "source": [
    "df.hist('Volume')"
   ]
  },
  {
   "cell_type": "code",
   "execution_count": 59,
   "id": "18a7809b",
   "metadata": {},
   "outputs": [
    {
     "data": {
      "text/plain": [
       "array([[<Axes: title={'center': 'Avg Price'}>]], dtype=object)"
      ]
     },
     "execution_count": 59,
     "metadata": {},
     "output_type": "execute_result"
    },
    {
     "data": {
      "image/png": "[encoded data removed]",
      "text/plain": [
       "<Figure size 640x480 with 1 Axes>"
      ]
     },
     "metadata": {},
     "output_type": "display_data"
    }
   ],
   "source": [
    "df.hist('Avg Price',bins=50)"
   ]
  },
  {
   "cell_type": "code",
   "execution_count": 60,
   "id": "6d16feb8",
   "metadata": {},
   "outputs": [
    {
     "data": {
      "text/plain": [
       "array([[<Axes: title={'center': 'Total Sales Value'}>]], dtype=object)"
      ]
     },
     "execution_count": 60,
     "metadata": {},
     "output_type": "execute_result"
    },
    {
     "data": {
      "image/png": "[encoded data removed]",
      "text/plain": [
       "<Figure size 640x480 with 1 Axes>"
      ]
     },
     "metadata": {},
     "output_type": "display_data"
    }
   ],
   "source": [
    "df.hist('Total Sales Value',bins=50,color='red')"
   ]
  },
  {
   "cell_type": "code",
   "execution_count": 61,
   "id": "a5df3d71",
   "metadata": {},
   "outputs": [
    {
     "data": {
      "text/plain": [
       "array([[<Axes: title={'center': 'Discount Rate (%)'}>]], dtype=object)"
      ]
     },
     "execution_count": 61,
     "metadata": {},
     "output_type": "execute_result"
    },
    {
     "data": {
      "image/png": "[encoded data removed]",
      "text/plain": [
       "<Figure size 640x480 with 1 Axes>"
      ]
     },
     "metadata": {},
     "output_type": "display_data"
    }
   ],
   "source": [
    "df.hist('Discount Rate (%)',bins=50,color='green')"
   ]
  },
  {
   "cell_type": "code",
   "execution_count": 63,
   "id": "13cf6b61",
   "metadata": {},
   "outputs": [
    {
     "data": {
      "text/plain": [
       "array([[<Axes: title={'center': 'Discount Amount'}>]], dtype=object)"
      ]
     },
     "execution_count": 63,
     "metadata": {},
     "output_type": "execute_result"
    },
    {
     "data": {
      "image/png": "[encoded data removed]",
      "text/plain": [
       "<Figure size 640x480 with 1 Axes>"
      ]
     },
     "metadata": {},
     "output_type": "display_data"
    }
   ],
   "source": [
    "df.hist('Discount Amount',bins=50,color='brown')"
   ]
  },
  {
   "cell_type": "code",
   "execution_count": 64,
   "id": "186434d3",
   "metadata": {},
   "outputs": [
    {
     "data": {
      "text/plain": [
       "array([[<Axes: title={'center': 'Net Sales Value'}>]], dtype=object)"
      ]
     },
     "execution_count": 64,
     "metadata": {},
     "output_type": "execute_result"
    },
    {
     "data": {
      "image/png": "[encoded data removed]",
      "text/plain": [
       "<Figure size 640x480 with 1 Axes>"
      ]
     },
     "metadata": {},
     "output_type": "display_data"
    }
   ],
   "source": [
    "df.hist('Net Sales Value',bins=50)"
   ]
  },
  {
   "cell_type": "code",
   "execution_count": 67,
   "id": "1b3e54d9",
   "metadata": {},
   "outputs": [
    {
     "data": {
      "text/plain": [
       "Volume               2.731724\n",
       "Avg Price            1.908873\n",
       "Total Sales Value    1.534729\n",
       "Discount Rate (%)   -1.062294\n",
       "Discount Amount      1.913038\n",
       "Net Sales Value      1.540822\n",
       "dtype: float64"
      ]
     },
     "execution_count": 67,
     "metadata": {},
     "output_type": "execute_result"
    }
   ],
   "source": [
    "df.skew()"
   ]
  },
  {
   "cell_type": "code",
   "execution_count": 68,
   "id": "4ad96a30",
   "metadata": {},
   "outputs": [],
   "source": [
    "## Interpretation - all the columns except Discount Rate (%) shows a strong positive skewness\n",
    "## This implies that most of the data points are concentrated on the left side hence the data skewed towards right\n",
    "## Typically mean is greater than median and tail on the right side is longer and may contain outliers\n",
    "## Discount Rate (%) shows negative skewness means data pints are concentrated on the left side\n",
    "## mean is less than median and the tail on the left side may contain outliers"
   ]
  },
  {
   "cell_type": "code",
   "execution_count": 71,
   "id": "60efe659",
   "metadata": {},
   "outputs": [
    {
     "data": {
      "text/plain": [
       "<Axes: >"
      ]
     },
     "execution_count": 71,
     "metadata": {},
     "output_type": "execute_result"
    },
    {
     "data": {
      "image/png": "[encoded data removed]",
      "text/plain": [
       "<Figure size 640x480 with 1 Axes>"
      ]
     },
     "metadata": {},
     "output_type": "display_data"
    }
   ],
   "source": [
    "df.boxplot('Volume')"
   ]
  },
  {
   "cell_type": "code",
   "execution_count": 72,
   "id": "97d1b796",
   "metadata": {},
   "outputs": [],
   "source": [
    "## boxplot shows presence of outliers in the Volume column of the data"
   ]
  },
  {
   "cell_type": "code",
   "execution_count": 73,
   "id": "805ee37e",
   "metadata": {},
   "outputs": [],
   "source": [
    "## finding the outlier and interpretation"
   ]
  },
  {
   "cell_type": "code",
   "execution_count": 80,
   "id": "ee667ce0",
   "metadata": {},
   "outputs": [
    {
     "data": {
      "text/plain": [
       "3.0"
      ]
     },
     "execution_count": 80,
     "metadata": {},
     "output_type": "execute_result"
    }
   ],
   "source": [
    "Q1_volume=df['Volume'].quantile(0.25)\n",
    "Q1_volume"
   ]
  },
  {
   "cell_type": "code",
   "execution_count": 81,
   "id": "c508fca1",
   "metadata": {},
   "outputs": [
    {
     "data": {
      "text/plain": [
       "6.0"
      ]
     },
     "execution_count": 81,
     "metadata": {},
     "output_type": "execute_result"
    }
   ],
   "source": [
    "Q3_volume=df['Volume'].quantile(0.75)\n",
    "Q3_volume"
   ]
  },
  {
   "cell_type": "code",
   "execution_count": 82,
   "id": "00c7b1c0",
   "metadata": {},
   "outputs": [
    {
     "data": {
      "text/plain": [
       "3.0"
      ]
     },
     "execution_count": 82,
     "metadata": {},
     "output_type": "execute_result"
    }
   ],
   "source": [
    "IQR_volume=Q3_volume-Q1_volume\n",
    "IQR_volume"
   ]
  },
  {
   "cell_type": "code",
   "execution_count": 83,
   "id": "3d753f95",
   "metadata": {},
   "outputs": [
    {
     "data": {
      "text/plain": [
       "-1.5"
      ]
     },
     "execution_count": 83,
     "metadata": {},
     "output_type": "execute_result"
    }
   ],
   "source": [
    "Lower_Extreme_volume=Q1_volume-1.5*IQR_volume\n",
    "Lower_Extreme_volume"
   ]
  },
  {
   "cell_type": "code",
   "execution_count": 84,
   "id": "7396dd8e",
   "metadata": {},
   "outputs": [
    {
     "data": {
      "text/plain": [
       "10.5"
      ]
     },
     "execution_count": 84,
     "metadata": {},
     "output_type": "execute_result"
    }
   ],
   "source": [
    "Upper_Extreme_volume=Q3_volume+1.5*IQR_volume\n",
    "Upper_Extreme_volume"
   ]
  },
  {
   "cell_type": "code",
   "execution_count": 85,
   "id": "04f01e85",
   "metadata": {},
   "outputs": [
    {
     "data": {
      "text/html": [
       "<div>\n",
       "<style scoped>\n",
       "    .dataframe tbody tr th:only-of-type {\n",
       "        vertical-align: middle;\n",
       "    }\n",
       "\n",
       "    .dataframe tbody tr th {\n",
       "        vertical-align: top;\n",
       "    }\n",
       "\n",
       "    .dataframe thead th {\n",
       "        text-align: right;\n",
       "    }\n",
       "</style>\n",
       "<table border=\"1\" class=\"dataframe\">\n",
       "  <thead>\n",
       "    <tr style=\"text-align: right;\">\n",
       "      <th></th>\n",
       "      <th>Volume</th>\n",
       "      <th>Avg Price</th>\n",
       "      <th>Total Sales Value</th>\n",
       "      <th>Discount Rate (%)</th>\n",
       "      <th>Discount Amount</th>\n",
       "      <th>Net Sales Value</th>\n",
       "    </tr>\n",
       "  </thead>\n",
       "  <tbody>\n",
       "    <tr>\n",
       "      <th>0</th>\n",
       "      <td>15</td>\n",
       "      <td>12100</td>\n",
       "      <td>181500</td>\n",
       "      <td>11.654820</td>\n",
       "      <td>21153.498820</td>\n",
       "      <td>160346.501180</td>\n",
       "    </tr>\n",
       "    <tr>\n",
       "      <th>10</th>\n",
       "      <td>13</td>\n",
       "      <td>400</td>\n",
       "      <td>5200</td>\n",
       "      <td>18.869242</td>\n",
       "      <td>981.200566</td>\n",
       "      <td>4218.799434</td>\n",
       "    </tr>\n",
       "    <tr>\n",
       "      <th>30</th>\n",
       "      <td>11</td>\n",
       "      <td>12100</td>\n",
       "      <td>133100</td>\n",
       "      <td>13.107140</td>\n",
       "      <td>17445.603828</td>\n",
       "      <td>115654.396172</td>\n",
       "    </tr>\n",
       "    <tr>\n",
       "      <th>40</th>\n",
       "      <td>29</td>\n",
       "      <td>400</td>\n",
       "      <td>11600</td>\n",
       "      <td>19.688074</td>\n",
       "      <td>2283.816576</td>\n",
       "      <td>9316.183424</td>\n",
       "    </tr>\n",
       "    <tr>\n",
       "      <th>50</th>\n",
       "      <td>13</td>\n",
       "      <td>450</td>\n",
       "      <td>5850</td>\n",
       "      <td>17.683466</td>\n",
       "      <td>1034.482784</td>\n",
       "      <td>4815.517216</td>\n",
       "    </tr>\n",
       "    <tr>\n",
       "      <th>70</th>\n",
       "      <td>24</td>\n",
       "      <td>400</td>\n",
       "      <td>9600</td>\n",
       "      <td>17.050297</td>\n",
       "      <td>1636.828489</td>\n",
       "      <td>7963.171511</td>\n",
       "    </tr>\n",
       "    <tr>\n",
       "      <th>71</th>\n",
       "      <td>14</td>\n",
       "      <td>300</td>\n",
       "      <td>4200</td>\n",
       "      <td>16.988645</td>\n",
       "      <td>713.523101</td>\n",
       "      <td>3486.476899</td>\n",
       "    </tr>\n",
       "    <tr>\n",
       "      <th>80</th>\n",
       "      <td>12</td>\n",
       "      <td>450</td>\n",
       "      <td>5400</td>\n",
       "      <td>19.189871</td>\n",
       "      <td>1036.253018</td>\n",
       "      <td>4363.746982</td>\n",
       "    </tr>\n",
       "    <tr>\n",
       "      <th>100</th>\n",
       "      <td>25</td>\n",
       "      <td>400</td>\n",
       "      <td>10000</td>\n",
       "      <td>17.932275</td>\n",
       "      <td>1793.227484</td>\n",
       "      <td>8206.772516</td>\n",
       "    </tr>\n",
       "    <tr>\n",
       "      <th>101</th>\n",
       "      <td>15</td>\n",
       "      <td>300</td>\n",
       "      <td>4500</td>\n",
       "      <td>17.216944</td>\n",
       "      <td>774.762458</td>\n",
       "      <td>3725.237542</td>\n",
       "    </tr>\n",
       "    <tr>\n",
       "      <th>102</th>\n",
       "      <td>11</td>\n",
       "      <td>390</td>\n",
       "      <td>4290</td>\n",
       "      <td>16.530116</td>\n",
       "      <td>709.141968</td>\n",
       "      <td>3580.858032</td>\n",
       "    </tr>\n",
       "    <tr>\n",
       "      <th>130</th>\n",
       "      <td>15</td>\n",
       "      <td>400</td>\n",
       "      <td>6000</td>\n",
       "      <td>17.712694</td>\n",
       "      <td>1062.761662</td>\n",
       "      <td>4937.238338</td>\n",
       "    </tr>\n",
       "    <tr>\n",
       "      <th>140</th>\n",
       "      <td>14</td>\n",
       "      <td>450</td>\n",
       "      <td>6300</td>\n",
       "      <td>17.194704</td>\n",
       "      <td>1083.266375</td>\n",
       "      <td>5216.733625</td>\n",
       "    </tr>\n",
       "    <tr>\n",
       "      <th>161</th>\n",
       "      <td>12</td>\n",
       "      <td>300</td>\n",
       "      <td>3600</td>\n",
       "      <td>16.297070</td>\n",
       "      <td>586.694505</td>\n",
       "      <td>3013.305495</td>\n",
       "    </tr>\n",
       "    <tr>\n",
       "      <th>170</th>\n",
       "      <td>12</td>\n",
       "      <td>450</td>\n",
       "      <td>5400</td>\n",
       "      <td>16.425246</td>\n",
       "      <td>886.963270</td>\n",
       "      <td>4513.036730</td>\n",
       "    </tr>\n",
       "    <tr>\n",
       "      <th>180</th>\n",
       "      <td>12</td>\n",
       "      <td>12100</td>\n",
       "      <td>145200</td>\n",
       "      <td>11.830807</td>\n",
       "      <td>17178.331859</td>\n",
       "      <td>128021.668141</td>\n",
       "    </tr>\n",
       "    <tr>\n",
       "      <th>190</th>\n",
       "      <td>22</td>\n",
       "      <td>400</td>\n",
       "      <td>8800</td>\n",
       "      <td>18.182749</td>\n",
       "      <td>1600.081938</td>\n",
       "      <td>7199.918062</td>\n",
       "    </tr>\n",
       "    <tr>\n",
       "      <th>192</th>\n",
       "      <td>11</td>\n",
       "      <td>390</td>\n",
       "      <td>4290</td>\n",
       "      <td>18.922545</td>\n",
       "      <td>811.777194</td>\n",
       "      <td>3478.222806</td>\n",
       "    </tr>\n",
       "    <tr>\n",
       "      <th>193</th>\n",
       "      <td>11</td>\n",
       "      <td>465</td>\n",
       "      <td>5115</td>\n",
       "      <td>19.281035</td>\n",
       "      <td>986.224922</td>\n",
       "      <td>4128.775078</td>\n",
       "    </tr>\n",
       "    <tr>\n",
       "      <th>200</th>\n",
       "      <td>12</td>\n",
       "      <td>450</td>\n",
       "      <td>5400</td>\n",
       "      <td>19.712828</td>\n",
       "      <td>1064.492701</td>\n",
       "      <td>4335.507299</td>\n",
       "    </tr>\n",
       "    <tr>\n",
       "      <th>201</th>\n",
       "      <td>12</td>\n",
       "      <td>500</td>\n",
       "      <td>6000</td>\n",
       "      <td>17.641355</td>\n",
       "      <td>1058.481301</td>\n",
       "      <td>4941.518699</td>\n",
       "    </tr>\n",
       "    <tr>\n",
       "      <th>210</th>\n",
       "      <td>14</td>\n",
       "      <td>12100</td>\n",
       "      <td>169400</td>\n",
       "      <td>14.951726</td>\n",
       "      <td>25328.224204</td>\n",
       "      <td>144071.775796</td>\n",
       "    </tr>\n",
       "    <tr>\n",
       "      <th>221</th>\n",
       "      <td>11</td>\n",
       "      <td>300</td>\n",
       "      <td>3300</td>\n",
       "      <td>18.238804</td>\n",
       "      <td>601.880526</td>\n",
       "      <td>2698.119474</td>\n",
       "    </tr>\n",
       "    <tr>\n",
       "      <th>222</th>\n",
       "      <td>11</td>\n",
       "      <td>390</td>\n",
       "      <td>4290</td>\n",
       "      <td>19.290096</td>\n",
       "      <td>827.545139</td>\n",
       "      <td>3462.454861</td>\n",
       "    </tr>\n",
       "    <tr>\n",
       "      <th>240</th>\n",
       "      <td>15</td>\n",
       "      <td>12100</td>\n",
       "      <td>181500</td>\n",
       "      <td>14.180728</td>\n",
       "      <td>25738.022194</td>\n",
       "      <td>155761.977806</td>\n",
       "    </tr>\n",
       "    <tr>\n",
       "      <th>250</th>\n",
       "      <td>31</td>\n",
       "      <td>400</td>\n",
       "      <td>12400</td>\n",
       "      <td>17.383934</td>\n",
       "      <td>2155.607868</td>\n",
       "      <td>10244.392132</td>\n",
       "    </tr>\n",
       "    <tr>\n",
       "      <th>251</th>\n",
       "      <td>12</td>\n",
       "      <td>300</td>\n",
       "      <td>3600</td>\n",
       "      <td>18.196072</td>\n",
       "      <td>655.058578</td>\n",
       "      <td>2944.941422</td>\n",
       "    </tr>\n",
       "    <tr>\n",
       "      <th>260</th>\n",
       "      <td>16</td>\n",
       "      <td>450</td>\n",
       "      <td>7200</td>\n",
       "      <td>19.140817</td>\n",
       "      <td>1378.138849</td>\n",
       "      <td>5821.861151</td>\n",
       "    </tr>\n",
       "    <tr>\n",
       "      <th>280</th>\n",
       "      <td>24</td>\n",
       "      <td>400</td>\n",
       "      <td>9600</td>\n",
       "      <td>19.358681</td>\n",
       "      <td>1858.433334</td>\n",
       "      <td>7741.566666</td>\n",
       "    </tr>\n",
       "    <tr>\n",
       "      <th>281</th>\n",
       "      <td>11</td>\n",
       "      <td>300</td>\n",
       "      <td>3300</td>\n",
       "      <td>16.989392</td>\n",
       "      <td>560.649939</td>\n",
       "      <td>2739.350061</td>\n",
       "    </tr>\n",
       "    <tr>\n",
       "      <th>282</th>\n",
       "      <td>12</td>\n",
       "      <td>390</td>\n",
       "      <td>4680</td>\n",
       "      <td>17.486581</td>\n",
       "      <td>818.372014</td>\n",
       "      <td>3861.627986</td>\n",
       "    </tr>\n",
       "    <tr>\n",
       "      <th>300</th>\n",
       "      <td>12</td>\n",
       "      <td>12100</td>\n",
       "      <td>145200</td>\n",
       "      <td>14.804873</td>\n",
       "      <td>21496.675367</td>\n",
       "      <td>123703.324633</td>\n",
       "    </tr>\n",
       "    <tr>\n",
       "      <th>310</th>\n",
       "      <td>22</td>\n",
       "      <td>400</td>\n",
       "      <td>8800</td>\n",
       "      <td>18.188508</td>\n",
       "      <td>1600.588711</td>\n",
       "      <td>7199.411289</td>\n",
       "    </tr>\n",
       "    <tr>\n",
       "      <th>312</th>\n",
       "      <td>11</td>\n",
       "      <td>390</td>\n",
       "      <td>4290</td>\n",
       "      <td>16.385585</td>\n",
       "      <td>702.941600</td>\n",
       "      <td>3587.058400</td>\n",
       "    </tr>\n",
       "    <tr>\n",
       "      <th>320</th>\n",
       "      <td>13</td>\n",
       "      <td>450</td>\n",
       "      <td>5850</td>\n",
       "      <td>15.184209</td>\n",
       "      <td>888.276213</td>\n",
       "      <td>4961.723787</td>\n",
       "    </tr>\n",
       "    <tr>\n",
       "      <th>340</th>\n",
       "      <td>15</td>\n",
       "      <td>400</td>\n",
       "      <td>6000</td>\n",
       "      <td>17.944984</td>\n",
       "      <td>1076.699017</td>\n",
       "      <td>4923.300983</td>\n",
       "    </tr>\n",
       "    <tr>\n",
       "      <th>350</th>\n",
       "      <td>12</td>\n",
       "      <td>450</td>\n",
       "      <td>5400</td>\n",
       "      <td>18.866665</td>\n",
       "      <td>1018.799918</td>\n",
       "      <td>4381.200082</td>\n",
       "    </tr>\n",
       "    <tr>\n",
       "      <th>370</th>\n",
       "      <td>14</td>\n",
       "      <td>400</td>\n",
       "      <td>5600</td>\n",
       "      <td>15.777250</td>\n",
       "      <td>883.525992</td>\n",
       "      <td>4716.474008</td>\n",
       "    </tr>\n",
       "    <tr>\n",
       "      <th>371</th>\n",
       "      <td>14</td>\n",
       "      <td>300</td>\n",
       "      <td>4200</td>\n",
       "      <td>15.229304</td>\n",
       "      <td>639.630787</td>\n",
       "      <td>3560.369213</td>\n",
       "    </tr>\n",
       "    <tr>\n",
       "      <th>390</th>\n",
       "      <td>11</td>\n",
       "      <td>12100</td>\n",
       "      <td>133100</td>\n",
       "      <td>12.185270</td>\n",
       "      <td>16218.594720</td>\n",
       "      <td>116881.405280</td>\n",
       "    </tr>\n",
       "    <tr>\n",
       "      <th>400</th>\n",
       "      <td>29</td>\n",
       "      <td>400</td>\n",
       "      <td>11600</td>\n",
       "      <td>15.042477</td>\n",
       "      <td>1744.927347</td>\n",
       "      <td>9855.072653</td>\n",
       "    </tr>\n",
       "    <tr>\n",
       "      <th>410</th>\n",
       "      <td>15</td>\n",
       "      <td>450</td>\n",
       "      <td>6750</td>\n",
       "      <td>15.306007</td>\n",
       "      <td>1033.155453</td>\n",
       "      <td>5716.844547</td>\n",
       "    </tr>\n",
       "    <tr>\n",
       "      <th>420</th>\n",
       "      <td>13</td>\n",
       "      <td>12100</td>\n",
       "      <td>157300</td>\n",
       "      <td>10.161940</td>\n",
       "      <td>15984.732281</td>\n",
       "      <td>141315.267719</td>\n",
       "    </tr>\n",
       "    <tr>\n",
       "      <th>431</th>\n",
       "      <td>17</td>\n",
       "      <td>300</td>\n",
       "      <td>5100</td>\n",
       "      <td>19.965340</td>\n",
       "      <td>1018.232342</td>\n",
       "      <td>4081.767658</td>\n",
       "    </tr>\n",
       "  </tbody>\n",
       "</table>\n",
       "</div>"
      ],
      "text/plain": [
       "     Volume  Avg Price  Total Sales Value  Discount Rate (%)  Discount Amount  \\\n",
       "0        15      12100             181500          11.654820     21153.498820   \n",
       "10       13        400               5200          18.869242       981.200566   \n",
       "30       11      12100             133100          13.107140     17445.603828   \n",
       "40       29        400              11600          19.688074      2283.816576   \n",
       "50       13        450               5850          17.683466      1034.482784   \n",
       "70       24        400               9600          17.050297      1636.828489   \n",
       "71       14        300               4200          16.988645       713.523101   \n",
       "80       12        450               5400          19.189871      1036.253018   \n",
       "100      25        400              10000          17.932275      1793.227484   \n",
       "101      15        300               4500          17.216944       774.762458   \n",
       "102      11        390               4290          16.530116       709.141968   \n",
       "130      15        400               6000          17.712694      1062.761662   \n",
       "140      14        450               6300          17.194704      1083.266375   \n",
       "161      12        300               3600          16.297070       586.694505   \n",
       "170      12        450               5400          16.425246       886.963270   \n",
       "180      12      12100             145200          11.830807     17178.331859   \n",
       "190      22        400               8800          18.182749      1600.081938   \n",
       "192      11        390               4290          18.922545       811.777194   \n",
       "193      11        465               5115          19.281035       986.224922   \n",
       "200      12        450               5400          19.712828      1064.492701   \n",
       "201      12        500               6000          17.641355      1058.481301   \n",
       "210      14      12100             169400          14.951726     25328.224204   \n",
       "221      11        300               3300          18.238804       601.880526   \n",
       "222      11        390               4290          19.290096       827.545139   \n",
       "240      15      12100             181500          14.180728     25738.022194   \n",
       "250      31        400              12400          17.383934      2155.607868   \n",
       "251      12        300               3600          18.196072       655.058578   \n",
       "260      16        450               7200          19.140817      1378.138849   \n",
       "280      24        400               9600          19.358681      1858.433334   \n",
       "281      11        300               3300          16.989392       560.649939   \n",
       "282      12        390               4680          17.486581       818.372014   \n",
       "300      12      12100             145200          14.804873     21496.675367   \n",
       "310      22        400               8800          18.188508      1600.588711   \n",
       "312      11        390               4290          16.385585       702.941600   \n",
       "320      13        450               5850          15.184209       888.276213   \n",
       "340      15        400               6000          17.944984      1076.699017   \n",
       "350      12        450               5400          18.866665      1018.799918   \n",
       "370      14        400               5600          15.777250       883.525992   \n",
       "371      14        300               4200          15.229304       639.630787   \n",
       "390      11      12100             133100          12.185270     16218.594720   \n",
       "400      29        400              11600          15.042477      1744.927347   \n",
       "410      15        450               6750          15.306007      1033.155453   \n",
       "420      13      12100             157300          10.161940     15984.732281   \n",
       "431      17        300               5100          19.965340      1018.232342   \n",
       "\n",
       "     Net Sales Value  \n",
       "0      160346.501180  \n",
       "10       4218.799434  \n",
       "30     115654.396172  \n",
       "40       9316.183424  \n",
       "50       4815.517216  \n",
       "70       7963.171511  \n",
       "71       3486.476899  \n",
       "80       4363.746982  \n",
       "100      8206.772516  \n",
       "101      3725.237542  \n",
       "102      3580.858032  \n",
       "130      4937.238338  \n",
       "140      5216.733625  \n",
       "161      3013.305495  \n",
       "170      4513.036730  \n",
       "180    128021.668141  \n",
       "190      7199.918062  \n",
       "192      3478.222806  \n",
       "193      4128.775078  \n",
       "200      4335.507299  \n",
       "201      4941.518699  \n",
       "210    144071.775796  \n",
       "221      2698.119474  \n",
       "222      3462.454861  \n",
       "240    155761.977806  \n",
       "250     10244.392132  \n",
       "251      2944.941422  \n",
       "260      5821.861151  \n",
       "280      7741.566666  \n",
       "281      2739.350061  \n",
       "282      3861.627986  \n",
       "300    123703.324633  \n",
       "310      7199.411289  \n",
       "312      3587.058400  \n",
       "320      4961.723787  \n",
       "340      4923.300983  \n",
       "350      4381.200082  \n",
       "370      4716.474008  \n",
       "371      3560.369213  \n",
       "390    116881.405280  \n",
       "400      9855.072653  \n",
       "410      5716.844547  \n",
       "420    141315.267719  \n",
       "431      4081.767658  "
      ]
     },
     "execution_count": 85,
     "metadata": {},
     "output_type": "execute_result"
    }
   ],
   "source": [
    "df_outlier_volume=df[(df['Volume']<Lower_Extreme_volume)|(df['Volume']>Upper_Extreme_volume)]\n",
    "df_outlier_volume"
   ]
  },
  {
   "cell_type": "code",
   "execution_count": 86,
   "id": "6ad020a3",
   "metadata": {},
   "outputs": [],
   "source": [
    "## All the rows having volume less than -1.5 or more than 10.5 are outliers"
   ]
  },
  {
   "cell_type": "code",
   "execution_count": 88,
   "id": "96593f5a",
   "metadata": {},
   "outputs": [
    {
     "data": {
      "text/html": [
       "<div>\n",
       "<style scoped>\n",
       "    .dataframe tbody tr th:only-of-type {\n",
       "        vertical-align: middle;\n",
       "    }\n",
       "\n",
       "    .dataframe tbody tr th {\n",
       "        vertical-align: top;\n",
       "    }\n",
       "\n",
       "    .dataframe thead th {\n",
       "        text-align: right;\n",
       "    }\n",
       "</style>\n",
       "<table border=\"1\" class=\"dataframe\">\n",
       "  <thead>\n",
       "    <tr style=\"text-align: right;\">\n",
       "      <th></th>\n",
       "      <th>Volume</th>\n",
       "      <th>Avg Price</th>\n",
       "      <th>Total Sales Value</th>\n",
       "      <th>Discount Rate (%)</th>\n",
       "      <th>Discount Amount</th>\n",
       "      <th>Net Sales Value</th>\n",
       "    </tr>\n",
       "  </thead>\n",
       "  <tbody>\n",
       "    <tr>\n",
       "      <th>0</th>\n",
       "      <td>15</td>\n",
       "      <td>12100</td>\n",
       "      <td>181500</td>\n",
       "      <td>11.654820</td>\n",
       "      <td>21153.498820</td>\n",
       "      <td>160346.501180</td>\n",
       "    </tr>\n",
       "    <tr>\n",
       "      <th>1</th>\n",
       "      <td>10</td>\n",
       "      <td>10100</td>\n",
       "      <td>101000</td>\n",
       "      <td>11.560498</td>\n",
       "      <td>11676.102961</td>\n",
       "      <td>89323.897039</td>\n",
       "    </tr>\n",
       "    <tr>\n",
       "      <th>2</th>\n",
       "      <td>7</td>\n",
       "      <td>16100</td>\n",
       "      <td>112700</td>\n",
       "      <td>9.456886</td>\n",
       "      <td>10657.910157</td>\n",
       "      <td>102042.089843</td>\n",
       "    </tr>\n",
       "    <tr>\n",
       "      <th>3</th>\n",
       "      <td>6</td>\n",
       "      <td>20100</td>\n",
       "      <td>120600</td>\n",
       "      <td>6.935385</td>\n",
       "      <td>8364.074702</td>\n",
       "      <td>112235.925298</td>\n",
       "    </tr>\n",
       "    <tr>\n",
       "      <th>4</th>\n",
       "      <td>3</td>\n",
       "      <td>8100</td>\n",
       "      <td>24300</td>\n",
       "      <td>17.995663</td>\n",
       "      <td>4372.946230</td>\n",
       "      <td>19927.053770</td>\n",
       "    </tr>\n",
       "    <tr>\n",
       "      <th>...</th>\n",
       "      <td>...</td>\n",
       "      <td>...</td>\n",
       "      <td>...</td>\n",
       "      <td>...</td>\n",
       "      <td>...</td>\n",
       "      <td>...</td>\n",
       "    </tr>\n",
       "    <tr>\n",
       "      <th>445</th>\n",
       "      <td>2</td>\n",
       "      <td>1300</td>\n",
       "      <td>2600</td>\n",
       "      <td>15.475687</td>\n",
       "      <td>402.367873</td>\n",
       "      <td>2197.632127</td>\n",
       "    </tr>\n",
       "    <tr>\n",
       "      <th>446</th>\n",
       "      <td>6</td>\n",
       "      <td>2600</td>\n",
       "      <td>15600</td>\n",
       "      <td>17.057027</td>\n",
       "      <td>2660.896242</td>\n",
       "      <td>12939.103758</td>\n",
       "    </tr>\n",
       "    <tr>\n",
       "      <th>447</th>\n",
       "      <td>2</td>\n",
       "      <td>1600</td>\n",
       "      <td>3200</td>\n",
       "      <td>18.965550</td>\n",
       "      <td>606.897606</td>\n",
       "      <td>2593.102394</td>\n",
       "    </tr>\n",
       "    <tr>\n",
       "      <th>448</th>\n",
       "      <td>3</td>\n",
       "      <td>1900</td>\n",
       "      <td>5700</td>\n",
       "      <td>16.793014</td>\n",
       "      <td>957.201826</td>\n",
       "      <td>4742.798174</td>\n",
       "    </tr>\n",
       "    <tr>\n",
       "      <th>449</th>\n",
       "      <td>1</td>\n",
       "      <td>3100</td>\n",
       "      <td>3100</td>\n",
       "      <td>15.333300</td>\n",
       "      <td>475.332295</td>\n",
       "      <td>2624.667705</td>\n",
       "    </tr>\n",
       "  </tbody>\n",
       "</table>\n",
       "<p>450 rows × 6 columns</p>\n",
       "</div>"
      ],
      "text/plain": [
       "     Volume  Avg Price  Total Sales Value  Discount Rate (%)  Discount Amount  \\\n",
       "0        15      12100             181500          11.654820     21153.498820   \n",
       "1        10      10100             101000          11.560498     11676.102961   \n",
       "2         7      16100             112700           9.456886     10657.910157   \n",
       "3         6      20100             120600           6.935385      8364.074702   \n",
       "4         3       8100              24300          17.995663      4372.946230   \n",
       "..      ...        ...                ...                ...              ...   \n",
       "445       2       1300               2600          15.475687       402.367873   \n",
       "446       6       2600              15600          17.057027      2660.896242   \n",
       "447       2       1600               3200          18.965550       606.897606   \n",
       "448       3       1900               5700          16.793014       957.201826   \n",
       "449       1       3100               3100          15.333300       475.332295   \n",
       "\n",
       "     Net Sales Value  \n",
       "0      160346.501180  \n",
       "1       89323.897039  \n",
       "2      102042.089843  \n",
       "3      112235.925298  \n",
       "4       19927.053770  \n",
       "..               ...  \n",
       "445      2197.632127  \n",
       "446     12939.103758  \n",
       "447      2593.102394  \n",
       "448      4742.798174  \n",
       "449      2624.667705  \n",
       "\n",
       "[450 rows x 6 columns]"
      ]
     },
     "execution_count": 88,
     "metadata": {},
     "output_type": "execute_result"
    }
   ],
   "source": [
    "df"
   ]
  },
  {
   "cell_type": "code",
   "execution_count": 91,
   "id": "faee3bd9",
   "metadata": {},
   "outputs": [
    {
     "data": {
      "image/png": "[encoded data removed]",
      "text/plain": [
       "<Figure size 1000x1000 with 1 Axes>"
      ]
     },
     "metadata": {},
     "output_type": "display_data"
    }
   ],
   "source": [
    "for i in data_numerical:\n",
    "    df.boxplot(column=data_numerical,figsize=(10,10))\n",
    "plt.show()"
   ]
  },
  {
   "cell_type": "code",
   "execution_count": 92,
   "id": "07f5594b",
   "metadata": {},
   "outputs": [
    {
     "data": {
      "text/plain": [
       "<Axes: >"
      ]
     },
     "execution_count": 92,
     "metadata": {},
     "output_type": "execute_result"
    },
    {
     "data": {
      "image/png": "[encoded data removed]",
      "text/plain": [
       "<Figure size 640x480 with 1 Axes>"
      ]
     },
     "metadata": {},
     "output_type": "display_data"
    }
   ],
   "source": [
    "df.boxplot('Avg Price')"
   ]
  },
  {
   "cell_type": "code",
   "execution_count": 93,
   "id": "24788030",
   "metadata": {},
   "outputs": [
    {
     "data": {
      "text/plain": [
       "465.0"
      ]
     },
     "execution_count": 93,
     "metadata": {},
     "output_type": "execute_result"
    }
   ],
   "source": [
    "Q1=df['Avg Price'].quantile(0.25)\n",
    "Q1"
   ]
  },
  {
   "cell_type": "code",
   "execution_count": 94,
   "id": "85d5dda2",
   "metadata": {},
   "outputs": [
    {
     "data": {
      "text/plain": [
       "10100.0"
      ]
     },
     "execution_count": 94,
     "metadata": {},
     "output_type": "execute_result"
    }
   ],
   "source": [
    "Q3=df['Avg Price'].quantile(0.75)\n",
    "Q3"
   ]
  },
  {
   "cell_type": "code",
   "execution_count": 95,
   "id": "0419817a",
   "metadata": {},
   "outputs": [
    {
     "data": {
      "text/plain": [
       "9635.0"
      ]
     },
     "execution_count": 95,
     "metadata": {},
     "output_type": "execute_result"
    }
   ],
   "source": [
    "IQR=Q3-Q1\n",
    "IQR"
   ]
  },
  {
   "cell_type": "code",
   "execution_count": 96,
   "id": "5b7236f4",
   "metadata": {},
   "outputs": [
    {
     "data": {
      "text/plain": [
       "-13987.5"
      ]
     },
     "execution_count": 96,
     "metadata": {},
     "output_type": "execute_result"
    }
   ],
   "source": [
    "Lower_Extreme=Q1-1.5*IQR\n",
    "Lower_Extreme"
   ]
  },
  {
   "cell_type": "code",
   "execution_count": 97,
   "id": "5d5766d8",
   "metadata": {},
   "outputs": [
    {
     "data": {
      "text/plain": [
       "24552.5"
      ]
     },
     "execution_count": 97,
     "metadata": {},
     "output_type": "execute_result"
    }
   ],
   "source": [
    "Upper_Extreme=Q3+1.5*IQR\n",
    "Upper_Extreme"
   ]
  },
  {
   "cell_type": "code",
   "execution_count": 98,
   "id": "c4500aac",
   "metadata": {},
   "outputs": [
    {
     "data": {
      "text/html": [
       "<div>\n",
       "<style scoped>\n",
       "    .dataframe tbody tr th:only-of-type {\n",
       "        vertical-align: middle;\n",
       "    }\n",
       "\n",
       "    .dataframe tbody tr th {\n",
       "        vertical-align: top;\n",
       "    }\n",
       "\n",
       "    .dataframe thead th {\n",
       "        text-align: right;\n",
       "    }\n",
       "</style>\n",
       "<table border=\"1\" class=\"dataframe\">\n",
       "  <thead>\n",
       "    <tr style=\"text-align: right;\">\n",
       "      <th></th>\n",
       "      <th>Volume</th>\n",
       "      <th>Avg Price</th>\n",
       "      <th>Total Sales Value</th>\n",
       "      <th>Discount Rate (%)</th>\n",
       "      <th>Discount Amount</th>\n",
       "      <th>Net Sales Value</th>\n",
       "    </tr>\n",
       "  </thead>\n",
       "  <tbody>\n",
       "    <tr>\n",
       "      <th>6</th>\n",
       "      <td>3</td>\n",
       "      <td>49100</td>\n",
       "      <td>147300</td>\n",
       "      <td>9.228812</td>\n",
       "      <td>13594.039719</td>\n",
       "      <td>133705.960281</td>\n",
       "    </tr>\n",
       "    <tr>\n",
       "      <th>7</th>\n",
       "      <td>2</td>\n",
       "      <td>54100</td>\n",
       "      <td>108200</td>\n",
       "      <td>5.553719</td>\n",
       "      <td>6009.124321</td>\n",
       "      <td>102190.875679</td>\n",
       "    </tr>\n",
       "    <tr>\n",
       "      <th>8</th>\n",
       "      <td>2</td>\n",
       "      <td>55100</td>\n",
       "      <td>110200</td>\n",
       "      <td>7.410104</td>\n",
       "      <td>8165.935144</td>\n",
       "      <td>102034.064856</td>\n",
       "    </tr>\n",
       "    <tr>\n",
       "      <th>9</th>\n",
       "      <td>3</td>\n",
       "      <td>60100</td>\n",
       "      <td>180300</td>\n",
       "      <td>9.928444</td>\n",
       "      <td>17900.983733</td>\n",
       "      <td>162399.016267</td>\n",
       "    </tr>\n",
       "    <tr>\n",
       "      <th>36</th>\n",
       "      <td>3</td>\n",
       "      <td>49100</td>\n",
       "      <td>147300</td>\n",
       "      <td>5.252113</td>\n",
       "      <td>7736.361785</td>\n",
       "      <td>139563.638215</td>\n",
       "    </tr>\n",
       "    <tr>\n",
       "      <th>37</th>\n",
       "      <td>1</td>\n",
       "      <td>54100</td>\n",
       "      <td>54100</td>\n",
       "      <td>9.238957</td>\n",
       "      <td>4998.275920</td>\n",
       "      <td>49101.724080</td>\n",
       "    </tr>\n",
       "    <tr>\n",
       "      <th>38</th>\n",
       "      <td>3</td>\n",
       "      <td>55100</td>\n",
       "      <td>165300</td>\n",
       "      <td>8.440206</td>\n",
       "      <td>13951.660194</td>\n",
       "      <td>151348.339806</td>\n",
       "    </tr>\n",
       "    <tr>\n",
       "      <th>39</th>\n",
       "      <td>3</td>\n",
       "      <td>60100</td>\n",
       "      <td>180300</td>\n",
       "      <td>9.087093</td>\n",
       "      <td>16384.029009</td>\n",
       "      <td>163915.971000</td>\n",
       "    </tr>\n",
       "    <tr>\n",
       "      <th>66</th>\n",
       "      <td>4</td>\n",
       "      <td>49100</td>\n",
       "      <td>196400</td>\n",
       "      <td>8.601080</td>\n",
       "      <td>16892.520951</td>\n",
       "      <td>179507.479049</td>\n",
       "    </tr>\n",
       "    <tr>\n",
       "      <th>67</th>\n",
       "      <td>1</td>\n",
       "      <td>54100</td>\n",
       "      <td>54100</td>\n",
       "      <td>7.621791</td>\n",
       "      <td>4123.388908</td>\n",
       "      <td>49976.611092</td>\n",
       "    </tr>\n",
       "    <tr>\n",
       "      <th>68</th>\n",
       "      <td>1</td>\n",
       "      <td>55100</td>\n",
       "      <td>55100</td>\n",
       "      <td>8.907134</td>\n",
       "      <td>4907.831044</td>\n",
       "      <td>50192.168956</td>\n",
       "    </tr>\n",
       "    <tr>\n",
       "      <th>69</th>\n",
       "      <td>2</td>\n",
       "      <td>60100</td>\n",
       "      <td>120200</td>\n",
       "      <td>5.007822</td>\n",
       "      <td>6019.402271</td>\n",
       "      <td>114180.597729</td>\n",
       "    </tr>\n",
       "    <tr>\n",
       "      <th>96</th>\n",
       "      <td>3</td>\n",
       "      <td>49100</td>\n",
       "      <td>147300</td>\n",
       "      <td>8.569249</td>\n",
       "      <td>12622.503658</td>\n",
       "      <td>134677.496342</td>\n",
       "    </tr>\n",
       "    <tr>\n",
       "      <th>97</th>\n",
       "      <td>2</td>\n",
       "      <td>54100</td>\n",
       "      <td>108200</td>\n",
       "      <td>7.823774</td>\n",
       "      <td>8465.323381</td>\n",
       "      <td>99734.676619</td>\n",
       "    </tr>\n",
       "    <tr>\n",
       "      <th>98</th>\n",
       "      <td>2</td>\n",
       "      <td>55100</td>\n",
       "      <td>110200</td>\n",
       "      <td>6.710454</td>\n",
       "      <td>7394.919797</td>\n",
       "      <td>102805.080203</td>\n",
       "    </tr>\n",
       "    <tr>\n",
       "      <th>99</th>\n",
       "      <td>2</td>\n",
       "      <td>60100</td>\n",
       "      <td>120200</td>\n",
       "      <td>6.095201</td>\n",
       "      <td>7326.432131</td>\n",
       "      <td>112873.567869</td>\n",
       "    </tr>\n",
       "    <tr>\n",
       "      <th>126</th>\n",
       "      <td>3</td>\n",
       "      <td>49100</td>\n",
       "      <td>147300</td>\n",
       "      <td>8.532278</td>\n",
       "      <td>12568.045375</td>\n",
       "      <td>134731.954625</td>\n",
       "    </tr>\n",
       "    <tr>\n",
       "      <th>127</th>\n",
       "      <td>3</td>\n",
       "      <td>54100</td>\n",
       "      <td>162300</td>\n",
       "      <td>5.935084</td>\n",
       "      <td>9632.641646</td>\n",
       "      <td>152667.358354</td>\n",
       "    </tr>\n",
       "    <tr>\n",
       "      <th>128</th>\n",
       "      <td>2</td>\n",
       "      <td>55100</td>\n",
       "      <td>110200</td>\n",
       "      <td>7.584591</td>\n",
       "      <td>8358.218883</td>\n",
       "      <td>101841.781117</td>\n",
       "    </tr>\n",
       "    <tr>\n",
       "      <th>129</th>\n",
       "      <td>2</td>\n",
       "      <td>60100</td>\n",
       "      <td>120200</td>\n",
       "      <td>9.086088</td>\n",
       "      <td>10921.477545</td>\n",
       "      <td>109278.522455</td>\n",
       "    </tr>\n",
       "    <tr>\n",
       "      <th>156</th>\n",
       "      <td>2</td>\n",
       "      <td>49100</td>\n",
       "      <td>98200</td>\n",
       "      <td>5.420507</td>\n",
       "      <td>5322.937541</td>\n",
       "      <td>92877.062460</td>\n",
       "    </tr>\n",
       "    <tr>\n",
       "      <th>157</th>\n",
       "      <td>3</td>\n",
       "      <td>54100</td>\n",
       "      <td>162300</td>\n",
       "      <td>6.849976</td>\n",
       "      <td>11117.510467</td>\n",
       "      <td>151182.489533</td>\n",
       "    </tr>\n",
       "    <tr>\n",
       "      <th>158</th>\n",
       "      <td>2</td>\n",
       "      <td>55100</td>\n",
       "      <td>110200</td>\n",
       "      <td>8.412626</td>\n",
       "      <td>9270.714384</td>\n",
       "      <td>100929.285616</td>\n",
       "    </tr>\n",
       "    <tr>\n",
       "      <th>159</th>\n",
       "      <td>2</td>\n",
       "      <td>60100</td>\n",
       "      <td>120200</td>\n",
       "      <td>7.256696</td>\n",
       "      <td>8722.548075</td>\n",
       "      <td>111477.451925</td>\n",
       "    </tr>\n",
       "    <tr>\n",
       "      <th>186</th>\n",
       "      <td>3</td>\n",
       "      <td>49100</td>\n",
       "      <td>147300</td>\n",
       "      <td>8.658225</td>\n",
       "      <td>12753.565958</td>\n",
       "      <td>134546.434042</td>\n",
       "    </tr>\n",
       "    <tr>\n",
       "      <th>187</th>\n",
       "      <td>3</td>\n",
       "      <td>54100</td>\n",
       "      <td>162300</td>\n",
       "      <td>7.178726</td>\n",
       "      <td>11651.072134</td>\n",
       "      <td>150648.927866</td>\n",
       "    </tr>\n",
       "    <tr>\n",
       "      <th>188</th>\n",
       "      <td>3</td>\n",
       "      <td>55100</td>\n",
       "      <td>165300</td>\n",
       "      <td>8.469412</td>\n",
       "      <td>13999.938499</td>\n",
       "      <td>151300.061501</td>\n",
       "    </tr>\n",
       "    <tr>\n",
       "      <th>189</th>\n",
       "      <td>3</td>\n",
       "      <td>60100</td>\n",
       "      <td>180300</td>\n",
       "      <td>9.815204</td>\n",
       "      <td>17696.813621</td>\n",
       "      <td>162603.186379</td>\n",
       "    </tr>\n",
       "    <tr>\n",
       "      <th>216</th>\n",
       "      <td>3</td>\n",
       "      <td>49100</td>\n",
       "      <td>147300</td>\n",
       "      <td>9.238451</td>\n",
       "      <td>13608.238319</td>\n",
       "      <td>133691.761681</td>\n",
       "    </tr>\n",
       "    <tr>\n",
       "      <th>217</th>\n",
       "      <td>2</td>\n",
       "      <td>54100</td>\n",
       "      <td>108200</td>\n",
       "      <td>9.666082</td>\n",
       "      <td>10458.701040</td>\n",
       "      <td>97741.298960</td>\n",
       "    </tr>\n",
       "    <tr>\n",
       "      <th>218</th>\n",
       "      <td>2</td>\n",
       "      <td>55100</td>\n",
       "      <td>110200</td>\n",
       "      <td>5.059801</td>\n",
       "      <td>5575.901007</td>\n",
       "      <td>104624.098993</td>\n",
       "    </tr>\n",
       "    <tr>\n",
       "      <th>219</th>\n",
       "      <td>1</td>\n",
       "      <td>60100</td>\n",
       "      <td>60100</td>\n",
       "      <td>9.549832</td>\n",
       "      <td>5739.449195</td>\n",
       "      <td>54360.550805</td>\n",
       "    </tr>\n",
       "    <tr>\n",
       "      <th>246</th>\n",
       "      <td>3</td>\n",
       "      <td>49100</td>\n",
       "      <td>147300</td>\n",
       "      <td>7.341874</td>\n",
       "      <td>10814.580909</td>\n",
       "      <td>136485.419091</td>\n",
       "    </tr>\n",
       "    <tr>\n",
       "      <th>247</th>\n",
       "      <td>2</td>\n",
       "      <td>54100</td>\n",
       "      <td>108200</td>\n",
       "      <td>9.771367</td>\n",
       "      <td>10572.619600</td>\n",
       "      <td>97627.380400</td>\n",
       "    </tr>\n",
       "    <tr>\n",
       "      <th>248</th>\n",
       "      <td>2</td>\n",
       "      <td>55100</td>\n",
       "      <td>110200</td>\n",
       "      <td>6.473305</td>\n",
       "      <td>7133.581785</td>\n",
       "      <td>103066.418215</td>\n",
       "    </tr>\n",
       "    <tr>\n",
       "      <th>249</th>\n",
       "      <td>1</td>\n",
       "      <td>60100</td>\n",
       "      <td>60100</td>\n",
       "      <td>6.439920</td>\n",
       "      <td>3870.391896</td>\n",
       "      <td>56229.608104</td>\n",
       "    </tr>\n",
       "    <tr>\n",
       "      <th>276</th>\n",
       "      <td>2</td>\n",
       "      <td>49100</td>\n",
       "      <td>98200</td>\n",
       "      <td>7.802861</td>\n",
       "      <td>7662.409395</td>\n",
       "      <td>90537.590605</td>\n",
       "    </tr>\n",
       "    <tr>\n",
       "      <th>277</th>\n",
       "      <td>2</td>\n",
       "      <td>54100</td>\n",
       "      <td>108200</td>\n",
       "      <td>9.835773</td>\n",
       "      <td>10642.306626</td>\n",
       "      <td>97557.693374</td>\n",
       "    </tr>\n",
       "    <tr>\n",
       "      <th>278</th>\n",
       "      <td>3</td>\n",
       "      <td>55100</td>\n",
       "      <td>165300</td>\n",
       "      <td>6.268914</td>\n",
       "      <td>10362.514525</td>\n",
       "      <td>154937.485475</td>\n",
       "    </tr>\n",
       "    <tr>\n",
       "      <th>279</th>\n",
       "      <td>2</td>\n",
       "      <td>60100</td>\n",
       "      <td>120200</td>\n",
       "      <td>6.819111</td>\n",
       "      <td>8196.571017</td>\n",
       "      <td>112003.428983</td>\n",
       "    </tr>\n",
       "    <tr>\n",
       "      <th>306</th>\n",
       "      <td>3</td>\n",
       "      <td>49100</td>\n",
       "      <td>147300</td>\n",
       "      <td>8.394469</td>\n",
       "      <td>12365.053308</td>\n",
       "      <td>134934.946692</td>\n",
       "    </tr>\n",
       "    <tr>\n",
       "      <th>307</th>\n",
       "      <td>1</td>\n",
       "      <td>54100</td>\n",
       "      <td>54100</td>\n",
       "      <td>6.106931</td>\n",
       "      <td>3303.849511</td>\n",
       "      <td>50796.150489</td>\n",
       "    </tr>\n",
       "    <tr>\n",
       "      <th>308</th>\n",
       "      <td>3</td>\n",
       "      <td>55100</td>\n",
       "      <td>165300</td>\n",
       "      <td>6.508719</td>\n",
       "      <td>10758.912635</td>\n",
       "      <td>154541.087365</td>\n",
       "    </tr>\n",
       "    <tr>\n",
       "      <th>309</th>\n",
       "      <td>3</td>\n",
       "      <td>60100</td>\n",
       "      <td>180300</td>\n",
       "      <td>9.058746</td>\n",
       "      <td>16332.919930</td>\n",
       "      <td>163967.080070</td>\n",
       "    </tr>\n",
       "    <tr>\n",
       "      <th>336</th>\n",
       "      <td>2</td>\n",
       "      <td>49100</td>\n",
       "      <td>98200</td>\n",
       "      <td>6.066192</td>\n",
       "      <td>5957.000464</td>\n",
       "      <td>92242.999536</td>\n",
       "    </tr>\n",
       "    <tr>\n",
       "      <th>337</th>\n",
       "      <td>1</td>\n",
       "      <td>54100</td>\n",
       "      <td>54100</td>\n",
       "      <td>9.791440</td>\n",
       "      <td>5297.169083</td>\n",
       "      <td>48802.830917</td>\n",
       "    </tr>\n",
       "    <tr>\n",
       "      <th>338</th>\n",
       "      <td>3</td>\n",
       "      <td>55100</td>\n",
       "      <td>165300</td>\n",
       "      <td>5.084108</td>\n",
       "      <td>8404.031228</td>\n",
       "      <td>156895.968772</td>\n",
       "    </tr>\n",
       "    <tr>\n",
       "      <th>339</th>\n",
       "      <td>3</td>\n",
       "      <td>60100</td>\n",
       "      <td>180300</td>\n",
       "      <td>7.785268</td>\n",
       "      <td>14036.838652</td>\n",
       "      <td>166263.161348</td>\n",
       "    </tr>\n",
       "    <tr>\n",
       "      <th>366</th>\n",
       "      <td>3</td>\n",
       "      <td>49100</td>\n",
       "      <td>147300</td>\n",
       "      <td>9.012750</td>\n",
       "      <td>13275.780741</td>\n",
       "      <td>134024.219259</td>\n",
       "    </tr>\n",
       "    <tr>\n",
       "      <th>367</th>\n",
       "      <td>1</td>\n",
       "      <td>54100</td>\n",
       "      <td>54100</td>\n",
       "      <td>9.350886</td>\n",
       "      <td>5058.829275</td>\n",
       "      <td>49041.170725</td>\n",
       "    </tr>\n",
       "    <tr>\n",
       "      <th>368</th>\n",
       "      <td>2</td>\n",
       "      <td>55100</td>\n",
       "      <td>110200</td>\n",
       "      <td>6.326892</td>\n",
       "      <td>6972.234645</td>\n",
       "      <td>103227.765355</td>\n",
       "    </tr>\n",
       "    <tr>\n",
       "      <th>369</th>\n",
       "      <td>2</td>\n",
       "      <td>60100</td>\n",
       "      <td>120200</td>\n",
       "      <td>9.766900</td>\n",
       "      <td>11739.813979</td>\n",
       "      <td>108460.186021</td>\n",
       "    </tr>\n",
       "    <tr>\n",
       "      <th>396</th>\n",
       "      <td>3</td>\n",
       "      <td>49100</td>\n",
       "      <td>147300</td>\n",
       "      <td>9.085015</td>\n",
       "      <td>13382.227333</td>\n",
       "      <td>133917.772667</td>\n",
       "    </tr>\n",
       "    <tr>\n",
       "      <th>397</th>\n",
       "      <td>2</td>\n",
       "      <td>54100</td>\n",
       "      <td>108200</td>\n",
       "      <td>5.055218</td>\n",
       "      <td>5469.746322</td>\n",
       "      <td>102730.253678</td>\n",
       "    </tr>\n",
       "    <tr>\n",
       "      <th>398</th>\n",
       "      <td>2</td>\n",
       "      <td>55100</td>\n",
       "      <td>110200</td>\n",
       "      <td>5.411802</td>\n",
       "      <td>5963.806009</td>\n",
       "      <td>104236.193991</td>\n",
       "    </tr>\n",
       "    <tr>\n",
       "      <th>399</th>\n",
       "      <td>2</td>\n",
       "      <td>60100</td>\n",
       "      <td>120200</td>\n",
       "      <td>5.511042</td>\n",
       "      <td>6624.272870</td>\n",
       "      <td>113575.727130</td>\n",
       "    </tr>\n",
       "    <tr>\n",
       "      <th>426</th>\n",
       "      <td>3</td>\n",
       "      <td>49100</td>\n",
       "      <td>147300</td>\n",
       "      <td>6.008200</td>\n",
       "      <td>8850.077961</td>\n",
       "      <td>138449.922039</td>\n",
       "    </tr>\n",
       "    <tr>\n",
       "      <th>427</th>\n",
       "      <td>1</td>\n",
       "      <td>54100</td>\n",
       "      <td>54100</td>\n",
       "      <td>6.642595</td>\n",
       "      <td>3593.644076</td>\n",
       "      <td>50506.355924</td>\n",
       "    </tr>\n",
       "    <tr>\n",
       "      <th>428</th>\n",
       "      <td>3</td>\n",
       "      <td>55100</td>\n",
       "      <td>165300</td>\n",
       "      <td>5.425911</td>\n",
       "      <td>8969.030110</td>\n",
       "      <td>156330.969890</td>\n",
       "    </tr>\n",
       "    <tr>\n",
       "      <th>429</th>\n",
       "      <td>2</td>\n",
       "      <td>60100</td>\n",
       "      <td>120200</td>\n",
       "      <td>8.440679</td>\n",
       "      <td>10145.695959</td>\n",
       "      <td>110054.304041</td>\n",
       "    </tr>\n",
       "  </tbody>\n",
       "</table>\n",
       "</div>"
      ],
      "text/plain": [
       "     Volume  Avg Price  Total Sales Value  Discount Rate (%)  Discount Amount  \\\n",
       "6         3      49100             147300           9.228812     13594.039719   \n",
       "7         2      54100             108200           5.553719      6009.124321   \n",
       "8         2      55100             110200           7.410104      8165.935144   \n",
       "9         3      60100             180300           9.928444     17900.983733   \n",
       "36        3      49100             147300           5.252113      7736.361785   \n",
       "37        1      54100              54100           9.238957      4998.275920   \n",
       "38        3      55100             165300           8.440206     13951.660194   \n",
       "39        3      60100             180300           9.087093     16384.029009   \n",
       "66        4      49100             196400           8.601080     16892.520951   \n",
       "67        1      54100              54100           7.621791      4123.388908   \n",
       "68        1      55100              55100           8.907134      4907.831044   \n",
       "69        2      60100             120200           5.007822      6019.402271   \n",
       "96        3      49100             147300           8.569249     12622.503658   \n",
       "97        2      54100             108200           7.823774      8465.323381   \n",
       "98        2      55100             110200           6.710454      7394.919797   \n",
       "99        2      60100             120200           6.095201      7326.432131   \n",
       "126       3      49100             147300           8.532278     12568.045375   \n",
       "127       3      54100             162300           5.935084      9632.641646   \n",
       "128       2      55100             110200           7.584591      8358.218883   \n",
       "129       2      60100             120200           9.086088     10921.477545   \n",
       "156       2      49100              98200           5.420507      5322.937541   \n",
       "157       3      54100             162300           6.849976     11117.510467   \n",
       "158       2      55100             110200           8.412626      9270.714384   \n",
       "159       2      60100             120200           7.256696      8722.548075   \n",
       "186       3      49100             147300           8.658225     12753.565958   \n",
       "187       3      54100             162300           7.178726     11651.072134   \n",
       "188       3      55100             165300           8.469412     13999.938499   \n",
       "189       3      60100             180300           9.815204     17696.813621   \n",
       "216       3      49100             147300           9.238451     13608.238319   \n",
       "217       2      54100             108200           9.666082     10458.701040   \n",
       "218       2      55100             110200           5.059801      5575.901007   \n",
       "219       1      60100              60100           9.549832      5739.449195   \n",
       "246       3      49100             147300           7.341874     10814.580909   \n",
       "247       2      54100             108200           9.771367     10572.619600   \n",
       "248       2      55100             110200           6.473305      7133.581785   \n",
       "249       1      60100              60100           6.439920      3870.391896   \n",
       "276       2      49100              98200           7.802861      7662.409395   \n",
       "277       2      54100             108200           9.835773     10642.306626   \n",
       "278       3      55100             165300           6.268914     10362.514525   \n",
       "279       2      60100             120200           6.819111      8196.571017   \n",
       "306       3      49100             147300           8.394469     12365.053308   \n",
       "307       1      54100              54100           6.106931      3303.849511   \n",
       "308       3      55100             165300           6.508719     10758.912635   \n",
       "309       3      60100             180300           9.058746     16332.919930   \n",
       "336       2      49100              98200           6.066192      5957.000464   \n",
       "337       1      54100              54100           9.791440      5297.169083   \n",
       "338       3      55100             165300           5.084108      8404.031228   \n",
       "339       3      60100             180300           7.785268     14036.838652   \n",
       "366       3      49100             147300           9.012750     13275.780741   \n",
       "367       1      54100              54100           9.350886      5058.829275   \n",
       "368       2      55100             110200           6.326892      6972.234645   \n",
       "369       2      60100             120200           9.766900     11739.813979   \n",
       "396       3      49100             147300           9.085015     13382.227333   \n",
       "397       2      54100             108200           5.055218      5469.746322   \n",
       "398       2      55100             110200           5.411802      5963.806009   \n",
       "399       2      60100             120200           5.511042      6624.272870   \n",
       "426       3      49100             147300           6.008200      8850.077961   \n",
       "427       1      54100              54100           6.642595      3593.644076   \n",
       "428       3      55100             165300           5.425911      8969.030110   \n",
       "429       2      60100             120200           8.440679     10145.695959   \n",
       "\n",
       "     Net Sales Value  \n",
       "6      133705.960281  \n",
       "7      102190.875679  \n",
       "8      102034.064856  \n",
       "9      162399.016267  \n",
       "36     139563.638215  \n",
       "37      49101.724080  \n",
       "38     151348.339806  \n",
       "39     163915.971000  \n",
       "66     179507.479049  \n",
       "67      49976.611092  \n",
       "68      50192.168956  \n",
       "69     114180.597729  \n",
       "96     134677.496342  \n",
       "97      99734.676619  \n",
       "98     102805.080203  \n",
       "99     112873.567869  \n",
       "126    134731.954625  \n",
       "127    152667.358354  \n",
       "128    101841.781117  \n",
       "129    109278.522455  \n",
       "156     92877.062460  \n",
       "157    151182.489533  \n",
       "158    100929.285616  \n",
       "159    111477.451925  \n",
       "186    134546.434042  \n",
       "187    150648.927866  \n",
       "188    151300.061501  \n",
       "189    162603.186379  \n",
       "216    133691.761681  \n",
       "217     97741.298960  \n",
       "218    104624.098993  \n",
       "219     54360.550805  \n",
       "246    136485.419091  \n",
       "247     97627.380400  \n",
       "248    103066.418215  \n",
       "249     56229.608104  \n",
       "276     90537.590605  \n",
       "277     97557.693374  \n",
       "278    154937.485475  \n",
       "279    112003.428983  \n",
       "306    134934.946692  \n",
       "307     50796.150489  \n",
       "308    154541.087365  \n",
       "309    163967.080070  \n",
       "336     92242.999536  \n",
       "337     48802.830917  \n",
       "338    156895.968772  \n",
       "339    166263.161348  \n",
       "366    134024.219259  \n",
       "367     49041.170725  \n",
       "368    103227.765355  \n",
       "369    108460.186021  \n",
       "396    133917.772667  \n",
       "397    102730.253678  \n",
       "398    104236.193991  \n",
       "399    113575.727130  \n",
       "426    138449.922039  \n",
       "427     50506.355924  \n",
       "428    156330.969890  \n",
       "429    110054.304041  "
      ]
     },
     "execution_count": 98,
     "metadata": {},
     "output_type": "execute_result"
    }
   ],
   "source": [
    "df_outlier=df[(df['Avg Price']<Lower_Extreme)|(df['Avg Price']>Upper_Extreme)]\n",
    "df_outlier"
   ]
  },
  {
   "cell_type": "code",
   "execution_count": 99,
   "id": "bdbc7cfb",
   "metadata": {},
   "outputs": [],
   "source": [
    "## All the rows having Avg Price less than -13987.5 or more than 24552.5 are outliers"
   ]
  },
  {
   "cell_type": "code",
   "execution_count": 101,
   "id": "aba8ce1e",
   "metadata": {},
   "outputs": [
    {
     "data": {
      "text/html": [
       "<div>\n",
       "<style scoped>\n",
       "    .dataframe tbody tr th:only-of-type {\n",
       "        vertical-align: middle;\n",
       "    }\n",
       "\n",
       "    .dataframe tbody tr th {\n",
       "        vertical-align: top;\n",
       "    }\n",
       "\n",
       "    .dataframe thead th {\n",
       "        text-align: right;\n",
       "    }\n",
       "</style>\n",
       "<table border=\"1\" class=\"dataframe\">\n",
       "  <thead>\n",
       "    <tr style=\"text-align: right;\">\n",
       "      <th></th>\n",
       "      <th>Volume</th>\n",
       "      <th>Avg Price</th>\n",
       "      <th>Total Sales Value</th>\n",
       "      <th>Discount Rate (%)</th>\n",
       "      <th>Discount Amount</th>\n",
       "      <th>Net Sales Value</th>\n",
       "    </tr>\n",
       "  </thead>\n",
       "  <tbody>\n",
       "    <tr>\n",
       "      <th>0</th>\n",
       "      <td>15</td>\n",
       "      <td>12100</td>\n",
       "      <td>181500</td>\n",
       "      <td>11.654820</td>\n",
       "      <td>21153.498820</td>\n",
       "      <td>160346.501180</td>\n",
       "    </tr>\n",
       "    <tr>\n",
       "      <th>1</th>\n",
       "      <td>10</td>\n",
       "      <td>10100</td>\n",
       "      <td>101000</td>\n",
       "      <td>11.560498</td>\n",
       "      <td>11676.102961</td>\n",
       "      <td>89323.897039</td>\n",
       "    </tr>\n",
       "    <tr>\n",
       "      <th>2</th>\n",
       "      <td>7</td>\n",
       "      <td>16100</td>\n",
       "      <td>112700</td>\n",
       "      <td>9.456886</td>\n",
       "      <td>10657.910157</td>\n",
       "      <td>102042.089843</td>\n",
       "    </tr>\n",
       "    <tr>\n",
       "      <th>3</th>\n",
       "      <td>6</td>\n",
       "      <td>20100</td>\n",
       "      <td>120600</td>\n",
       "      <td>6.935385</td>\n",
       "      <td>8364.074702</td>\n",
       "      <td>112235.925298</td>\n",
       "    </tr>\n",
       "    <tr>\n",
       "      <th>4</th>\n",
       "      <td>3</td>\n",
       "      <td>8100</td>\n",
       "      <td>24300</td>\n",
       "      <td>17.995663</td>\n",
       "      <td>4372.946230</td>\n",
       "      <td>19927.053770</td>\n",
       "    </tr>\n",
       "  </tbody>\n",
       "</table>\n",
       "</div>"
      ],
      "text/plain": [
       "   Volume  Avg Price  Total Sales Value  Discount Rate (%)  Discount Amount  \\\n",
       "0      15      12100             181500          11.654820     21153.498820   \n",
       "1      10      10100             101000          11.560498     11676.102961   \n",
       "2       7      16100             112700           9.456886     10657.910157   \n",
       "3       6      20100             120600           6.935385      8364.074702   \n",
       "4       3       8100              24300          17.995663      4372.946230   \n",
       "\n",
       "   Net Sales Value  \n",
       "0    160346.501180  \n",
       "1     89323.897039  \n",
       "2    102042.089843  \n",
       "3    112235.925298  \n",
       "4     19927.053770  "
      ]
     },
     "execution_count": 101,
     "metadata": {},
     "output_type": "execute_result"
    }
   ],
   "source": [
    "df.head()"
   ]
  },
  {
   "cell_type": "code",
   "execution_count": 25,
   "id": "335a7602",
   "metadata": {},
   "outputs": [],
   "source": [
    "## Bar Chart Analysis for Categorical Column"
   ]
  },
  {
   "cell_type": "code",
   "execution_count": 5,
   "id": "00caafd6",
   "metadata": {},
   "outputs": [],
   "source": [
    "data_categorical=[i for i in data.columns if data[i].dtypes=='O']"
   ]
  },
  {
   "cell_type": "code",
   "execution_count": 6,
   "id": "686f7044",
   "metadata": {},
   "outputs": [
    {
     "data": {
      "text/plain": [
       "['Date', 'Day', 'SKU', 'City', 'BU', 'Brand', 'Model']"
      ]
     },
     "execution_count": 6,
     "metadata": {},
     "output_type": "execute_result"
    }
   ],
   "source": [
    "data_categorical"
   ]
  },
  {
   "cell_type": "code",
   "execution_count": 24,
   "id": "bf6c280b",
   "metadata": {},
   "outputs": [
    {
     "data": {
      "image/png": "[encoded data removed]",
      "text/plain": [
       "<Figure size 640x480 with 1 Axes>"
      ]
     },
     "metadata": {},
     "output_type": "display_data"
    }
   ],
   "source": [
    "df1=data['Model'].value_counts()\n",
    "a=df1.plot(kind='bar')\n",
    "a.bar_label(a.containers[0]);"
   ]
  },
  {
   "cell_type": "code",
   "execution_count": null,
   "id": "df2331e1",
   "metadata": {},
   "outputs": [],
   "source": [
    "## Model column has 30 categories with each category count as 15"
   ]
  },
  {
   "cell_type": "code",
   "execution_count": 26,
   "id": "ea1eb778",
   "metadata": {},
   "outputs": [
    {
     "data": {
      "image/png": "[encoded data removed]",
      "text/plain": [
       "<Figure size 640x480 with 1 Axes>"
      ]
     },
     "metadata": {},
     "output_type": "display_data"
    }
   ],
   "source": [
    "df2=data['Brand'].value_counts()\n",
    "b=df2.plot(kind='bar')\n",
    "b.bar_label(b.containers[0]);"
   ]
  },
  {
   "cell_type": "code",
   "execution_count": null,
   "id": "0c52077f",
   "metadata": {},
   "outputs": [],
   "source": [
    "## Brand column has 9 categories each having diffetent count as dislayed in the bar chart "
   ]
  },
  {
   "cell_type": "code",
   "execution_count": 27,
   "id": "c21dc458",
   "metadata": {},
   "outputs": [
    {
     "data": {
      "image/png": "[encoded data removed]",
      "text/plain": [
       "<Figure size 640x480 with 1 Axes>"
      ]
     },
     "metadata": {},
     "output_type": "display_data"
    }
   ],
   "source": [
    "df3=data['BU'].value_counts()\n",
    "c=df3.plot(kind='bar')\n",
    "c.bar_label(c.containers[0]);"
   ]
  },
  {
   "cell_type": "code",
   "execution_count": null,
   "id": "e0ea7996",
   "metadata": {},
   "outputs": [],
   "source": [
    "## BU column has 3 categories with each category count as 150"
   ]
  },
  {
   "cell_type": "code",
   "execution_count": 28,
   "id": "7958ec66",
   "metadata": {},
   "outputs": [
    {
     "data": {
      "image/png": "[encoded data removed]",
      "text/plain": [
       "<Figure size 640x480 with 1 Axes>"
      ]
     },
     "metadata": {},
     "output_type": "display_data"
    }
   ],
   "source": [
    "df4=data['City'].value_counts()\n",
    "d=df4.plot(kind='bar')\n",
    "d.bar_label(d.containers[0]);"
   ]
  },
  {
   "cell_type": "code",
   "execution_count": null,
   "id": "0231ffc5",
   "metadata": {},
   "outputs": [],
   "source": [
    "## City column has just one category"
   ]
  },
  {
   "cell_type": "code",
   "execution_count": 29,
   "id": "3450864c",
   "metadata": {},
   "outputs": [
    {
     "data": {
      "image/png": "[encoded data removed]",
      "text/plain": [
       "<Figure size 640x480 with 1 Axes>"
      ]
     },
     "metadata": {},
     "output_type": "display_data"
    }
   ],
   "source": [
    "df5=data['SKU'].value_counts()\n",
    "e=df5.plot(kind='bar')\n",
    "e.bar_label(e.containers[0]);"
   ]
  },
  {
   "cell_type": "code",
   "execution_count": 33,
   "id": "eb0bc1c8",
   "metadata": {},
   "outputs": [],
   "source": [
    "## SKU column has 30 categories with each category count as 15"
   ]
  },
  {
   "cell_type": "markdown",
   "id": "c03ae809",
   "metadata": {},
   "source": [
    "# Standardization of Numerical Variables"
   ]
  },
  {
   "cell_type": "code",
   "execution_count": 34,
   "id": "ee413dd2",
   "metadata": {},
   "outputs": [],
   "source": [
    "## z-score normalization"
   ]
  },
  {
   "cell_type": "code",
   "execution_count": 35,
   "id": "5fa53afa",
   "metadata": {},
   "outputs": [],
   "source": [
    "## z-score normalization is a data preprocessing technique which is used to transform data into a standard normal distribution\n",
    "## This ensuring that all features are on the same scale. This process helps to avoid the dominance of certain features over\n",
    "## others due to differences in their scales, which can significantly impact the performance of machine learning models\n",
    "## Z-score normalization is also known as standardization\n",
    "## Steps involves transforming data so that it has a mean of 0 and a standard deviation of 1"
   ]
  },
  {
   "cell_type": "code",
   "execution_count": 38,
   "id": "5c467a8f",
   "metadata": {},
   "outputs": [
    {
     "data": {
      "text/plain": [
       "['Volume',\n",
       " 'Avg Price',\n",
       " 'Total Sales Value',\n",
       " 'Discount Rate (%)',\n",
       " 'Discount Amount',\n",
       " 'Net Sales Value']"
      ]
     },
     "execution_count": 38,
     "metadata": {},
     "output_type": "execute_result"
    }
   ],
   "source": [
    "data_numerical"
   ]
  },
  {
   "cell_type": "code",
   "execution_count": 46,
   "id": "eea73020",
   "metadata": {},
   "outputs": [],
   "source": [
    "df1['Volume']=(data['Volume']-data['Volume'].mean())/data['Volume'].std()"
   ]
  },
  {
   "cell_type": "code",
   "execution_count": 47,
   "id": "14711155",
   "metadata": {},
   "outputs": [
    {
     "data": {
      "text/plain": [
       "0      2.347417\n",
       "1      1.165831\n",
       "2      0.456880\n",
       "3      0.220563\n",
       "4     -0.488389\n",
       "         ...   \n",
       "445   -0.724706\n",
       "446    0.220563\n",
       "447   -0.724706\n",
       "448   -0.488389\n",
       "449   -0.961023\n",
       "Name: Volume, Length: 450, dtype: float64"
      ]
     },
     "execution_count": 47,
     "metadata": {},
     "output_type": "execute_result"
    }
   ],
   "source": [
    "df1['Volume']"
   ]
  },
  {
   "cell_type": "code",
   "execution_count": 67,
   "id": "a557cb02",
   "metadata": {},
   "outputs": [
    {
     "data": {
      "text/plain": [
       "0      15\n",
       "1      10\n",
       "2       7\n",
       "3       6\n",
       "4       3\n",
       "       ..\n",
       "445     2\n",
       "446     6\n",
       "447     2\n",
       "448     3\n",
       "449     1\n",
       "Name: Volume, Length: 450, dtype: int64"
      ]
     },
     "execution_count": 67,
     "metadata": {},
     "output_type": "execute_result"
    }
   ],
   "source": [
    "df_vol=data['Volume']\n",
    "df_vol"
   ]
  },
  {
   "cell_type": "code",
   "execution_count": 70,
   "id": "b0cc4b3b",
   "metadata": {},
   "outputs": [
    {
     "data": {
      "text/plain": [
       "0      2.347417\n",
       "1      1.165831\n",
       "2      0.456880\n",
       "3      0.220563\n",
       "4     -0.488389\n",
       "         ...   \n",
       "445   -0.724706\n",
       "446    0.220563\n",
       "447   -0.724706\n",
       "448   -0.488389\n",
       "449   -0.961023\n",
       "Name: Volume, Length: 450, dtype: float64"
      ]
     },
     "execution_count": 70,
     "metadata": {},
     "output_type": "execute_result"
    }
   ],
   "source": [
    "df_vol_z_scale=df1['Volume']\n",
    "df_vol_z_scale"
   ]
  },
  {
   "cell_type": "code",
   "execution_count": 161,
   "id": "353bd961",
   "metadata": {},
   "outputs": [
    {
     "data": {
      "text/plain": [
       "Text(0.5, 1.0, 'Volume after z-scaling')"
      ]
     },
     "execution_count": 161,
     "metadata": {},
     "output_type": "execute_result"
    },
    {
     "data": {
      "image/png": "[encoded data removed]",
      "text/plain": [
       "<Figure size 1000x500 with 2 Axes>"
      ]
     },
     "metadata": {},
     "output_type": "display_data"
    }
   ],
   "source": [
    "fig,axes=plt.subplots(1,2,figsize=(10,5))\n",
    "df_vol=data['Volume']\n",
    "axes[0].plot(df_vol)\n",
    "axes[0].set_title('Volume before z-scaling',color='red')\n",
    "df_vol_z_scale=df1['Volume']\n",
    "axes[1].plot(df_vol_z_scale)\n",
    "axes[1].set_title('Volume after z-scaling',color='red')"
   ]
  },
  {
   "cell_type": "code",
   "execution_count": 73,
   "id": "8def888e",
   "metadata": {},
   "outputs": [],
   "source": [
    "## standardizing all the numerical columns"
   ]
  },
  {
   "cell_type": "code",
   "execution_count": 137,
   "id": "959a2697",
   "metadata": {},
   "outputs": [],
   "source": [
    "data=pd.read_csv(r'C:\\D Drive\\Data_Science\\01 Assignments\\01 Basic stats - 1\\sales_data_with_discounts.csv')"
   ]
  },
  {
   "cell_type": "code",
   "execution_count": 138,
   "id": "1fc43cbe",
   "metadata": {},
   "outputs": [
    {
     "data": {
      "text/html": [
       "<div>\n",
       "<style scoped>\n",
       "    .dataframe tbody tr th:only-of-type {\n",
       "        vertical-align: middle;\n",
       "    }\n",
       "\n",
       "    .dataframe tbody tr th {\n",
       "        vertical-align: top;\n",
       "    }\n",
       "\n",
       "    .dataframe thead th {\n",
       "        text-align: right;\n",
       "    }\n",
       "</style>\n",
       "<table border=\"1\" class=\"dataframe\">\n",
       "  <thead>\n",
       "    <tr style=\"text-align: right;\">\n",
       "      <th></th>\n",
       "      <th>Volume</th>\n",
       "      <th>Avg Price</th>\n",
       "      <th>Total Sales Value</th>\n",
       "      <th>Discount Rate (%)</th>\n",
       "      <th>Discount Amount</th>\n",
       "      <th>Net Sales Value</th>\n",
       "    </tr>\n",
       "  </thead>\n",
       "  <tbody>\n",
       "    <tr>\n",
       "      <th>0</th>\n",
       "      <td>15</td>\n",
       "      <td>12100</td>\n",
       "      <td>181500</td>\n",
       "      <td>11.654820</td>\n",
       "      <td>21153.498820</td>\n",
       "      <td>160346.501180</td>\n",
       "    </tr>\n",
       "    <tr>\n",
       "      <th>1</th>\n",
       "      <td>10</td>\n",
       "      <td>10100</td>\n",
       "      <td>101000</td>\n",
       "      <td>11.560498</td>\n",
       "      <td>11676.102961</td>\n",
       "      <td>89323.897039</td>\n",
       "    </tr>\n",
       "    <tr>\n",
       "      <th>2</th>\n",
       "      <td>7</td>\n",
       "      <td>16100</td>\n",
       "      <td>112700</td>\n",
       "      <td>9.456886</td>\n",
       "      <td>10657.910157</td>\n",
       "      <td>102042.089843</td>\n",
       "    </tr>\n",
       "    <tr>\n",
       "      <th>3</th>\n",
       "      <td>6</td>\n",
       "      <td>20100</td>\n",
       "      <td>120600</td>\n",
       "      <td>6.935385</td>\n",
       "      <td>8364.074702</td>\n",
       "      <td>112235.925298</td>\n",
       "    </tr>\n",
       "    <tr>\n",
       "      <th>4</th>\n",
       "      <td>3</td>\n",
       "      <td>8100</td>\n",
       "      <td>24300</td>\n",
       "      <td>17.995663</td>\n",
       "      <td>4372.946230</td>\n",
       "      <td>19927.053770</td>\n",
       "    </tr>\n",
       "    <tr>\n",
       "      <th>...</th>\n",
       "      <td>...</td>\n",
       "      <td>...</td>\n",
       "      <td>...</td>\n",
       "      <td>...</td>\n",
       "      <td>...</td>\n",
       "      <td>...</td>\n",
       "    </tr>\n",
       "    <tr>\n",
       "      <th>445</th>\n",
       "      <td>2</td>\n",
       "      <td>1300</td>\n",
       "      <td>2600</td>\n",
       "      <td>15.475687</td>\n",
       "      <td>402.367873</td>\n",
       "      <td>2197.632127</td>\n",
       "    </tr>\n",
       "    <tr>\n",
       "      <th>446</th>\n",
       "      <td>6</td>\n",
       "      <td>2600</td>\n",
       "      <td>15600</td>\n",
       "      <td>17.057027</td>\n",
       "      <td>2660.896242</td>\n",
       "      <td>12939.103758</td>\n",
       "    </tr>\n",
       "    <tr>\n",
       "      <th>447</th>\n",
       "      <td>2</td>\n",
       "      <td>1600</td>\n",
       "      <td>3200</td>\n",
       "      <td>18.965550</td>\n",
       "      <td>606.897606</td>\n",
       "      <td>2593.102394</td>\n",
       "    </tr>\n",
       "    <tr>\n",
       "      <th>448</th>\n",
       "      <td>3</td>\n",
       "      <td>1900</td>\n",
       "      <td>5700</td>\n",
       "      <td>16.793014</td>\n",
       "      <td>957.201826</td>\n",
       "      <td>4742.798174</td>\n",
       "    </tr>\n",
       "    <tr>\n",
       "      <th>449</th>\n",
       "      <td>1</td>\n",
       "      <td>3100</td>\n",
       "      <td>3100</td>\n",
       "      <td>15.333300</td>\n",
       "      <td>475.332295</td>\n",
       "      <td>2624.667705</td>\n",
       "    </tr>\n",
       "  </tbody>\n",
       "</table>\n",
       "<p>450 rows × 6 columns</p>\n",
       "</div>"
      ],
      "text/plain": [
       "     Volume  Avg Price  Total Sales Value  Discount Rate (%)  Discount Amount  \\\n",
       "0        15      12100             181500          11.654820     21153.498820   \n",
       "1        10      10100             101000          11.560498     11676.102961   \n",
       "2         7      16100             112700           9.456886     10657.910157   \n",
       "3         6      20100             120600           6.935385      8364.074702   \n",
       "4         3       8100              24300          17.995663      4372.946230   \n",
       "..      ...        ...                ...                ...              ...   \n",
       "445       2       1300               2600          15.475687       402.367873   \n",
       "446       6       2600              15600          17.057027      2660.896242   \n",
       "447       2       1600               3200          18.965550       606.897606   \n",
       "448       3       1900               5700          16.793014       957.201826   \n",
       "449       1       3100               3100          15.333300       475.332295   \n",
       "\n",
       "     Net Sales Value  \n",
       "0      160346.501180  \n",
       "1       89323.897039  \n",
       "2      102042.089843  \n",
       "3      112235.925298  \n",
       "4       19927.053770  \n",
       "..               ...  \n",
       "445      2197.632127  \n",
       "446     12939.103758  \n",
       "447      2593.102394  \n",
       "448      4742.798174  \n",
       "449      2624.667705  \n",
       "\n",
       "[450 rows x 6 columns]"
      ]
     },
     "execution_count": 138,
     "metadata": {},
     "output_type": "execute_result"
    }
   ],
   "source": [
    "data_num=[i for i in data.columns if data[i].dtypes!='O']\n",
    "data[data_num]"
   ]
  },
  {
   "cell_type": "code",
   "execution_count": 180,
   "id": "0a4da3ea",
   "metadata": {},
   "outputs": [
    {
     "data": {
      "text/plain": [
       "[<matplotlib.lines.Line2D at 0x17149b38250>]"
      ]
     },
     "execution_count": 180,
     "metadata": {},
     "output_type": "execute_result"
    },
    {
     "data": {
      "image/png": "[encoded data removed]",
      "text/plain": [
       "<Figure size 1200x500 with 6 Axes>"
      ]
     },
     "metadata": {},
     "output_type": "display_data"
    }
   ],
   "source": [
    "fig,axes=plt.subplots(1,6,figsize=(12,5))\n",
    "axes[0].plot(data['Volume'])\n",
    "axes[1].plot(data['Avg Price'])\n",
    "axes[2].plot(data['Total Sales Value'])\n",
    "axes[3].plot(data['Discount Rate (%)'])\n",
    "axes[4].plot(data['Discount Amount'])\n",
    "axes[5].plot(data['Net Sales Value'])"
   ]
  },
  {
   "cell_type": "code",
   "execution_count": 118,
   "id": "e690572f",
   "metadata": {},
   "outputs": [],
   "source": [
    "## Above plot shows the data without standardization, all are in different scales"
   ]
  },
  {
   "cell_type": "code",
   "execution_count": 184,
   "id": "ff050105",
   "metadata": {},
   "outputs": [
    {
     "data": {
      "text/html": [
       "<div>\n",
       "<style scoped>\n",
       "    .dataframe tbody tr th:only-of-type {\n",
       "        vertical-align: middle;\n",
       "    }\n",
       "\n",
       "    .dataframe tbody tr th {\n",
       "        vertical-align: top;\n",
       "    }\n",
       "\n",
       "    .dataframe thead th {\n",
       "        text-align: right;\n",
       "    }\n",
       "</style>\n",
       "<table border=\"1\" class=\"dataframe\">\n",
       "  <thead>\n",
       "    <tr style=\"text-align: right;\">\n",
       "      <th></th>\n",
       "      <th>Volume</th>\n",
       "      <th>Avg Price</th>\n",
       "      <th>Total Sales Value</th>\n",
       "      <th>Discount Rate (%)</th>\n",
       "      <th>Discount Amount</th>\n",
       "      <th>Net Sales Value</th>\n",
       "    </tr>\n",
       "  </thead>\n",
       "  <tbody>\n",
       "    <tr>\n",
       "      <th>0</th>\n",
       "      <td>15</td>\n",
       "      <td>12100</td>\n",
       "      <td>181500</td>\n",
       "      <td>11.654820</td>\n",
       "      <td>21153.498820</td>\n",
       "      <td>160346.501180</td>\n",
       "    </tr>\n",
       "    <tr>\n",
       "      <th>1</th>\n",
       "      <td>10</td>\n",
       "      <td>10100</td>\n",
       "      <td>101000</td>\n",
       "      <td>11.560498</td>\n",
       "      <td>11676.102961</td>\n",
       "      <td>89323.897039</td>\n",
       "    </tr>\n",
       "    <tr>\n",
       "      <th>2</th>\n",
       "      <td>7</td>\n",
       "      <td>16100</td>\n",
       "      <td>112700</td>\n",
       "      <td>9.456886</td>\n",
       "      <td>10657.910157</td>\n",
       "      <td>102042.089843</td>\n",
       "    </tr>\n",
       "    <tr>\n",
       "      <th>3</th>\n",
       "      <td>6</td>\n",
       "      <td>20100</td>\n",
       "      <td>120600</td>\n",
       "      <td>6.935385</td>\n",
       "      <td>8364.074702</td>\n",
       "      <td>112235.925298</td>\n",
       "    </tr>\n",
       "    <tr>\n",
       "      <th>4</th>\n",
       "      <td>3</td>\n",
       "      <td>8100</td>\n",
       "      <td>24300</td>\n",
       "      <td>17.995663</td>\n",
       "      <td>4372.946230</td>\n",
       "      <td>19927.053770</td>\n",
       "    </tr>\n",
       "    <tr>\n",
       "      <th>...</th>\n",
       "      <td>...</td>\n",
       "      <td>...</td>\n",
       "      <td>...</td>\n",
       "      <td>...</td>\n",
       "      <td>...</td>\n",
       "      <td>...</td>\n",
       "    </tr>\n",
       "    <tr>\n",
       "      <th>445</th>\n",
       "      <td>2</td>\n",
       "      <td>1300</td>\n",
       "      <td>2600</td>\n",
       "      <td>15.475687</td>\n",
       "      <td>402.367873</td>\n",
       "      <td>2197.632127</td>\n",
       "    </tr>\n",
       "    <tr>\n",
       "      <th>446</th>\n",
       "      <td>6</td>\n",
       "      <td>2600</td>\n",
       "      <td>15600</td>\n",
       "      <td>17.057027</td>\n",
       "      <td>2660.896242</td>\n",
       "      <td>12939.103758</td>\n",
       "    </tr>\n",
       "    <tr>\n",
       "      <th>447</th>\n",
       "      <td>2</td>\n",
       "      <td>1600</td>\n",
       "      <td>3200</td>\n",
       "      <td>18.965550</td>\n",
       "      <td>606.897606</td>\n",
       "      <td>2593.102394</td>\n",
       "    </tr>\n",
       "    <tr>\n",
       "      <th>448</th>\n",
       "      <td>3</td>\n",
       "      <td>1900</td>\n",
       "      <td>5700</td>\n",
       "      <td>16.793014</td>\n",
       "      <td>957.201826</td>\n",
       "      <td>4742.798174</td>\n",
       "    </tr>\n",
       "    <tr>\n",
       "      <th>449</th>\n",
       "      <td>1</td>\n",
       "      <td>3100</td>\n",
       "      <td>3100</td>\n",
       "      <td>15.333300</td>\n",
       "      <td>475.332295</td>\n",
       "      <td>2624.667705</td>\n",
       "    </tr>\n",
       "  </tbody>\n",
       "</table>\n",
       "<p>450 rows × 6 columns</p>\n",
       "</div>"
      ],
      "text/plain": [
       "     Volume  Avg Price  Total Sales Value  Discount Rate (%)  Discount Amount  \\\n",
       "0        15      12100             181500          11.654820     21153.498820   \n",
       "1        10      10100             101000          11.560498     11676.102961   \n",
       "2         7      16100             112700           9.456886     10657.910157   \n",
       "3         6      20100             120600           6.935385      8364.074702   \n",
       "4         3       8100              24300          17.995663      4372.946230   \n",
       "..      ...        ...                ...                ...              ...   \n",
       "445       2       1300               2600          15.475687       402.367873   \n",
       "446       6       2600              15600          17.057027      2660.896242   \n",
       "447       2       1600               3200          18.965550       606.897606   \n",
       "448       3       1900               5700          16.793014       957.201826   \n",
       "449       1       3100               3100          15.333300       475.332295   \n",
       "\n",
       "     Net Sales Value  \n",
       "0      160346.501180  \n",
       "1       89323.897039  \n",
       "2      102042.089843  \n",
       "3      112235.925298  \n",
       "4       19927.053770  \n",
       "..               ...  \n",
       "445      2197.632127  \n",
       "446     12939.103758  \n",
       "447      2593.102394  \n",
       "448      4742.798174  \n",
       "449      2624.667705  \n",
       "\n",
       "[450 rows x 6 columns]"
      ]
     },
     "execution_count": 184,
     "metadata": {},
     "output_type": "execute_result"
    }
   ],
   "source": [
    "data[data_num]"
   ]
  },
  {
   "cell_type": "code",
   "execution_count": 185,
   "id": "343b1227",
   "metadata": {},
   "outputs": [],
   "source": [
    "for i in data_num:\n",
    "    data[i]=(data[i]-data[i].mean())/data[i].std()"
   ]
  },
  {
   "cell_type": "code",
   "execution_count": 186,
   "id": "788e9338",
   "metadata": {},
   "outputs": [
    {
     "data": {
      "text/html": [
       "<div>\n",
       "<style scoped>\n",
       "    .dataframe tbody tr th:only-of-type {\n",
       "        vertical-align: middle;\n",
       "    }\n",
       "\n",
       "    .dataframe tbody tr th {\n",
       "        vertical-align: top;\n",
       "    }\n",
       "\n",
       "    .dataframe thead th {\n",
       "        text-align: right;\n",
       "    }\n",
       "</style>\n",
       "<table border=\"1\" class=\"dataframe\">\n",
       "  <thead>\n",
       "    <tr style=\"text-align: right;\">\n",
       "      <th></th>\n",
       "      <th>Volume</th>\n",
       "      <th>Avg Price</th>\n",
       "      <th>Total Sales Value</th>\n",
       "      <th>Discount Rate (%)</th>\n",
       "      <th>Discount Amount</th>\n",
       "      <th>Net Sales Value</th>\n",
       "    </tr>\n",
       "  </thead>\n",
       "  <tbody>\n",
       "    <tr>\n",
       "      <th>0</th>\n",
       "      <td>2.347417</td>\n",
       "      <td>0.091072</td>\n",
       "      <td>2.922469</td>\n",
       "      <td>-0.829365</td>\n",
       "      <td>3.948422</td>\n",
       "      <td>2.801638</td>\n",
       "    </tr>\n",
       "    <tr>\n",
       "      <th>1</th>\n",
       "      <td>1.165831</td>\n",
       "      <td>-0.019548</td>\n",
       "      <td>1.329516</td>\n",
       "      <td>-0.851714</td>\n",
       "      <td>1.846958</td>\n",
       "      <td>1.269613</td>\n",
       "    </tr>\n",
       "    <tr>\n",
       "      <th>2</th>\n",
       "      <td>0.456880</td>\n",
       "      <td>0.312312</td>\n",
       "      <td>1.561038</td>\n",
       "      <td>-1.350129</td>\n",
       "      <td>1.621190</td>\n",
       "      <td>1.543957</td>\n",
       "    </tr>\n",
       "    <tr>\n",
       "      <th>3</th>\n",
       "      <td>0.220563</td>\n",
       "      <td>0.533552</td>\n",
       "      <td>1.717365</td>\n",
       "      <td>-1.947555</td>\n",
       "      <td>1.112568</td>\n",
       "      <td>1.763847</td>\n",
       "    </tr>\n",
       "    <tr>\n",
       "      <th>4</th>\n",
       "      <td>-0.488389</td>\n",
       "      <td>-0.130168</td>\n",
       "      <td>-0.188242</td>\n",
       "      <td>0.672990</td>\n",
       "      <td>0.227598</td>\n",
       "      <td>-0.227342</td>\n",
       "    </tr>\n",
       "    <tr>\n",
       "      <th>...</th>\n",
       "      <td>...</td>\n",
       "      <td>...</td>\n",
       "      <td>...</td>\n",
       "      <td>...</td>\n",
       "      <td>...</td>\n",
       "      <td>...</td>\n",
       "    </tr>\n",
       "    <tr>\n",
       "      <th>445</th>\n",
       "      <td>-0.724706</td>\n",
       "      <td>-0.506277</td>\n",
       "      <td>-0.617647</td>\n",
       "      <td>0.075924</td>\n",
       "      <td>-0.652815</td>\n",
       "      <td>-0.609783</td>\n",
       "    </tr>\n",
       "    <tr>\n",
       "      <th>446</th>\n",
       "      <td>0.220563</td>\n",
       "      <td>-0.434374</td>\n",
       "      <td>-0.360400</td>\n",
       "      <td>0.450596</td>\n",
       "      <td>-0.152022</td>\n",
       "      <td>-0.378079</td>\n",
       "    </tr>\n",
       "    <tr>\n",
       "      <th>447</th>\n",
       "      <td>-0.724706</td>\n",
       "      <td>-0.489684</td>\n",
       "      <td>-0.605774</td>\n",
       "      <td>0.902788</td>\n",
       "      <td>-0.607464</td>\n",
       "      <td>-0.601252</td>\n",
       "    </tr>\n",
       "    <tr>\n",
       "      <th>448</th>\n",
       "      <td>-0.488389</td>\n",
       "      <td>-0.473091</td>\n",
       "      <td>-0.556303</td>\n",
       "      <td>0.388042</td>\n",
       "      <td>-0.529789</td>\n",
       "      <td>-0.554881</td>\n",
       "    </tr>\n",
       "    <tr>\n",
       "      <th>449</th>\n",
       "      <td>-0.961023</td>\n",
       "      <td>-0.406719</td>\n",
       "      <td>-0.607753</td>\n",
       "      <td>0.042188</td>\n",
       "      <td>-0.636636</td>\n",
       "      <td>-0.600571</td>\n",
       "    </tr>\n",
       "  </tbody>\n",
       "</table>\n",
       "<p>450 rows × 6 columns</p>\n",
       "</div>"
      ],
      "text/plain": [
       "       Volume  Avg Price  Total Sales Value  Discount Rate (%)  \\\n",
       "0    2.347417   0.091072           2.922469          -0.829365   \n",
       "1    1.165831  -0.019548           1.329516          -0.851714   \n",
       "2    0.456880   0.312312           1.561038          -1.350129   \n",
       "3    0.220563   0.533552           1.717365          -1.947555   \n",
       "4   -0.488389  -0.130168          -0.188242           0.672990   \n",
       "..        ...        ...                ...                ...   \n",
       "445 -0.724706  -0.506277          -0.617647           0.075924   \n",
       "446  0.220563  -0.434374          -0.360400           0.450596   \n",
       "447 -0.724706  -0.489684          -0.605774           0.902788   \n",
       "448 -0.488389  -0.473091          -0.556303           0.388042   \n",
       "449 -0.961023  -0.406719          -0.607753           0.042188   \n",
       "\n",
       "     Discount Amount  Net Sales Value  \n",
       "0           3.948422         2.801638  \n",
       "1           1.846958         1.269613  \n",
       "2           1.621190         1.543957  \n",
       "3           1.112568         1.763847  \n",
       "4           0.227598        -0.227342  \n",
       "..               ...              ...  \n",
       "445        -0.652815        -0.609783  \n",
       "446        -0.152022        -0.378079  \n",
       "447        -0.607464        -0.601252  \n",
       "448        -0.529789        -0.554881  \n",
       "449        -0.636636        -0.600571  \n",
       "\n",
       "[450 rows x 6 columns]"
      ]
     },
     "execution_count": 186,
     "metadata": {},
     "output_type": "execute_result"
    }
   ],
   "source": [
    "data[data_num]"
   ]
  },
  {
   "cell_type": "code",
   "execution_count": 195,
   "id": "b140254e",
   "metadata": {},
   "outputs": [
    {
     "data": {
      "text/plain": [
       "[<matplotlib.lines.Line2D at 0x1714c26a110>]"
      ]
     },
     "execution_count": 195,
     "metadata": {},
     "output_type": "execute_result"
    },
    {
     "data": {
      "image/png": "[encoded data removed]",
      "text/plain": [
       "<Figure size 1200x500 with 6 Axes>"
      ]
     },
     "metadata": {},
     "output_type": "display_data"
    }
   ],
   "source": [
    "fig,axes=plt.subplots(1,6,figsize=(12,5))\n",
    "axes[0].plot(data['Volume'])\n",
    "axes[1].plot(data['Avg Price'])\n",
    "axes[2].plot(data['Total Sales Value'])\n",
    "axes[3].plot(data['Discount Rate (%)'])\n",
    "axes[4].plot(data['Discount Amount'])\n",
    "axes[5].plot(data['Net Sales Value'])"
   ]
  },
  {
   "cell_type": "code",
   "execution_count": 114,
   "id": "aff55943",
   "metadata": {},
   "outputs": [],
   "source": [
    "## now we can see standardized data"
   ]
  },
  {
   "cell_type": "code",
   "execution_count": 192,
   "id": "f30737ed",
   "metadata": {},
   "outputs": [],
   "source": [
    "import warnings\n",
    "warnings.filterwarnings('ignore')"
   ]
  },
  {
   "cell_type": "code",
   "execution_count": 193,
   "id": "c459c831",
   "metadata": {},
   "outputs": [
    {
     "data": {
      "image/png": "[encoded data removed]",
      "text/plain": [
       "<Figure size 640x480 with 1 Axes>"
      ]
     },
     "metadata": {},
     "output_type": "display_data"
    }
   ],
   "source": [
    "sns.distplot(data['Volume']);"
   ]
  },
  {
   "cell_type": "markdown",
   "id": "0dda30c7",
   "metadata": {},
   "source": [
    "# Conversion of Categorical Data into Dummy Variables"
   ]
  },
  {
   "cell_type": "code",
   "execution_count": 196,
   "id": "540949e5",
   "metadata": {},
   "outputs": [],
   "source": [
    "## One hot encoding - In dataset we have categorical as well as numerical columns however the categorical columns cannot\n",
    "## be given to machine learning algoriths. Hence we need to covert the categorical columns to numerical.\n",
    "## We have two types of categorical data, nominal data (binary class) and ordinal data (multi class).\n",
    "## To conver nominal data (like gender - male/female), we use One Hot Encoder.\n",
    "## If we have two categories (male and fenmale), by One Hot Encoder two columns will be created with male value as 1\n",
    "## and female value as 0 or vice versa.\n",
    "## If the data is ordinal we need to use Label encoder or Ordinal encoder."
   ]
  },
  {
   "cell_type": "code",
   "execution_count": 197,
   "id": "5eb03308",
   "metadata": {},
   "outputs": [
    {
     "data": {
      "text/html": [
       "<div>\n",
       "<style scoped>\n",
       "    .dataframe tbody tr th:only-of-type {\n",
       "        vertical-align: middle;\n",
       "    }\n",
       "\n",
       "    .dataframe tbody tr th {\n",
       "        vertical-align: top;\n",
       "    }\n",
       "\n",
       "    .dataframe thead th {\n",
       "        text-align: right;\n",
       "    }\n",
       "</style>\n",
       "<table border=\"1\" class=\"dataframe\">\n",
       "  <thead>\n",
       "    <tr style=\"text-align: right;\">\n",
       "      <th></th>\n",
       "      <th>Date</th>\n",
       "      <th>Day</th>\n",
       "      <th>SKU</th>\n",
       "      <th>City</th>\n",
       "      <th>Volume</th>\n",
       "      <th>BU</th>\n",
       "      <th>Brand</th>\n",
       "      <th>Model</th>\n",
       "      <th>Avg Price</th>\n",
       "      <th>Total Sales Value</th>\n",
       "      <th>Discount Rate (%)</th>\n",
       "      <th>Discount Amount</th>\n",
       "      <th>Net Sales Value</th>\n",
       "    </tr>\n",
       "  </thead>\n",
       "  <tbody>\n",
       "    <tr>\n",
       "      <th>0</th>\n",
       "      <td>01-04-2021</td>\n",
       "      <td>Thursday</td>\n",
       "      <td>M01</td>\n",
       "      <td>C</td>\n",
       "      <td>2.347417</td>\n",
       "      <td>Mobiles</td>\n",
       "      <td>RealU</td>\n",
       "      <td>RU-10</td>\n",
       "      <td>0.091072</td>\n",
       "      <td>2.922469</td>\n",
       "      <td>-0.829365</td>\n",
       "      <td>3.948422</td>\n",
       "      <td>2.801638</td>\n",
       "    </tr>\n",
       "    <tr>\n",
       "      <th>1</th>\n",
       "      <td>01-04-2021</td>\n",
       "      <td>Thursday</td>\n",
       "      <td>M02</td>\n",
       "      <td>C</td>\n",
       "      <td>1.165831</td>\n",
       "      <td>Mobiles</td>\n",
       "      <td>RealU</td>\n",
       "      <td>RU-9 Plus</td>\n",
       "      <td>-0.019548</td>\n",
       "      <td>1.329516</td>\n",
       "      <td>-0.851714</td>\n",
       "      <td>1.846958</td>\n",
       "      <td>1.269613</td>\n",
       "    </tr>\n",
       "    <tr>\n",
       "      <th>2</th>\n",
       "      <td>01-04-2021</td>\n",
       "      <td>Thursday</td>\n",
       "      <td>M03</td>\n",
       "      <td>C</td>\n",
       "      <td>0.456880</td>\n",
       "      <td>Mobiles</td>\n",
       "      <td>YouM</td>\n",
       "      <td>YM-99</td>\n",
       "      <td>0.312312</td>\n",
       "      <td>1.561038</td>\n",
       "      <td>-1.350129</td>\n",
       "      <td>1.621190</td>\n",
       "      <td>1.543957</td>\n",
       "    </tr>\n",
       "    <tr>\n",
       "      <th>3</th>\n",
       "      <td>01-04-2021</td>\n",
       "      <td>Thursday</td>\n",
       "      <td>M04</td>\n",
       "      <td>C</td>\n",
       "      <td>0.220563</td>\n",
       "      <td>Mobiles</td>\n",
       "      <td>YouM</td>\n",
       "      <td>YM-99 Plus</td>\n",
       "      <td>0.533552</td>\n",
       "      <td>1.717365</td>\n",
       "      <td>-1.947555</td>\n",
       "      <td>1.112568</td>\n",
       "      <td>1.763847</td>\n",
       "    </tr>\n",
       "    <tr>\n",
       "      <th>4</th>\n",
       "      <td>01-04-2021</td>\n",
       "      <td>Thursday</td>\n",
       "      <td>M05</td>\n",
       "      <td>C</td>\n",
       "      <td>-0.488389</td>\n",
       "      <td>Mobiles</td>\n",
       "      <td>YouM</td>\n",
       "      <td>YM-98</td>\n",
       "      <td>-0.130168</td>\n",
       "      <td>-0.188242</td>\n",
       "      <td>0.672990</td>\n",
       "      <td>0.227598</td>\n",
       "      <td>-0.227342</td>\n",
       "    </tr>\n",
       "  </tbody>\n",
       "</table>\n",
       "</div>"
      ],
      "text/plain": [
       "         Date       Day  SKU City    Volume       BU  Brand       Model  \\\n",
       "0  01-04-2021  Thursday  M01    C  2.347417  Mobiles  RealU       RU-10   \n",
       "1  01-04-2021  Thursday  M02    C  1.165831  Mobiles  RealU   RU-9 Plus   \n",
       "2  01-04-2021  Thursday  M03    C  0.456880  Mobiles   YouM       YM-99   \n",
       "3  01-04-2021  Thursday  M04    C  0.220563  Mobiles   YouM  YM-99 Plus   \n",
       "4  01-04-2021  Thursday  M05    C -0.488389  Mobiles   YouM      YM-98    \n",
       "\n",
       "   Avg Price  Total Sales Value  Discount Rate (%)  Discount Amount  \\\n",
       "0   0.091072           2.922469          -0.829365         3.948422   \n",
       "1  -0.019548           1.329516          -0.851714         1.846958   \n",
       "2   0.312312           1.561038          -1.350129         1.621190   \n",
       "3   0.533552           1.717365          -1.947555         1.112568   \n",
       "4  -0.130168          -0.188242           0.672990         0.227598   \n",
       "\n",
       "   Net Sales Value  \n",
       "0         2.801638  \n",
       "1         1.269613  \n",
       "2         1.543957  \n",
       "3         1.763847  \n",
       "4        -0.227342  "
      ]
     },
     "execution_count": 197,
     "metadata": {},
     "output_type": "execute_result"
    }
   ],
   "source": [
    "data.head()"
   ]
  },
  {
   "cell_type": "code",
   "execution_count": 204,
   "id": "c5743ad4",
   "metadata": {},
   "outputs": [
    {
     "data": {
      "text/plain": [
       "array(['M01', 'M02', 'M03', 'M04', 'M05', 'M06', 'M07', 'M08', 'M09',\n",
       "       'M10', 'F01', 'F02', 'F03', 'F04', 'F05', 'F06', 'F07', 'F08',\n",
       "       'F09', 'F10', 'L01', 'L02', 'L03', 'L04', 'L05', 'L06', 'L07',\n",
       "       'L08', 'L09', 'L10'], dtype=object)"
      ]
     },
     "execution_count": 204,
     "metadata": {},
     "output_type": "execute_result"
    }
   ],
   "source": [
    "data['SKU'].unique()"
   ]
  },
  {
   "cell_type": "code",
   "execution_count": 205,
   "id": "2b903d71",
   "metadata": {},
   "outputs": [
    {
     "data": {
      "text/plain": [
       "array(['C'], dtype=object)"
      ]
     },
     "execution_count": 205,
     "metadata": {},
     "output_type": "execute_result"
    }
   ],
   "source": [
    "data['City'].unique()"
   ]
  },
  {
   "cell_type": "code",
   "execution_count": 206,
   "id": "e7409da5",
   "metadata": {},
   "outputs": [
    {
     "data": {
      "text/plain": [
       "array(['Mobiles', 'FMCG', 'Lifestyle'], dtype=object)"
      ]
     },
     "execution_count": 206,
     "metadata": {},
     "output_type": "execute_result"
    }
   ],
   "source": [
    "data['BU'].unique()"
   ]
  },
  {
   "cell_type": "code",
   "execution_count": 207,
   "id": "a79a2d00",
   "metadata": {},
   "outputs": [
    {
     "data": {
      "text/plain": [
       "array(['RealU', 'YouM', 'Sumsang', 'Orange', 'Babaji', 'Vedic', 'Gear',\n",
       "       'Jeera', 'Viva'], dtype=object)"
      ]
     },
     "execution_count": 207,
     "metadata": {},
     "output_type": "execute_result"
    }
   ],
   "source": [
    "data['Brand'].unique()"
   ]
  },
  {
   "cell_type": "code",
   "execution_count": 209,
   "id": "2a673a18",
   "metadata": {},
   "outputs": [
    {
     "data": {
      "text/plain": [
       "array(['RU-10', 'RU-9 Plus', 'YM-99', 'YM-99 Plus', 'YM-98 ', 'RU-9',\n",
       "       'S-20', 'S-21', 'O-10', 'O-11', 'Babaji Oil ', 'Vedic Cream',\n",
       "       'Vedic Shampoo', 'Babaji Shampoo', 'Babaji Cream', 'Vedic Oil',\n",
       "       'Gear Oil', 'Gear Cream', 'Gear Shampoo', 'Gear BB Cream',\n",
       "       'M- T Shirts', 'M- Inners', 'W-Casuals', 'W-Inners', 'M-Jeans',\n",
       "       'M-Casuals', 'W-Western', 'W-Lounge', 'M-Formals', 'M-Shoes'],\n",
       "      dtype=object)"
      ]
     },
     "execution_count": 209,
     "metadata": {},
     "output_type": "execute_result"
    }
   ],
   "source": [
    "data['Model'].unique()"
   ]
  },
  {
   "cell_type": "code",
   "execution_count": 210,
   "id": "8bc100f8",
   "metadata": {},
   "outputs": [],
   "source": [
    "## Since none of the categorical column has nominal data, we can apply ordinal encoder"
   ]
  },
  {
   "cell_type": "code",
   "execution_count": 211,
   "id": "e9135c4f",
   "metadata": {},
   "outputs": [],
   "source": [
    "sku=['SKU']\n",
    "bu=['BU']\n",
    "brand=['Brand']\n",
    "model=['Model']"
   ]
  },
  {
   "cell_type": "code",
   "execution_count": 237,
   "id": "70616862",
   "metadata": {},
   "outputs": [],
   "source": [
    "from sklearn.preprocessing import OrdinalEncoder,OneHotEncoder\n",
    "from sklearn.pipeline import make_pipeline\n",
    "from sklearn.compose import ColumnTransformer"
   ]
  },
  {
   "cell_type": "code",
   "execution_count": 216,
   "id": "85097869",
   "metadata": {
    "scrolled": true
   },
   "outputs": [],
   "source": [
    "ord_enc=make_pipeline(OrdinalEncoder())"
   ]
  },
  {
   "cell_type": "code",
   "execution_count": 234,
   "id": "5026a4f3",
   "metadata": {},
   "outputs": [],
   "source": [
    "transformer=ColumnTransformer([('ordinal1',ord_enc,sku),('ordinal2',ord_enc,bu),('ordinal3',ord_enc,brand),('ordinal4',ord_enc,model)])"
   ]
  },
  {
   "cell_type": "code",
   "execution_count": 235,
   "id": "c08cee25",
   "metadata": {},
   "outputs": [
    {
     "data": {
      "text/html": [
       "<div>\n",
       "<style scoped>\n",
       "    .dataframe tbody tr th:only-of-type {\n",
       "        vertical-align: middle;\n",
       "    }\n",
       "\n",
       "    .dataframe tbody tr th {\n",
       "        vertical-align: top;\n",
       "    }\n",
       "\n",
       "    .dataframe thead th {\n",
       "        text-align: right;\n",
       "    }\n",
       "</style>\n",
       "<table border=\"1\" class=\"dataframe\">\n",
       "  <thead>\n",
       "    <tr style=\"text-align: right;\">\n",
       "      <th></th>\n",
       "      <th>ordinal1__SKU</th>\n",
       "      <th>ordinal2__BU</th>\n",
       "      <th>ordinal3__Brand</th>\n",
       "      <th>ordinal4__Model</th>\n",
       "    </tr>\n",
       "  </thead>\n",
       "  <tbody>\n",
       "    <tr>\n",
       "      <th>0</th>\n",
       "      <td>20.0</td>\n",
       "      <td>2.0</td>\n",
       "      <td>4.0</td>\n",
       "      <td>15.0</td>\n",
       "    </tr>\n",
       "    <tr>\n",
       "      <th>1</th>\n",
       "      <td>21.0</td>\n",
       "      <td>2.0</td>\n",
       "      <td>4.0</td>\n",
       "      <td>17.0</td>\n",
       "    </tr>\n",
       "    <tr>\n",
       "      <th>2</th>\n",
       "      <td>22.0</td>\n",
       "      <td>2.0</td>\n",
       "      <td>8.0</td>\n",
       "      <td>28.0</td>\n",
       "    </tr>\n",
       "    <tr>\n",
       "      <th>3</th>\n",
       "      <td>23.0</td>\n",
       "      <td>2.0</td>\n",
       "      <td>8.0</td>\n",
       "      <td>29.0</td>\n",
       "    </tr>\n",
       "    <tr>\n",
       "      <th>4</th>\n",
       "      <td>24.0</td>\n",
       "      <td>2.0</td>\n",
       "      <td>8.0</td>\n",
       "      <td>27.0</td>\n",
       "    </tr>\n",
       "    <tr>\n",
       "      <th>...</th>\n",
       "      <td>...</td>\n",
       "      <td>...</td>\n",
       "      <td>...</td>\n",
       "      <td>...</td>\n",
       "    </tr>\n",
       "    <tr>\n",
       "      <th>445</th>\n",
       "      <td>15.0</td>\n",
       "      <td>1.0</td>\n",
       "      <td>2.0</td>\n",
       "      <td>9.0</td>\n",
       "    </tr>\n",
       "    <tr>\n",
       "      <th>446</th>\n",
       "      <td>16.0</td>\n",
       "      <td>1.0</td>\n",
       "      <td>7.0</td>\n",
       "      <td>26.0</td>\n",
       "    </tr>\n",
       "    <tr>\n",
       "      <th>447</th>\n",
       "      <td>17.0</td>\n",
       "      <td>1.0</td>\n",
       "      <td>7.0</td>\n",
       "      <td>25.0</td>\n",
       "    </tr>\n",
       "    <tr>\n",
       "      <th>448</th>\n",
       "      <td>18.0</td>\n",
       "      <td>1.0</td>\n",
       "      <td>2.0</td>\n",
       "      <td>10.0</td>\n",
       "    </tr>\n",
       "    <tr>\n",
       "      <th>449</th>\n",
       "      <td>19.0</td>\n",
       "      <td>1.0</td>\n",
       "      <td>2.0</td>\n",
       "      <td>12.0</td>\n",
       "    </tr>\n",
       "  </tbody>\n",
       "</table>\n",
       "<p>450 rows × 4 columns</p>\n",
       "</div>"
      ],
      "text/plain": [
       "     ordinal1__SKU  ordinal2__BU  ordinal3__Brand  ordinal4__Model\n",
       "0             20.0           2.0              4.0             15.0\n",
       "1             21.0           2.0              4.0             17.0\n",
       "2             22.0           2.0              8.0             28.0\n",
       "3             23.0           2.0              8.0             29.0\n",
       "4             24.0           2.0              8.0             27.0\n",
       "..             ...           ...              ...              ...\n",
       "445           15.0           1.0              2.0              9.0\n",
       "446           16.0           1.0              7.0             26.0\n",
       "447           17.0           1.0              7.0             25.0\n",
       "448           18.0           1.0              2.0             10.0\n",
       "449           19.0           1.0              2.0             12.0\n",
       "\n",
       "[450 rows x 4 columns]"
      ]
     },
     "execution_count": 235,
     "metadata": {},
     "output_type": "execute_result"
    }
   ],
   "source": [
    "pd.DataFrame(transformer.fit_transform(data),columns=transformer.get_feature_names_out())"
   ]
  },
  {
   "cell_type": "code",
   "execution_count": 244,
   "id": "96dccef4",
   "metadata": {},
   "outputs": [],
   "source": [
    "## If we try to use One Hot Encoder, the resulting data is highly complex"
   ]
  },
  {
   "cell_type": "code",
   "execution_count": 236,
   "id": "d2e8fcd8",
   "metadata": {},
   "outputs": [],
   "source": [
    "data=pd.read_csv(r'C:\\D Drive\\Data_Science\\01 Assignments\\01 Basic stats - 1\\sales_data_with_discounts.csv')"
   ]
  },
  {
   "cell_type": "code",
   "execution_count": 241,
   "id": "990b2346",
   "metadata": {},
   "outputs": [],
   "source": [
    "one_hot_encoder=OneHotEncoder()"
   ]
  },
  {
   "cell_type": "code",
   "execution_count": 242,
   "id": "7d127963",
   "metadata": {},
   "outputs": [],
   "source": [
    "nom=pd.DataFrame(one_hot_encoder.fit_transform(data[['SKU']]).toarray())"
   ]
  },
  {
   "cell_type": "code",
   "execution_count": 243,
   "id": "47119571",
   "metadata": {},
   "outputs": [
    {
     "data": {
      "text/html": [
       "<div>\n",
       "<style scoped>\n",
       "    .dataframe tbody tr th:only-of-type {\n",
       "        vertical-align: middle;\n",
       "    }\n",
       "\n",
       "    .dataframe tbody tr th {\n",
       "        vertical-align: top;\n",
       "    }\n",
       "\n",
       "    .dataframe thead th {\n",
       "        text-align: right;\n",
       "    }\n",
       "</style>\n",
       "<table border=\"1\" class=\"dataframe\">\n",
       "  <thead>\n",
       "    <tr style=\"text-align: right;\">\n",
       "      <th></th>\n",
       "      <th>0</th>\n",
       "      <th>1</th>\n",
       "      <th>2</th>\n",
       "      <th>3</th>\n",
       "      <th>4</th>\n",
       "      <th>5</th>\n",
       "      <th>6</th>\n",
       "      <th>7</th>\n",
       "      <th>8</th>\n",
       "      <th>9</th>\n",
       "      <th>...</th>\n",
       "      <th>20</th>\n",
       "      <th>21</th>\n",
       "      <th>22</th>\n",
       "      <th>23</th>\n",
       "      <th>24</th>\n",
       "      <th>25</th>\n",
       "      <th>26</th>\n",
       "      <th>27</th>\n",
       "      <th>28</th>\n",
       "      <th>29</th>\n",
       "    </tr>\n",
       "  </thead>\n",
       "  <tbody>\n",
       "    <tr>\n",
       "      <th>0</th>\n",
       "      <td>0.0</td>\n",
       "      <td>0.0</td>\n",
       "      <td>0.0</td>\n",
       "      <td>0.0</td>\n",
       "      <td>0.0</td>\n",
       "      <td>0.0</td>\n",
       "      <td>0.0</td>\n",
       "      <td>0.0</td>\n",
       "      <td>0.0</td>\n",
       "      <td>0.0</td>\n",
       "      <td>...</td>\n",
       "      <td>1.0</td>\n",
       "      <td>0.0</td>\n",
       "      <td>0.0</td>\n",
       "      <td>0.0</td>\n",
       "      <td>0.0</td>\n",
       "      <td>0.0</td>\n",
       "      <td>0.0</td>\n",
       "      <td>0.0</td>\n",
       "      <td>0.0</td>\n",
       "      <td>0.0</td>\n",
       "    </tr>\n",
       "    <tr>\n",
       "      <th>1</th>\n",
       "      <td>0.0</td>\n",
       "      <td>0.0</td>\n",
       "      <td>0.0</td>\n",
       "      <td>0.0</td>\n",
       "      <td>0.0</td>\n",
       "      <td>0.0</td>\n",
       "      <td>0.0</td>\n",
       "      <td>0.0</td>\n",
       "      <td>0.0</td>\n",
       "      <td>0.0</td>\n",
       "      <td>...</td>\n",
       "      <td>0.0</td>\n",
       "      <td>1.0</td>\n",
       "      <td>0.0</td>\n",
       "      <td>0.0</td>\n",
       "      <td>0.0</td>\n",
       "      <td>0.0</td>\n",
       "      <td>0.0</td>\n",
       "      <td>0.0</td>\n",
       "      <td>0.0</td>\n",
       "      <td>0.0</td>\n",
       "    </tr>\n",
       "    <tr>\n",
       "      <th>2</th>\n",
       "      <td>0.0</td>\n",
       "      <td>0.0</td>\n",
       "      <td>0.0</td>\n",
       "      <td>0.0</td>\n",
       "      <td>0.0</td>\n",
       "      <td>0.0</td>\n",
       "      <td>0.0</td>\n",
       "      <td>0.0</td>\n",
       "      <td>0.0</td>\n",
       "      <td>0.0</td>\n",
       "      <td>...</td>\n",
       "      <td>0.0</td>\n",
       "      <td>0.0</td>\n",
       "      <td>1.0</td>\n",
       "      <td>0.0</td>\n",
       "      <td>0.0</td>\n",
       "      <td>0.0</td>\n",
       "      <td>0.0</td>\n",
       "      <td>0.0</td>\n",
       "      <td>0.0</td>\n",
       "      <td>0.0</td>\n",
       "    </tr>\n",
       "    <tr>\n",
       "      <th>3</th>\n",
       "      <td>0.0</td>\n",
       "      <td>0.0</td>\n",
       "      <td>0.0</td>\n",
       "      <td>0.0</td>\n",
       "      <td>0.0</td>\n",
       "      <td>0.0</td>\n",
       "      <td>0.0</td>\n",
       "      <td>0.0</td>\n",
       "      <td>0.0</td>\n",
       "      <td>0.0</td>\n",
       "      <td>...</td>\n",
       "      <td>0.0</td>\n",
       "      <td>0.0</td>\n",
       "      <td>0.0</td>\n",
       "      <td>1.0</td>\n",
       "      <td>0.0</td>\n",
       "      <td>0.0</td>\n",
       "      <td>0.0</td>\n",
       "      <td>0.0</td>\n",
       "      <td>0.0</td>\n",
       "      <td>0.0</td>\n",
       "    </tr>\n",
       "    <tr>\n",
       "      <th>4</th>\n",
       "      <td>0.0</td>\n",
       "      <td>0.0</td>\n",
       "      <td>0.0</td>\n",
       "      <td>0.0</td>\n",
       "      <td>0.0</td>\n",
       "      <td>0.0</td>\n",
       "      <td>0.0</td>\n",
       "      <td>0.0</td>\n",
       "      <td>0.0</td>\n",
       "      <td>0.0</td>\n",
       "      <td>...</td>\n",
       "      <td>0.0</td>\n",
       "      <td>0.0</td>\n",
       "      <td>0.0</td>\n",
       "      <td>0.0</td>\n",
       "      <td>1.0</td>\n",
       "      <td>0.0</td>\n",
       "      <td>0.0</td>\n",
       "      <td>0.0</td>\n",
       "      <td>0.0</td>\n",
       "      <td>0.0</td>\n",
       "    </tr>\n",
       "    <tr>\n",
       "      <th>...</th>\n",
       "      <td>...</td>\n",
       "      <td>...</td>\n",
       "      <td>...</td>\n",
       "      <td>...</td>\n",
       "      <td>...</td>\n",
       "      <td>...</td>\n",
       "      <td>...</td>\n",
       "      <td>...</td>\n",
       "      <td>...</td>\n",
       "      <td>...</td>\n",
       "      <td>...</td>\n",
       "      <td>...</td>\n",
       "      <td>...</td>\n",
       "      <td>...</td>\n",
       "      <td>...</td>\n",
       "      <td>...</td>\n",
       "      <td>...</td>\n",
       "      <td>...</td>\n",
       "      <td>...</td>\n",
       "      <td>...</td>\n",
       "      <td>...</td>\n",
       "    </tr>\n",
       "    <tr>\n",
       "      <th>445</th>\n",
       "      <td>0.0</td>\n",
       "      <td>0.0</td>\n",
       "      <td>0.0</td>\n",
       "      <td>0.0</td>\n",
       "      <td>0.0</td>\n",
       "      <td>0.0</td>\n",
       "      <td>0.0</td>\n",
       "      <td>0.0</td>\n",
       "      <td>0.0</td>\n",
       "      <td>0.0</td>\n",
       "      <td>...</td>\n",
       "      <td>0.0</td>\n",
       "      <td>0.0</td>\n",
       "      <td>0.0</td>\n",
       "      <td>0.0</td>\n",
       "      <td>0.0</td>\n",
       "      <td>0.0</td>\n",
       "      <td>0.0</td>\n",
       "      <td>0.0</td>\n",
       "      <td>0.0</td>\n",
       "      <td>0.0</td>\n",
       "    </tr>\n",
       "    <tr>\n",
       "      <th>446</th>\n",
       "      <td>0.0</td>\n",
       "      <td>0.0</td>\n",
       "      <td>0.0</td>\n",
       "      <td>0.0</td>\n",
       "      <td>0.0</td>\n",
       "      <td>0.0</td>\n",
       "      <td>0.0</td>\n",
       "      <td>0.0</td>\n",
       "      <td>0.0</td>\n",
       "      <td>0.0</td>\n",
       "      <td>...</td>\n",
       "      <td>0.0</td>\n",
       "      <td>0.0</td>\n",
       "      <td>0.0</td>\n",
       "      <td>0.0</td>\n",
       "      <td>0.0</td>\n",
       "      <td>0.0</td>\n",
       "      <td>0.0</td>\n",
       "      <td>0.0</td>\n",
       "      <td>0.0</td>\n",
       "      <td>0.0</td>\n",
       "    </tr>\n",
       "    <tr>\n",
       "      <th>447</th>\n",
       "      <td>0.0</td>\n",
       "      <td>0.0</td>\n",
       "      <td>0.0</td>\n",
       "      <td>0.0</td>\n",
       "      <td>0.0</td>\n",
       "      <td>0.0</td>\n",
       "      <td>0.0</td>\n",
       "      <td>0.0</td>\n",
       "      <td>0.0</td>\n",
       "      <td>0.0</td>\n",
       "      <td>...</td>\n",
       "      <td>0.0</td>\n",
       "      <td>0.0</td>\n",
       "      <td>0.0</td>\n",
       "      <td>0.0</td>\n",
       "      <td>0.0</td>\n",
       "      <td>0.0</td>\n",
       "      <td>0.0</td>\n",
       "      <td>0.0</td>\n",
       "      <td>0.0</td>\n",
       "      <td>0.0</td>\n",
       "    </tr>\n",
       "    <tr>\n",
       "      <th>448</th>\n",
       "      <td>0.0</td>\n",
       "      <td>0.0</td>\n",
       "      <td>0.0</td>\n",
       "      <td>0.0</td>\n",
       "      <td>0.0</td>\n",
       "      <td>0.0</td>\n",
       "      <td>0.0</td>\n",
       "      <td>0.0</td>\n",
       "      <td>0.0</td>\n",
       "      <td>0.0</td>\n",
       "      <td>...</td>\n",
       "      <td>0.0</td>\n",
       "      <td>0.0</td>\n",
       "      <td>0.0</td>\n",
       "      <td>0.0</td>\n",
       "      <td>0.0</td>\n",
       "      <td>0.0</td>\n",
       "      <td>0.0</td>\n",
       "      <td>0.0</td>\n",
       "      <td>0.0</td>\n",
       "      <td>0.0</td>\n",
       "    </tr>\n",
       "    <tr>\n",
       "      <th>449</th>\n",
       "      <td>0.0</td>\n",
       "      <td>0.0</td>\n",
       "      <td>0.0</td>\n",
       "      <td>0.0</td>\n",
       "      <td>0.0</td>\n",
       "      <td>0.0</td>\n",
       "      <td>0.0</td>\n",
       "      <td>0.0</td>\n",
       "      <td>0.0</td>\n",
       "      <td>0.0</td>\n",
       "      <td>...</td>\n",
       "      <td>0.0</td>\n",
       "      <td>0.0</td>\n",
       "      <td>0.0</td>\n",
       "      <td>0.0</td>\n",
       "      <td>0.0</td>\n",
       "      <td>0.0</td>\n",
       "      <td>0.0</td>\n",
       "      <td>0.0</td>\n",
       "      <td>0.0</td>\n",
       "      <td>0.0</td>\n",
       "    </tr>\n",
       "  </tbody>\n",
       "</table>\n",
       "<p>450 rows × 30 columns</p>\n",
       "</div>"
      ],
      "text/plain": [
       "      0    1    2    3    4    5    6    7    8    9   ...   20   21   22  \\\n",
       "0    0.0  0.0  0.0  0.0  0.0  0.0  0.0  0.0  0.0  0.0  ...  1.0  0.0  0.0   \n",
       "1    0.0  0.0  0.0  0.0  0.0  0.0  0.0  0.0  0.0  0.0  ...  0.0  1.0  0.0   \n",
       "2    0.0  0.0  0.0  0.0  0.0  0.0  0.0  0.0  0.0  0.0  ...  0.0  0.0  1.0   \n",
       "3    0.0  0.0  0.0  0.0  0.0  0.0  0.0  0.0  0.0  0.0  ...  0.0  0.0  0.0   \n",
       "4    0.0  0.0  0.0  0.0  0.0  0.0  0.0  0.0  0.0  0.0  ...  0.0  0.0  0.0   \n",
       "..   ...  ...  ...  ...  ...  ...  ...  ...  ...  ...  ...  ...  ...  ...   \n",
       "445  0.0  0.0  0.0  0.0  0.0  0.0  0.0  0.0  0.0  0.0  ...  0.0  0.0  0.0   \n",
       "446  0.0  0.0  0.0  0.0  0.0  0.0  0.0  0.0  0.0  0.0  ...  0.0  0.0  0.0   \n",
       "447  0.0  0.0  0.0  0.0  0.0  0.0  0.0  0.0  0.0  0.0  ...  0.0  0.0  0.0   \n",
       "448  0.0  0.0  0.0  0.0  0.0  0.0  0.0  0.0  0.0  0.0  ...  0.0  0.0  0.0   \n",
       "449  0.0  0.0  0.0  0.0  0.0  0.0  0.0  0.0  0.0  0.0  ...  0.0  0.0  0.0   \n",
       "\n",
       "      23   24   25   26   27   28   29  \n",
       "0    0.0  0.0  0.0  0.0  0.0  0.0  0.0  \n",
       "1    0.0  0.0  0.0  0.0  0.0  0.0  0.0  \n",
       "2    0.0  0.0  0.0  0.0  0.0  0.0  0.0  \n",
       "3    1.0  0.0  0.0  0.0  0.0  0.0  0.0  \n",
       "4    0.0  1.0  0.0  0.0  0.0  0.0  0.0  \n",
       "..   ...  ...  ...  ...  ...  ...  ...  \n",
       "445  0.0  0.0  0.0  0.0  0.0  0.0  0.0  \n",
       "446  0.0  0.0  0.0  0.0  0.0  0.0  0.0  \n",
       "447  0.0  0.0  0.0  0.0  0.0  0.0  0.0  \n",
       "448  0.0  0.0  0.0  0.0  0.0  0.0  0.0  \n",
       "449  0.0  0.0  0.0  0.0  0.0  0.0  0.0  \n",
       "\n",
       "[450 rows x 30 columns]"
      ]
     },
     "execution_count": 243,
     "metadata": {},
     "output_type": "execute_result"
    }
   ],
   "source": [
    "nom"
   ]
  },
  {
   "cell_type": "markdown",
   "id": "390b9d29",
   "metadata": {},
   "source": [
    "# Conclusion"
   ]
  },
  {
   "cell_type": "code",
   "execution_count": null,
   "id": "5dd9704d",
   "metadata": {},
   "outputs": [],
   "source": [
    "## Numerical columns in the given dataset have high mean and standard deviation as compared to median and mode\n",
    "## which means the data is highly skewed and indicate presence of outliers. This implies that most of the data points are\n",
    "## concentrated on the left side hence the data skewed towards right.\n",
    "## Typically mean is greater than median and tail on the right side is longer and may contain outliers.\n",
    "## Discount Rate (%) shows negative skewness means data pints are concentrated on the left side.\n",
    "## z-score normalization is a data preprocessing technique which is used to transform data into a standard normal distribution\n",
    "## ensuring that all features are on the same scale. This process helps to avoid the dominance of certain features over\n",
    "## others due to differences in their scales, which can significantly impact the performance of machine learning models.\n",
    "## Z-score normalization is also known as standardization.\n",
    "## Steps involves transforming data so that it has a mean of 0 and a standard deviation of 1.\n",
    "## One hot encoding - In dataset we have categorical as well as numerical columns however the categorical columns cannot\n",
    "## be given to machine learning algoriths. Hence we need to covert the categorical columns to numerical.\n",
    "## We have two types of categorical data, nominal data (binary class) and ordinal data (multi class).\n",
    "## To conver nominal data (like gender - male/female), we use One Hot Encoder.\n",
    "## If we have two categories (male and fenmale), by One Hot Encoder two columns will be created with male value as 1\n",
    "## and female value as 0 or vice versa.\n",
    "## If the data is ordinal we need to use Label encoder or Ordinal encoder."
   ]
  }
 ],
 "metadata": {
  "kernelspec": {
   "display_name": "Python 3 (ipykernel)",
   "language": "python",
   "name": "python3"
  },
  "language_info": {
   "codemirror_mode": {
    "name": "ipython",
    "version": 3
   },
   "file_extension": ".py",
   "mimetype": "text/x-python",
   "name": "python",
   "nbconvert_exporter": "python",
   "pygments_lexer": "ipython3",
   "version": "3.11.5"
  }
 },
 "nbformat": 4,
 "nbformat_minor": 5
}
